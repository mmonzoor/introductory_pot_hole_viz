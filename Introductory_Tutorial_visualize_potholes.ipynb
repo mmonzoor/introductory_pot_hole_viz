{
 "cells": [
  {
   "cell_type": "markdown",
   "metadata": {},
   "source": [
    "## Introductory Tutorial on Visualizing Reported Pot Holes in Toronto\n",
    "\n",
    "In this tutorial, I am covering data mining and data exploration. As a Data Scientist currently working in Canada's Payments industry, the skills covered in this notebook are some of the fundamental things I have to do on a day to day basis. The amount of work needed to gather data for analytics and research always varies with the task at hand. For example, if you are looking at payment processes involving user transactions and you are the company providing the payment service, you may not need to mine your raw data from an external source. If you are working on your own projects or writing up tutorials like I am, it is easiest to start off with publicly available data.\n",
    "\n",
    "I will be using [open data](https://www.toronto.ca/city-government/data-research-maps/open-data/open-data-catalogue/#e2634d40-0dbf-4d91-12fa-83f039307e93) provided by 311 Toronto. This API contains information about reported pot holes by residents of Toronto. This winter we have had some deep freezes followed by warm days which give rise to new pot holes. Once we have a clean dataframe an example question to ask would be what areas of the city has been reported to have a high concentration of pot holes? From a small dataset this might be hard to conclude but with further research answers like this can further help understand what kind of impact this puts on the city. Impact or the response speed can be measured in terms of the number of days required to investigate reported pot holes and how long the expected time of repair would after the initial report has been investigated. To complete our objectives, I will take you through a step-by-step guide on data mining, cleaning, and visualization.\n",
    "\n",
    "### Things you need:\n",
    "1. Python (I am using Python 3.6.6)\n",
    "2. pip (in order to install necessary packages)"
   ]
  },
  {
   "cell_type": "markdown",
   "metadata": {
    "slideshow": {
     "slide_type": "slide"
    }
   },
   "source": [
    "### 1. Install and Import Modules that We need. \n",
    "- requests package is used to make API requests to 311 Toronto's server. We are using the \"GET\" method. If you are new to REST and gathering data by making requests to APIs, I suggest you take a read through [this](https://developer.mozilla.org/en-US/docs/Learn/JavaScript/Client-side_web_APIs/Introduction).\n",
    "- Python's datatime library is very useful and not just for data science projects. Dates appear often and require extensive manipulation. In this tutorial, we define date ranges for the API request that we are making. Convering string dates to datetime objects require the use of this package. \n",
    "- Pandas has been the most important tool I have used in majority of my data science projects and it is one of the most useful libraries in Python to get familiar with if you are going to continue on this path of data science / data analytics.\n",
    "- mplleaflet is the visualization library we are going to use to display our data. It uses matplotlib and leaflet to display longitudes and latitudes on a map object. For more information, take look [here](https://github.com/jwass/mplleaflet). \n",
    "\n",
    "#### Installing Modules and their corresponding versions\n",
    "*Use the requirments.txt*\n",
    "With pip install the following or use the requirements.txt posted in the github for this project.\n",
    "\n",
    "    - pandas (I am using version 0.24.1)\n",
    "    - matplotlib ( I am using version 3.0.2)\n",
    "    - mplleaflet  \n",
    "\n",
    "If you are using Linux, you can run the commands below from my jupyter notebook with this tutorial. "
   ]
  },
  {
   "cell_type": "code",
   "execution_count": null,
   "metadata": {},
   "outputs": [],
   "source": [
    "!pip install pandas\n",
    "!pip install matplotlib\n",
    "!pip install mplleaflet"
   ]
  },
  {
   "cell_type": "markdown",
   "metadata": {},
   "source": [
    "#### Import Modules"
   ]
  },
  {
   "cell_type": "code",
   "execution_count": 1,
   "metadata": {
    "slideshow": {
     "slide_type": "subslide"
    }
   },
   "outputs": [],
   "source": [
    "import requests \n",
    "import datetime\n",
    "import pandas as pd\n",
    "pd.options.mode.chained_assignment = None\n",
    "import matplotlib.pyplot as plt\n",
    "%matplotlib inline\n",
    "import mplleaflet"
   ]
  },
  {
   "cell_type": "markdown",
   "metadata": {},
   "source": [
    "### 2. Deciding on a date range\n",
    "\n",
    "We know that pot holes are problematic during the season of freezing and thawing around late winter and spring. Knowing this, it would be interesting to look at data from this winter because we have had some alternating cold days and warm days. We have defined our date parameters below but feel free to grab this notebook from my Github and change the dates around for more insight."
   ]
  },
  {
   "cell_type": "code",
   "execution_count": 2,
   "metadata": {
    "slideshow": {
     "slide_type": "skip"
    },
    "tags": [
     "parameter"
    ]
   },
   "outputs": [],
   "source": [
    "# date range parameters\n",
    "start_date = \"2018-11-01 00:00:00\"\n",
    "end_date = \"2019-03-04 00:00:00\""
   ]
  },
  {
   "cell_type": "markdown",
   "metadata": {
    "slideshow": {
     "slide_type": "slide"
    }
   },
   "source": [
    "### 3. Understanding the imposed API Limit (1000 records)\n",
    "\n",
    "The 311 Toronto API has a limit of 1000 records in its response object. Having a size limit or a rate limit when working with APIs is more common than you may think. This is a way of ensuring that the servers are not overloaded trying to fulfill a bunch of requests and can provide a good quality of service. We have requested only 3 months of data for our date range above. I have checked to see the average number of recorded pot holes per month is usually around 1k and matches the imposed limit. We are going to take our date range and partition it into 30 day periods. This way we can make requests for each of the 30 day chunks."
   ]
  },
  {
   "cell_type": "code",
   "execution_count": 3,
   "metadata": {
    "slideshow": {
     "slide_type": "subslide"
    }
   },
   "outputs": [],
   "source": [
    "def data_partitions(start, end):\n",
    "    '''dealing with the 1k api limit'''\n",
    "    if type(start) != datetime.datetime:\n",
    "        start_date = datetime.datetime.strptime(start, '%Y-%m-%d %H:%M:%S')\n",
    "    if type(end) != datetime.datetime:\n",
    "        end_date = datetime.datetime.strptime(end, '%Y-%m-%d %H:%M:%S')\n",
    "    \n",
    "    days_total = end_date - start_date\n",
    "    print(days_total)\n",
    "    if days_total.days > 30:\n",
    "        new_end_dates = [start_date]\n",
    "        rounds = days_total.days // 30\n",
    "        for i in range(rounds):\n",
    "            new_end_dates.append(new_end_dates[-1] + datetime.timedelta(days=29))\n",
    "            new_end_dates.append(new_end_dates[-1] + datetime.timedelta(days=1))\n",
    "        if new_end_dates[-1] != end_date:\n",
    "            new_end_dates.append(end_date)\n",
    "        else:\n",
    "            end_date = end_date + datetime.timedelta(hours=23)\n",
    "            new_end_dates.append(end_date)\n",
    "        return new_end_dates\n",
    "    else:\n",
    "        return [start_date, end_date]"
   ]
  },
  {
   "cell_type": "code",
   "execution_count": 4,
   "metadata": {},
   "outputs": [
    {
     "name": "stdout",
     "output_type": "stream",
     "text": [
      "123 days, 0:00:00\n"
     ]
    },
    {
     "data": {
      "text/plain": [
       "[datetime.datetime(2018, 11, 1, 0, 0),\n",
       " datetime.datetime(2018, 11, 30, 0, 0),\n",
       " datetime.datetime(2018, 12, 1, 0, 0),\n",
       " datetime.datetime(2018, 12, 30, 0, 0),\n",
       " datetime.datetime(2018, 12, 31, 0, 0),\n",
       " datetime.datetime(2019, 1, 29, 0, 0),\n",
       " datetime.datetime(2019, 1, 30, 0, 0),\n",
       " datetime.datetime(2019, 2, 28, 0, 0),\n",
       " datetime.datetime(2019, 3, 1, 0, 0),\n",
       " datetime.datetime(2019, 3, 4, 0, 0)]"
      ]
     },
     "execution_count": 4,
     "metadata": {},
     "output_type": "execute_result"
    }
   ],
   "source": [
    "partitions = data_partitions(start_date, end_date)\n",
    "partitions"
   ]
  },
  {
   "cell_type": "markdown",
   "metadata": {},
   "source": [
    "*sync with above*\n",
    "Using the function above, we are going to take the partitions and get a bunch of start and end ranges. Since we do not want overlapping days pulling the same data, we make sure to construct our partitions this way. Meaning, we want the first chunk of days to be from 2018-01-01 to 2018-01-30. The next chunk we want to **make sure** starts from 2018-01-31 instead of 2018-01-30. Using this odd / even relationship of the list above we will construct our ranges."
   ]
  },
  {
   "cell_type": "code",
   "execution_count": 5,
   "metadata": {
    "slideshow": {
     "slide_type": "slide"
    }
   },
   "outputs": [],
   "source": [
    "# take every even numbers\n",
    "start_ranges = partitions[::2]\n",
    "# take every odd numbers\n",
    "end_ranges = partitions[1::2]"
   ]
  },
  {
   "cell_type": "markdown",
   "metadata": {},
   "source": [
    "### 4. Fetch the Actual Data\n",
    "\n",
    "It is time to make the actual api request to 311 Toronto. In our base url we have some parameters like the service_code=CSROWR-12 and this specifies we only want data for reported pot holes."
   ]
  },
  {
   "cell_type": "code",
   "execution_count": 6,
   "metadata": {},
   "outputs": [],
   "source": [
    "def data(start_range, end_range):\n",
    "    sd = start_range.isoformat() + 'Z'\n",
    "    ed = end_range.isoformat() + 'Z'\n",
    "    base_url = \"https://secure.toronto.ca/webwizard/ws/requests.json?jurisdiction_id=toronto.ca&service_code=CSROWR-12&\"\n",
    "    url = base_url+'start_date'+'='+sd+'&'+'end_date'+'='+ed\n",
    "    print(url)\n",
    "    return requests.get(url).json()    "
   ]
  },
  {
   "cell_type": "code",
   "execution_count": 7,
   "metadata": {
    "slideshow": {
     "slide_type": "subslide"
    }
   },
   "outputs": [
    {
     "name": "stdout",
     "output_type": "stream",
     "text": [
      "https://secure.toronto.ca/webwizard/ws/requests.json?jurisdiction_id=toronto.ca&service_code=CSROWR-12&start_date=2018-11-01T00:00:00Z&end_date=2018-11-30T00:00:00Z\n",
      "https://secure.toronto.ca/webwizard/ws/requests.json?jurisdiction_id=toronto.ca&service_code=CSROWR-12&start_date=2018-12-01T00:00:00Z&end_date=2018-12-30T00:00:00Z\n",
      "https://secure.toronto.ca/webwizard/ws/requests.json?jurisdiction_id=toronto.ca&service_code=CSROWR-12&start_date=2018-12-31T00:00:00Z&end_date=2019-01-29T00:00:00Z\n",
      "https://secure.toronto.ca/webwizard/ws/requests.json?jurisdiction_id=toronto.ca&service_code=CSROWR-12&start_date=2019-01-30T00:00:00Z&end_date=2019-02-28T00:00:00Z\n",
      "https://secure.toronto.ca/webwizard/ws/requests.json?jurisdiction_id=toronto.ca&service_code=CSROWR-12&start_date=2019-03-01T00:00:00Z&end_date=2019-03-04T00:00:00Z\n"
     ]
    }
   ],
   "source": [
    "data_clob = []\n",
    "i = 0\n",
    "while i < len(start_ranges):\n",
    "    data_clob.append(data(start_ranges[i], end_ranges[i]))\n",
    "    i += 1"
   ]
  },
  {
   "cell_type": "markdown",
   "metadata": {
    "slideshow": {
     "slide_type": "slide"
    }
   },
   "source": [
    "### 5. Clean the Data\n",
    "\n",
    "We know we have a giant list of responses from the get requests we made earlier. Let's take a quick look at what this looks like."
   ]
  },
  {
   "cell_type": "code",
   "execution_count": 8,
   "metadata": {},
   "outputs": [],
   "source": [
    "# uncomment below to print the result of the first pull\n",
    "#data_clob[0]"
   ]
  },
  {
   "cell_type": "markdown",
   "metadata": {},
   "source": [
    "We only pulled the first data_clob item and we see that it is a nested JSON containing records of service requests on reported pot holes. We know that the value we are interested in is the list object that is paired to the key \"service_requests\" as shown above. We are going to iterate through every data clob object and pull this list out."
   ]
  },
  {
   "cell_type": "code",
   "execution_count": 9,
   "metadata": {
    "slideshow": {
     "slide_type": "subslide"
    }
   },
   "outputs": [],
   "source": [
    "# data clob is a nested dictionary always starting with the key 'service_requests' -- clean and get only the values for this.\n",
    "data_set = []\n",
    "for result in data_clob:\n",
    "    val = result['service_requests']\n",
    "    data_set.append(val)\n",
    "\n",
    "# combine partitioned lists into a single list object\n",
    "data_set = sum(data_set, [])"
   ]
  },
  {
   "cell_type": "markdown",
   "metadata": {
    "slideshow": {
     "slide_type": "slide"
    }
   },
   "source": [
    "### 6. Construct Base DataFrame\n",
    "\n",
    "This is where the magic of Pandas come into play. Pandas can read your data from a bunch of formats like csv, dictionary, lists and put it into a data frame for you."
   ]
  },
  {
   "cell_type": "code",
   "execution_count": 10,
   "metadata": {
    "slideshow": {
     "slide_type": "subslide"
    }
   },
   "outputs": [
    {
     "data": {
      "text/html": [
       "<div>\n",
       "<style scoped>\n",
       "    .dataframe tbody tr th:only-of-type {\n",
       "        vertical-align: middle;\n",
       "    }\n",
       "\n",
       "    .dataframe tbody tr th {\n",
       "        vertical-align: top;\n",
       "    }\n",
       "\n",
       "    .dataframe thead th {\n",
       "        text-align: right;\n",
       "    }\n",
       "</style>\n",
       "<table border=\"1\" class=\"dataframe\">\n",
       "  <thead>\n",
       "    <tr style=\"text-align: right;\">\n",
       "      <th></th>\n",
       "      <th>address</th>\n",
       "      <th>address_id</th>\n",
       "      <th>agency_responsible</th>\n",
       "      <th>description</th>\n",
       "      <th>expected_datetime</th>\n",
       "      <th>lat</th>\n",
       "      <th>long</th>\n",
       "      <th>media_url</th>\n",
       "      <th>requested_datetime</th>\n",
       "      <th>service_code</th>\n",
       "      <th>service_name</th>\n",
       "      <th>service_notice</th>\n",
       "      <th>service_request_id</th>\n",
       "      <th>status</th>\n",
       "      <th>status_notes</th>\n",
       "      <th>updated_datetime</th>\n",
       "      <th>zipcode</th>\n",
       "    </tr>\n",
       "  </thead>\n",
       "  <tbody>\n",
       "    <tr>\n",
       "      <th>0</th>\n",
       "      <td>2 Wyndcliff Cres, North York, Ward: Don Valley...</td>\n",
       "      <td>577825.0</td>\n",
       "      <td>311 Toronto</td>\n",
       "      <td>None</td>\n",
       "      <td>2022-11-29T17:01:00-05:00</td>\n",
       "      <td>43.735401</td>\n",
       "      <td>-79.317378</td>\n",
       "      <td>None</td>\n",
       "      <td>2018-11-29T17:01:00-05:00</td>\n",
       "      <td>CSROWR-12</td>\n",
       "      <td>Road - Pot hole</td>\n",
       "      <td>None</td>\n",
       "      <td>101005623750</td>\n",
       "      <td>closed</td>\n",
       "      <td>Completed - The request has been concluded.</td>\n",
       "      <td>2018-11-30T14:02:00-05:00</td>\n",
       "      <td>None</td>\n",
       "    </tr>\n",
       "    <tr>\n",
       "      <th>1</th>\n",
       "      <td>2455 Eglinton Ave E, , Scarborough, Ward: Scar...</td>\n",
       "      <td>6674325.0</td>\n",
       "      <td>311 Toronto</td>\n",
       "      <td>None</td>\n",
       "      <td>2019-02-27T16:04:00-05:00</td>\n",
       "      <td>43.731228</td>\n",
       "      <td>-79.267562</td>\n",
       "      <td>None</td>\n",
       "      <td>2018-11-29T16:04:00-05:00</td>\n",
       "      <td>CSROWR-12</td>\n",
       "      <td>Road - Pot hole</td>\n",
       "      <td>None</td>\n",
       "      <td>101005623708</td>\n",
       "      <td>closed</td>\n",
       "      <td>Completed - The request has been concluded.</td>\n",
       "      <td>2018-12-06T07:00:00-05:00</td>\n",
       "      <td>None</td>\n",
       "    </tr>\n",
       "    <tr>\n",
       "      <th>2</th>\n",
       "      <td>776 Cummer Ave, North York, Ward: Willowdale (...</td>\n",
       "      <td>504954.0</td>\n",
       "      <td>311 Toronto</td>\n",
       "      <td>None</td>\n",
       "      <td>2018-12-03T15:01:00-05:00</td>\n",
       "      <td>43.798456</td>\n",
       "      <td>-79.378222</td>\n",
       "      <td>None</td>\n",
       "      <td>2018-11-29T15:01:00-05:00</td>\n",
       "      <td>CSROWR-12</td>\n",
       "      <td>Road - Pot hole</td>\n",
       "      <td>None</td>\n",
       "      <td>101005623487</td>\n",
       "      <td>closed</td>\n",
       "      <td>Completed - The request has been concluded.</td>\n",
       "      <td>2018-12-03T05:05:00-05:00</td>\n",
       "      <td>None</td>\n",
       "    </tr>\n",
       "    <tr>\n",
       "      <th>3</th>\n",
       "      <td>Steeles Ave E / Kennedy Rd, Scarborough</td>\n",
       "      <td>13441814.0</td>\n",
       "      <td>311 Toronto</td>\n",
       "      <td>None</td>\n",
       "      <td>2019-02-27T15:00:00-05:00</td>\n",
       "      <td>43.823699</td>\n",
       "      <td>-79.307070</td>\n",
       "      <td>None</td>\n",
       "      <td>2018-11-29T15:00:00-05:00</td>\n",
       "      <td>CSROWR-12</td>\n",
       "      <td>Road - Pot hole</td>\n",
       "      <td>None</td>\n",
       "      <td>101005623421</td>\n",
       "      <td>closed</td>\n",
       "      <td>Completed - The request has been concluded.</td>\n",
       "      <td>2018-12-03T06:03:00-05:00</td>\n",
       "      <td>None</td>\n",
       "    </tr>\n",
       "    <tr>\n",
       "      <th>4</th>\n",
       "      <td>225 Carmichael Ave, North York, Ward: Eglinton...</td>\n",
       "      <td>7110988.0</td>\n",
       "      <td>311 Toronto</td>\n",
       "      <td>None</td>\n",
       "      <td>2018-12-03T15:00:00-05:00</td>\n",
       "      <td>43.734946</td>\n",
       "      <td>-79.431270</td>\n",
       "      <td>None</td>\n",
       "      <td>2018-11-29T15:00:00-05:00</td>\n",
       "      <td>CSROWR-12</td>\n",
       "      <td>Road - Pot hole</td>\n",
       "      <td>None</td>\n",
       "      <td>101005623420</td>\n",
       "      <td>closed</td>\n",
       "      <td>Completed - The request has been concluded.</td>\n",
       "      <td>2018-12-03T12:05:00-05:00</td>\n",
       "      <td>None</td>\n",
       "    </tr>\n",
       "  </tbody>\n",
       "</table>\n",
       "</div>"
      ],
      "text/plain": [
       "                                             address  address_id  \\\n",
       "0  2 Wyndcliff Cres, North York, Ward: Don Valley...    577825.0   \n",
       "1  2455 Eglinton Ave E, , Scarborough, Ward: Scar...   6674325.0   \n",
       "2  776 Cummer Ave, North York, Ward: Willowdale (...    504954.0   \n",
       "3            Steeles Ave E / Kennedy Rd, Scarborough  13441814.0   \n",
       "4  225 Carmichael Ave, North York, Ward: Eglinton...   7110988.0   \n",
       "\n",
       "  agency_responsible description          expected_datetime        lat  \\\n",
       "0        311 Toronto        None  2022-11-29T17:01:00-05:00  43.735401   \n",
       "1        311 Toronto        None  2019-02-27T16:04:00-05:00  43.731228   \n",
       "2        311 Toronto        None  2018-12-03T15:01:00-05:00  43.798456   \n",
       "3        311 Toronto        None  2019-02-27T15:00:00-05:00  43.823699   \n",
       "4        311 Toronto        None  2018-12-03T15:00:00-05:00  43.734946   \n",
       "\n",
       "        long media_url         requested_datetime service_code  \\\n",
       "0 -79.317378      None  2018-11-29T17:01:00-05:00    CSROWR-12   \n",
       "1 -79.267562      None  2018-11-29T16:04:00-05:00    CSROWR-12   \n",
       "2 -79.378222      None  2018-11-29T15:01:00-05:00    CSROWR-12   \n",
       "3 -79.307070      None  2018-11-29T15:00:00-05:00    CSROWR-12   \n",
       "4 -79.431270      None  2018-11-29T15:00:00-05:00    CSROWR-12   \n",
       "\n",
       "      service_name service_notice  service_request_id  status  \\\n",
       "0  Road - Pot hole           None        101005623750  closed   \n",
       "1  Road - Pot hole           None        101005623708  closed   \n",
       "2  Road - Pot hole           None        101005623487  closed   \n",
       "3  Road - Pot hole           None        101005623421  closed   \n",
       "4  Road - Pot hole           None        101005623420  closed   \n",
       "\n",
       "                                  status_notes           updated_datetime  \\\n",
       "0  Completed - The request has been concluded.  2018-11-30T14:02:00-05:00   \n",
       "1  Completed - The request has been concluded.  2018-12-06T07:00:00-05:00   \n",
       "2  Completed - The request has been concluded.  2018-12-03T05:05:00-05:00   \n",
       "3  Completed - The request has been concluded.  2018-12-03T06:03:00-05:00   \n",
       "4  Completed - The request has been concluded.  2018-12-03T12:05:00-05:00   \n",
       "\n",
       "  zipcode  \n",
       "0    None  \n",
       "1    None  \n",
       "2    None  \n",
       "3    None  \n",
       "4    None  "
      ]
     },
     "execution_count": 10,
     "metadata": {},
     "output_type": "execute_result"
    }
   ],
   "source": [
    "df_raw = pd.DataFrame.from_dict(data_set)\n",
    "# head() shows you first five rows but you can see more by running an int parameter like df_raw.head(10)\n",
    "df_raw.head()"
   ]
  },
  {
   "cell_type": "markdown",
   "metadata": {
    "slideshow": {
     "slide_type": "slide"
    }
   },
   "source": [
    "### 7. Data Post-Processing\n",
    "From the readme doc posted by 311 Toronto we know the following:\n",
    "- agency_responsible always set to 311 Toronto\n",
    "- service_notice: not returned\n",
    "- zipcode: not returned \n",
    "\n",
    "Based on this information, we will clean up the dataframe by dropping the corresponding columns. In the code below, I am using the .drop method where I can specify if I am dropping columns or rows. Since I am dropping columns, axis=1."
   ]
  },
  {
   "cell_type": "code",
   "execution_count": 11,
   "metadata": {
    "slideshow": {
     "slide_type": "subslide"
    }
   },
   "outputs": [],
   "source": [
    "df_delta_days = df_raw.drop(['agency_responsible', 'service_notice', 'zipcode'], axis=1)"
   ]
  },
  {
   "cell_type": "markdown",
   "metadata": {
    "slideshow": {
     "slide_type": "slide"
    }
   },
   "source": [
    "### 8. Actual Calculations\n",
    "\n",
    "##### Calculate Difference in Days between Updated Case Date and Expected Date\n",
    "\n",
    "The time value columns are in string format and with the code below we convert it to a datetime object. We want our datetime object to be in UTC so utc is set to true below."
   ]
  },
  {
   "cell_type": "code",
   "execution_count": 12,
   "metadata": {
    "slideshow": {
     "slide_type": "subslide"
    }
   },
   "outputs": [],
   "source": [
    "df_delta_days['requested_datetime'] = pd.to_datetime(df_raw.requested_datetime, utc=True)\n",
    "df_delta_days['updated_datetime'] = pd.to_datetime(df_raw.updated_datetime, utc=True)\n",
    "df_delta_days['expected_datetime'] = pd.to_datetime(df_raw.expected_datetime, utc=True)"
   ]
  },
  {
   "cell_type": "markdown",
   "metadata": {
    "slideshow": {
     "slide_type": "slide"
    }
   },
   "source": [
    "### 9. How long does the city take to respond and investigate?\n",
    "Since the days from the request_date and the updated_datetime indicate the investigation period, this would be an interesting parameter to calculate. We will call this investigation_days. \n",
    "Below we are creating a new Pandas column that looks at the difference between the updated timestamp (indicating the last action taken on the item) and the requested time (time the report was made)."
   ]
  },
  {
   "cell_type": "code",
   "execution_count": 13,
   "metadata": {
    "scrolled": true,
    "slideshow": {
     "slide_type": "slide"
    }
   },
   "outputs": [],
   "source": [
    "df_delta_days['investigation_days'] = df_delta_days.updated_datetime - df_delta_days.requested_datetime"
   ]
  },
  {
   "cell_type": "code",
   "execution_count": 14,
   "metadata": {
    "slideshow": {
     "slide_type": "slide"
    }
   },
   "outputs": [],
   "source": [
    "df_delta_days['repair_days'] = df_delta_days.expected_datetime.values.astype('datetime64[D]') - df_delta_days.updated_datetime.values.astype('datetime64[D]')"
   ]
  },
  {
   "cell_type": "markdown",
   "metadata": {
    "slideshow": {
     "slide_type": "slide"
    }
   },
   "source": [
    "#### Further cleaning - drop nulls"
   ]
  },
  {
   "cell_type": "code",
   "execution_count": 15,
   "metadata": {
    "slideshow": {
     "slide_type": "subslide"
    }
   },
   "outputs": [],
   "source": [
    "df_delta_days = df_delta_days.dropna()"
   ]
  },
  {
   "cell_type": "code",
   "execution_count": 16,
   "metadata": {
    "slideshow": {
     "slide_type": "subslide"
    }
   },
   "outputs": [
    {
     "data": {
      "text/html": [
       "<div>\n",
       "<style scoped>\n",
       "    .dataframe tbody tr th:only-of-type {\n",
       "        vertical-align: middle;\n",
       "    }\n",
       "\n",
       "    .dataframe tbody tr th {\n",
       "        vertical-align: top;\n",
       "    }\n",
       "\n",
       "    .dataframe thead th {\n",
       "        text-align: right;\n",
       "    }\n",
       "</style>\n",
       "<table border=\"1\" class=\"dataframe\">\n",
       "  <thead>\n",
       "    <tr style=\"text-align: right;\">\n",
       "      <th></th>\n",
       "      <th>address</th>\n",
       "      <th>address_id</th>\n",
       "      <th>description</th>\n",
       "      <th>expected_datetime</th>\n",
       "      <th>lat</th>\n",
       "      <th>long</th>\n",
       "      <th>media_url</th>\n",
       "      <th>requested_datetime</th>\n",
       "      <th>service_code</th>\n",
       "      <th>service_name</th>\n",
       "      <th>service_request_id</th>\n",
       "      <th>status</th>\n",
       "      <th>status_notes</th>\n",
       "      <th>updated_datetime</th>\n",
       "      <th>investigation_days</th>\n",
       "      <th>repair_days</th>\n",
       "    </tr>\n",
       "  </thead>\n",
       "  <tbody>\n",
       "    <tr>\n",
       "      <th>22</th>\n",
       "      <td>1883 McNicoll Ave, Scarborough, Ward: Scarboro...</td>\n",
       "      <td>9668413.0</td>\n",
       "      <td>64m w. of Kennedy measured by pedometer on the...</td>\n",
       "      <td>2018-12-03 17:01:00+00:00</td>\n",
       "      <td>43.811540</td>\n",
       "      <td>-79.302262</td>\n",
       "      <td>http://seeclickfix.com/files/issue_images/0120...</td>\n",
       "      <td>2018-11-29 17:01:00+00:00</td>\n",
       "      <td>CSROWR-12</td>\n",
       "      <td>Road - Pot hole</td>\n",
       "      <td>101005622995</td>\n",
       "      <td>closed</td>\n",
       "      <td>Completed - The request has been concluded.</td>\n",
       "      <td>2018-11-29 18:02:00+00:00</td>\n",
       "      <td>0 days 01:01:00</td>\n",
       "      <td>4 days</td>\n",
       "    </tr>\n",
       "    <tr>\n",
       "      <th>27</th>\n",
       "      <td>63 McCool Crt, Scarborough, Ward: Scarborough-...</td>\n",
       "      <td>5024145.0</td>\n",
       "      <td>275m n. of McNicoll Ave. measured by pedometer...</td>\n",
       "      <td>2018-12-03 16:02:00+00:00</td>\n",
       "      <td>43.818150</td>\n",
       "      <td>-79.283483</td>\n",
       "      <td>http://seeclickfix.com/files/issue_images/0120...</td>\n",
       "      <td>2018-11-29 16:02:00+00:00</td>\n",
       "      <td>CSROWR-12</td>\n",
       "      <td>Road - Pot hole</td>\n",
       "      <td>101005622805</td>\n",
       "      <td>closed</td>\n",
       "      <td>Completed - The request has been concluded.</td>\n",
       "      <td>2018-11-29 18:03:00+00:00</td>\n",
       "      <td>0 days 02:01:00</td>\n",
       "      <td>4 days</td>\n",
       "    </tr>\n",
       "    <tr>\n",
       "      <th>31</th>\n",
       "      <td>1755 Brimley Rd, Scarborough, Loblaws, Ward: S...</td>\n",
       "      <td>20081688.0</td>\n",
       "      <td>S. end of bridge over Hwy. 401, 104m and 92m m...</td>\n",
       "      <td>2018-12-03 15:02:00+00:00</td>\n",
       "      <td>43.778160</td>\n",
       "      <td>-79.263321</td>\n",
       "      <td>http://seeclickfix.com/files/issue_images/0120...</td>\n",
       "      <td>2018-11-29 15:02:00+00:00</td>\n",
       "      <td>CSROWR-12</td>\n",
       "      <td>Road - Pot hole</td>\n",
       "      <td>101005622651</td>\n",
       "      <td>closed</td>\n",
       "      <td>Completed - The request has been concluded.</td>\n",
       "      <td>2018-11-30 18:05:00+00:00</td>\n",
       "      <td>1 days 03:03:00</td>\n",
       "      <td>3 days</td>\n",
       "    </tr>\n",
       "    <tr>\n",
       "      <th>37</th>\n",
       "      <td>3555 Danforth Ave, Scarborough, Chester Villag...</td>\n",
       "      <td>20063025.0</td>\n",
       "      <td>105m w. of Warden Ave. measured by pedometer, ...</td>\n",
       "      <td>2022-11-29 13:03:00+00:00</td>\n",
       "      <td>43.693787</td>\n",
       "      <td>-79.274737</td>\n",
       "      <td>http://seeclickfix.com/files/issue_images/0120...</td>\n",
       "      <td>2018-11-29 13:03:00+00:00</td>\n",
       "      <td>CSROWR-12</td>\n",
       "      <td>Road - Pot hole</td>\n",
       "      <td>101005622366</td>\n",
       "      <td>closed</td>\n",
       "      <td>Completed - The request has been concluded.</td>\n",
       "      <td>2018-11-30 18:03:00+00:00</td>\n",
       "      <td>1 days 05:00:00</td>\n",
       "      <td>1460 days</td>\n",
       "    </tr>\n",
       "    <tr>\n",
       "      <th>57</th>\n",
       "      <td>1025 Lake Shore Blvd E, former Toronto, Ward: ...</td>\n",
       "      <td>20154275.0</td>\n",
       "      <td>This is DANGEROUS.  Broken concrete around str...</td>\n",
       "      <td>2022-11-28 19:01:00+00:00</td>\n",
       "      <td>43.658356</td>\n",
       "      <td>-79.328929</td>\n",
       "      <td>http://seeclickfix.com/files/issue_images/0118...</td>\n",
       "      <td>2018-11-28 19:01:00+00:00</td>\n",
       "      <td>CSROWR-12</td>\n",
       "      <td>Road - Pot hole</td>\n",
       "      <td>101005621507</td>\n",
       "      <td>closed</td>\n",
       "      <td>Completed - The request has been concluded.</td>\n",
       "      <td>2018-12-05 14:05:00+00:00</td>\n",
       "      <td>6 days 19:04:00</td>\n",
       "      <td>1454 days</td>\n",
       "    </tr>\n",
       "  </tbody>\n",
       "</table>\n",
       "</div>"
      ],
      "text/plain": [
       "                                              address  address_id  \\\n",
       "22  1883 McNicoll Ave, Scarborough, Ward: Scarboro...   9668413.0   \n",
       "27  63 McCool Crt, Scarborough, Ward: Scarborough-...   5024145.0   \n",
       "31  1755 Brimley Rd, Scarborough, Loblaws, Ward: S...  20081688.0   \n",
       "37  3555 Danforth Ave, Scarborough, Chester Villag...  20063025.0   \n",
       "57  1025 Lake Shore Blvd E, former Toronto, Ward: ...  20154275.0   \n",
       "\n",
       "                                          description  \\\n",
       "22  64m w. of Kennedy measured by pedometer on the...   \n",
       "27  275m n. of McNicoll Ave. measured by pedometer...   \n",
       "31  S. end of bridge over Hwy. 401, 104m and 92m m...   \n",
       "37  105m w. of Warden Ave. measured by pedometer, ...   \n",
       "57  This is DANGEROUS.  Broken concrete around str...   \n",
       "\n",
       "           expected_datetime        lat       long  \\\n",
       "22 2018-12-03 17:01:00+00:00  43.811540 -79.302262   \n",
       "27 2018-12-03 16:02:00+00:00  43.818150 -79.283483   \n",
       "31 2018-12-03 15:02:00+00:00  43.778160 -79.263321   \n",
       "37 2022-11-29 13:03:00+00:00  43.693787 -79.274737   \n",
       "57 2022-11-28 19:01:00+00:00  43.658356 -79.328929   \n",
       "\n",
       "                                            media_url  \\\n",
       "22  http://seeclickfix.com/files/issue_images/0120...   \n",
       "27  http://seeclickfix.com/files/issue_images/0120...   \n",
       "31  http://seeclickfix.com/files/issue_images/0120...   \n",
       "37  http://seeclickfix.com/files/issue_images/0120...   \n",
       "57  http://seeclickfix.com/files/issue_images/0118...   \n",
       "\n",
       "          requested_datetime service_code     service_name  \\\n",
       "22 2018-11-29 17:01:00+00:00    CSROWR-12  Road - Pot hole   \n",
       "27 2018-11-29 16:02:00+00:00    CSROWR-12  Road - Pot hole   \n",
       "31 2018-11-29 15:02:00+00:00    CSROWR-12  Road - Pot hole   \n",
       "37 2018-11-29 13:03:00+00:00    CSROWR-12  Road - Pot hole   \n",
       "57 2018-11-28 19:01:00+00:00    CSROWR-12  Road - Pot hole   \n",
       "\n",
       "    service_request_id  status                                 status_notes  \\\n",
       "22        101005622995  closed  Completed - The request has been concluded.   \n",
       "27        101005622805  closed  Completed - The request has been concluded.   \n",
       "31        101005622651  closed  Completed - The request has been concluded.   \n",
       "37        101005622366  closed  Completed - The request has been concluded.   \n",
       "57        101005621507  closed  Completed - The request has been concluded.   \n",
       "\n",
       "            updated_datetime investigation_days repair_days  \n",
       "22 2018-11-29 18:02:00+00:00    0 days 01:01:00      4 days  \n",
       "27 2018-11-29 18:03:00+00:00    0 days 02:01:00      4 days  \n",
       "31 2018-11-30 18:05:00+00:00    1 days 03:03:00      3 days  \n",
       "37 2018-11-30 18:03:00+00:00    1 days 05:00:00   1460 days  \n",
       "57 2018-12-05 14:05:00+00:00    6 days 19:04:00   1454 days  "
      ]
     },
     "execution_count": 16,
     "metadata": {},
     "output_type": "execute_result"
    }
   ],
   "source": [
    "df_delta_days.head()"
   ]
  },
  {
   "cell_type": "code",
   "execution_count": 17,
   "metadata": {},
   "outputs": [
    {
     "data": {
      "text/plain": [
       "49"
      ]
     },
     "execution_count": 17,
     "metadata": {},
     "output_type": "execute_result"
    }
   ],
   "source": [
    "# number of total records\n",
    "# Why shape[0]?\n",
    "df_delta_days.shape[0]"
   ]
  },
  {
   "cell_type": "markdown",
   "metadata": {},
   "source": [
    "Some things to notice is that we see records that have over 1400 days for expected repair. This might be because it is an auto-populated field that gets filled under certain conditions and then re-updated at a later date. We can't be sure since it is not our data but it is something to keep in mind. "
   ]
  },
  {
   "cell_type": "markdown",
   "metadata": {
    "slideshow": {
     "slide_type": "slide"
    }
   },
   "source": [
    "### 10.Visualization Investigation\n",
    "\n",
    "We want to know what the average length of investigation and repair in days. Based on this, we want to create a threshold. Any record that took less than or equal to the average time to investigate we are going to assume are fast investigations. We are going to follow a similar logic for the repair days."
   ]
  },
  {
   "cell_type": "code",
   "execution_count": 18,
   "metadata": {
    "slideshow": {
     "slide_type": "subslide"
    }
   },
   "outputs": [],
   "source": [
    "# Load longitude, latitude data\n",
    "# slow investigations\n",
    "mean_days = (df_delta_days['investigation_days'].values).mean()\n",
    "slow_long = df_delta_days[df_delta_days.investigation_days.values > mean_days].long\n",
    "slow_lat = df_delta_days[df_delta_days.investigation_days > mean_days].lat\n",
    "\n",
    "#quick investigations\n",
    "fast_long = df_delta_days[df_delta_days.investigation_days.values <= mean_days].long\n",
    "fast_lat = df_delta_days[df_delta_days['investigation_days'] <= mean_days].lat\n",
    "\n",
    "# slow repairs\n",
    "mean_repairs = (df_delta_days['repair_days'].values).mean()\n",
    "slow_long_r = df_delta_days[df_delta_days.repair_days.values > mean_repairs].long\n",
    "slow_lat_r = df_delta_days[df_delta_days.repair_days.values > mean_repairs].lat\n",
    "\n",
    "#quick repairs\n",
    "fast_long_r = df_delta_days[df_delta_days.repair_days.values <= mean_repairs].long\n",
    "fast_lat_r = df_delta_days[df_delta_days.repair_days.values <= mean_repairs].lat"
   ]
  },
  {
   "cell_type": "markdown",
   "metadata": {},
   "source": [
    "### Plot our findings above on a map."
   ]
  },
  {
   "cell_type": "code",
   "execution_count": 19,
   "metadata": {},
   "outputs": [
    {
     "name": "stderr",
     "output_type": "stream",
     "text": [
      "/home/mmonzoor/.pyenv/versions/intro_algorithms/envs/311_api/lib/python3.6/site-packages/IPython/core/display.py:689: UserWarning: Consider using IPython.display.IFrame instead\n",
      "  warnings.warn(\"Consider using IPython.display.IFrame instead\")\n"
     ]
    },
    {
     "data": {
      "text/html": [
       "<iframe src=\"data:text/html;base64,PGhlYWQ+CiAgICA8c2NyaXB0IHNyYz0iaHR0cHM6Ly9jZG5qcy5jbG91ZGZsYXJlLmNvbS9hamF4L2xpYnMvbGVhZmxldC8wLjcuMy9sZWFmbGV0LmpzIj48L3NjcmlwdD4KICAgIDxsaW5rIHJlbD0ic3R5bGVzaGVldCIgaHJlZj0iaHR0cHM6Ly9jZG5qcy5jbG91ZGZsYXJlLmNvbS9hamF4L2xpYnMvbGVhZmxldC8wLjcuMy9sZWFmbGV0LmNzcyIgLz4KICA8c3R5bGU+CiAgICAjbWFwMjYzYWU4MmVhN2JhNDczZjkzODE1NGEyODIxMzA4MzQgewogICAgICBoZWlnaHQ6MTAwJTsKICAgIH0KICA8L3N0eWxlPiAKPC9oZWFkPgo8Ym9keT4KICA8ZGl2IGlkPSJtYXAyNjNhZTgyZWE3YmE0NzNmOTM4MTU0YTI4MjEzMDgzNCI+PC9kaXY+CjxzY3JpcHQgdGV4dD0idGV4dC9qYXZhc2NyaXB0Ij4KdmFyIG1hcCA9IEwubWFwKCdtYXAyNjNhZTgyZWE3YmE0NzNmOTM4MTU0YTI4MjEzMDgzNCcpOwpMLnRpbGVMYXllcigKICAiaHR0cDovL3tzfS50aWxlLm9wZW5zdHJlZXRtYXAub3JnL3t6fS97eH0ve3l9LnBuZyIsCiAge21heFpvb206MTksIGF0dHJpYnV0aW9uOiAnPGEgaHJlZj0iaHR0cHM6Ly9naXRodWIuY29tL2p3YXNzL21wbGxlYWZsZXQiPm1wbGxlYWZsZXQ8L2E+IHwgTWFwIGRhdGEgKGMpIDxhIGhyZWY9Imh0dHA6Ly9vcGVuc3RyZWV0bWFwLm9yZyI+T3BlblN0cmVldE1hcDwvYT4gY29udHJpYnV0b3JzJ30pLmFkZFRvKG1hcCk7CnZhciBnakRhdGEgPSB7InR5cGUiOiAiRmVhdHVyZUNvbGxlY3Rpb24iLCAiZmVhdHVyZXMiOiBbeyJ0eXBlIjogIkZlYXR1cmUiLCAiZ2VvbWV0cnkiOiB7InR5cGUiOiAiUG9pbnQiLCAiY29vcmRpbmF0ZXMiOiBbLTc5LjI3NDczNzQ4MDQsIDQzLjY5Mzc4Njg3OTldfSwgInByb3BlcnRpZXMiOiB7Imh0bWwiOiAiPHN2ZyB3aWR0aD1cIjhweFwiIGhlaWdodD1cIjhweFwiIHZpZXdCb3g9XCItNC4wIC00LjAgOC4wIDguMFwiIHhtbG5zPVwiaHR0cDovL3d3dy53My5vcmcvMjAwMC9zdmdcIiB2ZXJzaW9uPVwiMS4xXCI+ICA8cGF0aCBkPVwiTSAtMy4wIC0zLjAgTCAzLjAgLTMuMCBMIDMuMCAzLjAgTCAtMy4wIDMuMCBaXCIgc3Ryb2tlPVwiI0ZGMDAwMFwiIHN0cm9rZS13aWR0aD1cIjEuMFwiIHN0cm9rZS1vcGFjaXR5PVwiMVwiIGZpbGw9XCIjRkYwMDAwXCIgZmlsbC1vcGFjaXR5PVwiMVwiIC8+PC9zdmc+IiwgImFuY2hvcl94IjogNC4wLCAiYW5jaG9yX3kiOiA0LjB9fSwgeyJ0eXBlIjogIkZlYXR1cmUiLCAiZ2VvbWV0cnkiOiB7InR5cGUiOiAiUG9pbnQiLCAiY29vcmRpbmF0ZXMiOiBbLTc5LjMyODkyOTI5NjgsIDQzLjY1ODM1NTg1MTJdfSwgInByb3BlcnRpZXMiOiB7Imh0bWwiOiAiPHN2ZyB3aWR0aD1cIjhweFwiIGhlaWdodD1cIjhweFwiIHZpZXdCb3g9XCItNC4wIC00LjAgOC4wIDguMFwiIHhtbG5zPVwiaHR0cDovL3d3dy53My5vcmcvMjAwMC9zdmdcIiB2ZXJzaW9uPVwiMS4xXCI+ICA8cGF0aCBkPVwiTSAtMy4wIC0zLjAgTCAzLjAgLTMuMCBMIDMuMCAzLjAgTCAtMy4wIDMuMCBaXCIgc3Ryb2tlPVwiI0ZGMDAwMFwiIHN0cm9rZS13aWR0aD1cIjEuMFwiIHN0cm9rZS1vcGFjaXR5PVwiMVwiIGZpbGw9XCIjRkYwMDAwXCIgZmlsbC1vcGFjaXR5PVwiMVwiIC8+PC9zdmc+IiwgImFuY2hvcl94IjogNC4wLCAiYW5jaG9yX3kiOiA0LjB9fSwgeyJ0eXBlIjogIkZlYXR1cmUiLCAiZ2VvbWV0cnkiOiB7InR5cGUiOiAiUG9pbnQiLCAiY29vcmRpbmF0ZXMiOiBbLTc5LjQ1NzYzNTAwMywgNDMuNzg5ODQ3NTUzXX0sICJwcm9wZXJ0aWVzIjogeyJodG1sIjogIjxzdmcgd2lkdGg9XCI4cHhcIiBoZWlnaHQ9XCI4cHhcIiB2aWV3Qm94PVwiLTQuMCAtNC4wIDguMCA4LjBcIiB4bWxucz1cImh0dHA6Ly93d3cudzMub3JnLzIwMDAvc3ZnXCIgdmVyc2lvbj1cIjEuMVwiPiAgPHBhdGggZD1cIk0gLTMuMCAtMy4wIEwgMy4wIC0zLjAgTCAzLjAgMy4wIEwgLTMuMCAzLjAgWlwiIHN0cm9rZT1cIiNGRjAwMDBcIiBzdHJva2Utd2lkdGg9XCIxLjBcIiBzdHJva2Utb3BhY2l0eT1cIjFcIiBmaWxsPVwiI0ZGMDAwMFwiIGZpbGwtb3BhY2l0eT1cIjFcIiAvPjwvc3ZnPiIsICJhbmNob3JfeCI6IDQuMCwgImFuY2hvcl95IjogNC4wfX0sIHsidHlwZSI6ICJGZWF0dXJlIiwgImdlb21ldHJ5IjogeyJ0eXBlIjogIlBvaW50IiwgImNvb3JkaW5hdGVzIjogWy03OS4yNTk2MDUzNzE3LCA0My43MzM5OTY1ODAzXX0sICJwcm9wZXJ0aWVzIjogeyJodG1sIjogIjxzdmcgd2lkdGg9XCI4cHhcIiBoZWlnaHQ9XCI4cHhcIiB2aWV3Qm94PVwiLTQuMCAtNC4wIDguMCA4LjBcIiB4bWxucz1cImh0dHA6Ly93d3cudzMub3JnLzIwMDAvc3ZnXCIgdmVyc2lvbj1cIjEuMVwiPiAgPHBhdGggZD1cIk0gLTMuMCAtMy4wIEwgMy4wIC0zLjAgTCAzLjAgMy4wIEwgLTMuMCAzLjAgWlwiIHN0cm9rZT1cIiNGRjAwMDBcIiBzdHJva2Utd2lkdGg9XCIxLjBcIiBzdHJva2Utb3BhY2l0eT1cIjFcIiBmaWxsPVwiI0ZGMDAwMFwiIGZpbGwtb3BhY2l0eT1cIjFcIiAvPjwvc3ZnPiIsICJhbmNob3JfeCI6IDQuMCwgImFuY2hvcl95IjogNC4wfX0sIHsidHlwZSI6ICJGZWF0dXJlIiwgImdlb21ldHJ5IjogeyJ0eXBlIjogIlBvaW50IiwgImNvb3JkaW5hdGVzIjogWy03OS4yODgyMTU2MzYsIDQzLjY4ODM2Mzg2MV19LCAicHJvcGVydGllcyI6IHsiaHRtbCI6ICI8c3ZnIHdpZHRoPVwiOHB4XCIgaGVpZ2h0PVwiOHB4XCIgdmlld0JveD1cIi00LjAgLTQuMCA4LjAgOC4wXCIgeG1sbnM9XCJodHRwOi8vd3d3LnczLm9yZy8yMDAwL3N2Z1wiIHZlcnNpb249XCIxLjFcIj4gIDxwYXRoIGQ9XCJNIC0zLjAgLTMuMCBMIDMuMCAtMy4wIEwgMy4wIDMuMCBMIC0zLjAgMy4wIFpcIiBzdHJva2U9XCIjRkYwMDAwXCIgc3Ryb2tlLXdpZHRoPVwiMS4wXCIgc3Ryb2tlLW9wYWNpdHk9XCIxXCIgZmlsbD1cIiNGRjAwMDBcIiBmaWxsLW9wYWNpdHk9XCIxXCIgLz48L3N2Zz4iLCAiYW5jaG9yX3giOiA0LjAsICJhbmNob3JfeSI6IDQuMH19LCB7InR5cGUiOiAiRmVhdHVyZSIsICJnZW9tZXRyeSI6IHsidHlwZSI6ICJQb2ludCIsICJjb29yZGluYXRlcyI6IFstNzkuMzgxNzUwMzkxOCwgNDMuNjUxNjgzMjUwNF19LCAicHJvcGVydGllcyI6IHsiaHRtbCI6ICI8c3ZnIHdpZHRoPVwiOHB4XCIgaGVpZ2h0PVwiOHB4XCIgdmlld0JveD1cIi00LjAgLTQuMCA4LjAgOC4wXCIgeG1sbnM9XCJodHRwOi8vd3d3LnczLm9yZy8yMDAwL3N2Z1wiIHZlcnNpb249XCIxLjFcIj4gIDxwYXRoIGQ9XCJNIC0zLjAgLTMuMCBMIDMuMCAtMy4wIEwgMy4wIDMuMCBMIC0zLjAgMy4wIFpcIiBzdHJva2U9XCIjRkYwMDAwXCIgc3Ryb2tlLXdpZHRoPVwiMS4wXCIgc3Ryb2tlLW9wYWNpdHk9XCIxXCIgZmlsbD1cIiNGRjAwMDBcIiBmaWxsLW9wYWNpdHk9XCIxXCIgLz48L3N2Zz4iLCAiYW5jaG9yX3giOiA0LjAsICJhbmNob3JfeSI6IDQuMH19LCB7InR5cGUiOiAiRmVhdHVyZSIsICJnZW9tZXRyeSI6IHsidHlwZSI6ICJQb2ludCIsICJjb29yZGluYXRlcyI6IFstNzkuMTQwOTEyMzM0NSwgNDMuNzkwNjM4OTMzMl19LCAicHJvcGVydGllcyI6IHsiaHRtbCI6ICI8c3ZnIHdpZHRoPVwiOHB4XCIgaGVpZ2h0PVwiOHB4XCIgdmlld0JveD1cIi00LjAgLTQuMCA4LjAgOC4wXCIgeG1sbnM9XCJodHRwOi8vd3d3LnczLm9yZy8yMDAwL3N2Z1wiIHZlcnNpb249XCIxLjFcIj4gIDxwYXRoIGQ9XCJNIC0zLjAgLTMuMCBMIDMuMCAtMy4wIEwgMy4wIDMuMCBMIC0zLjAgMy4wIFpcIiBzdHJva2U9XCIjRkYwMDAwXCIgc3Ryb2tlLXdpZHRoPVwiMS4wXCIgc3Ryb2tlLW9wYWNpdHk9XCIxXCIgZmlsbD1cIiNGRjAwMDBcIiBmaWxsLW9wYWNpdHk9XCIxXCIgLz48L3N2Zz4iLCAiYW5jaG9yX3giOiA0LjAsICJhbmNob3JfeSI6IDQuMH19LCB7InR5cGUiOiAiRmVhdHVyZSIsICJnZW9tZXRyeSI6IHsidHlwZSI6ICJQb2ludCIsICJjb29yZGluYXRlcyI6IFstNzkuMzI0MDI5OTY1NywgNDMuNjc2OTM2MDc3Nl19LCAicHJvcGVydGllcyI6IHsiaHRtbCI6ICI8c3ZnIHdpZHRoPVwiOHB4XCIgaGVpZ2h0PVwiOHB4XCIgdmlld0JveD1cIi00LjAgLTQuMCA4LjAgOC4wXCIgeG1sbnM9XCJodHRwOi8vd3d3LnczLm9yZy8yMDAwL3N2Z1wiIHZlcnNpb249XCIxLjFcIj4gIDxwYXRoIGQ9XCJNIC0zLjAgLTMuMCBMIDMuMCAtMy4wIEwgMy4wIDMuMCBMIC0zLjAgMy4wIFpcIiBzdHJva2U9XCIjRkYwMDAwXCIgc3Ryb2tlLXdpZHRoPVwiMS4wXCIgc3Ryb2tlLW9wYWNpdHk9XCIxXCIgZmlsbD1cIiNGRjAwMDBcIiBmaWxsLW9wYWNpdHk9XCIxXCIgLz48L3N2Zz4iLCAiYW5jaG9yX3giOiA0LjAsICJhbmNob3JfeSI6IDQuMH19LCB7InR5cGUiOiAiRmVhdHVyZSIsICJnZW9tZXRyeSI6IHsidHlwZSI6ICJQb2ludCIsICJjb29yZGluYXRlcyI6IFstNzkuMzgyMTE3NjExOSwgNDMuNjY5MzA0NTgxOF19LCAicHJvcGVydGllcyI6IHsiaHRtbCI6ICI8c3ZnIHdpZHRoPVwiOHB4XCIgaGVpZ2h0PVwiOHB4XCIgdmlld0JveD1cIi00LjAgLTQuMCA4LjAgOC4wXCIgeG1sbnM9XCJodHRwOi8vd3d3LnczLm9yZy8yMDAwL3N2Z1wiIHZlcnNpb249XCIxLjFcIj4gIDxwYXRoIGQ9XCJNIC0zLjAgLTMuMCBMIDMuMCAtMy4wIEwgMy4wIDMuMCBMIC0zLjAgMy4wIFpcIiBzdHJva2U9XCIjRkYwMDAwXCIgc3Ryb2tlLXdpZHRoPVwiMS4wXCIgc3Ryb2tlLW9wYWNpdHk9XCIxXCIgZmlsbD1cIiNGRjAwMDBcIiBmaWxsLW9wYWNpdHk9XCIxXCIgLz48L3N2Zz4iLCAiYW5jaG9yX3giOiA0LjAsICJhbmNob3JfeSI6IDQuMH19LCB7InR5cGUiOiAiRmVhdHVyZSIsICJnZW9tZXRyeSI6IHsidHlwZSI6ICJQb2ludCIsICJjb29yZGluYXRlcyI6IFstNzkuMzYyODAzODkzMSwgNDMuNjY1NzQ2NjcxNF19LCAicHJvcGVydGllcyI6IHsiaHRtbCI6ICI8c3ZnIHdpZHRoPVwiOHB4XCIgaGVpZ2h0PVwiOHB4XCIgdmlld0JveD1cIi00LjAgLTQuMCA4LjAgOC4wXCIgeG1sbnM9XCJodHRwOi8vd3d3LnczLm9yZy8yMDAwL3N2Z1wiIHZlcnNpb249XCIxLjFcIj4gIDxwYXRoIGQ9XCJNIC0zLjAgLTMuMCBMIDMuMCAtMy4wIEwgMy4wIDMuMCBMIC0zLjAgMy4wIFpcIiBzdHJva2U9XCIjRkYwMDAwXCIgc3Ryb2tlLXdpZHRoPVwiMS4wXCIgc3Ryb2tlLW9wYWNpdHk9XCIxXCIgZmlsbD1cIiNGRjAwMDBcIiBmaWxsLW9wYWNpdHk9XCIxXCIgLz48L3N2Zz4iLCAiYW5jaG9yX3giOiA0LjAsICJhbmNob3JfeSI6IDQuMH19LCB7InR5cGUiOiAiRmVhdHVyZSIsICJnZW9tZXRyeSI6IHsidHlwZSI6ICJQb2ludCIsICJjb29yZGluYXRlcyI6IFstNzkuMzM5OTUzOTUyNywgNDMuNjg3ODU2NzM1XX0sICJwcm9wZXJ0aWVzIjogeyJodG1sIjogIjxzdmcgd2lkdGg9XCI4cHhcIiBoZWlnaHQ9XCI4cHhcIiB2aWV3Qm94PVwiLTQuMCAtNC4wIDguMCA4LjBcIiB4bWxucz1cImh0dHA6Ly93d3cudzMub3JnLzIwMDAvc3ZnXCIgdmVyc2lvbj1cIjEuMVwiPiAgPHBhdGggZD1cIk0gLTMuMCAtMy4wIEwgMy4wIC0zLjAgTCAzLjAgMy4wIEwgLTMuMCAzLjAgWlwiIHN0cm9rZT1cIiNGRjAwMDBcIiBzdHJva2Utd2lkdGg9XCIxLjBcIiBzdHJva2Utb3BhY2l0eT1cIjFcIiBmaWxsPVwiI0ZGMDAwMFwiIGZpbGwtb3BhY2l0eT1cIjFcIiAvPjwvc3ZnPiIsICJhbmNob3JfeCI6IDQuMCwgImFuY2hvcl95IjogNC4wfX0sIHsidHlwZSI6ICJGZWF0dXJlIiwgImdlb21ldHJ5IjogeyJ0eXBlIjogIlBvaW50IiwgImNvb3JkaW5hdGVzIjogWy03OS4zODU1ODMxNjExLCA0My42NTg0NzQ1MTE0XX0sICJwcm9wZXJ0aWVzIjogeyJodG1sIjogIjxzdmcgd2lkdGg9XCI4cHhcIiBoZWlnaHQ9XCI4cHhcIiB2aWV3Qm94PVwiLTQuMCAtNC4wIDguMCA4LjBcIiB4bWxucz1cImh0dHA6Ly93d3cudzMub3JnLzIwMDAvc3ZnXCIgdmVyc2lvbj1cIjEuMVwiPiAgPHBhdGggZD1cIk0gLTMuMCAtMy4wIEwgMy4wIC0zLjAgTCAzLjAgMy4wIEwgLTMuMCAzLjAgWlwiIHN0cm9rZT1cIiNGRjAwMDBcIiBzdHJva2Utd2lkdGg9XCIxLjBcIiBzdHJva2Utb3BhY2l0eT1cIjFcIiBmaWxsPVwiI0ZGMDAwMFwiIGZpbGwtb3BhY2l0eT1cIjFcIiAvPjwvc3ZnPiIsICJhbmNob3JfeCI6IDQuMCwgImFuY2hvcl95IjogNC4wfX0sIHsidHlwZSI6ICJGZWF0dXJlIiwgImdlb21ldHJ5IjogeyJ0eXBlIjogIlBvaW50IiwgImNvb3JkaW5hdGVzIjogWy03OS4zNTYyODYzODgsIDQzLjY1NjUwMTk0OV19LCAicHJvcGVydGllcyI6IHsiaHRtbCI6ICI8c3ZnIHdpZHRoPVwiOHB4XCIgaGVpZ2h0PVwiOHB4XCIgdmlld0JveD1cIi00LjAgLTQuMCA4LjAgOC4wXCIgeG1sbnM9XCJodHRwOi8vd3d3LnczLm9yZy8yMDAwL3N2Z1wiIHZlcnNpb249XCIxLjFcIj4gIDxwYXRoIGQ9XCJNIC0zLjAgLTMuMCBMIDMuMCAtMy4wIEwgMy4wIDMuMCBMIC0zLjAgMy4wIFpcIiBzdHJva2U9XCIjRkYwMDAwXCIgc3Ryb2tlLXdpZHRoPVwiMS4wXCIgc3Ryb2tlLW9wYWNpdHk9XCIxXCIgZmlsbD1cIiNGRjAwMDBcIiBmaWxsLW9wYWNpdHk9XCIxXCIgLz48L3N2Zz4iLCAiYW5jaG9yX3giOiA0LjAsICJhbmNob3JfeSI6IDQuMH19LCB7InR5cGUiOiAiRmVhdHVyZSIsICJnZW9tZXRyeSI6IHsidHlwZSI6ICJQb2ludCIsICJjb29yZGluYXRlcyI6IFstNzkuMzAyMjYyMDIzMSwgNDMuODExNTM5ODkzNV19LCAicHJvcGVydGllcyI6IHsiaHRtbCI6ICI8c3ZnIHdpZHRoPVwiOHB4XCIgaGVpZ2h0PVwiOHB4XCIgdmlld0JveD1cIi00LjAgLTQuMCA4LjAgOC4wXCIgeG1sbnM9XCJodHRwOi8vd3d3LnczLm9yZy8yMDAwL3N2Z1wiIHZlcnNpb249XCIxLjFcIj4gIDxwYXRoIGQ9XCJNIC0zLjAgLTMuMCBMIDMuMCAtMy4wIEwgMy4wIDMuMCBMIC0zLjAgMy4wIFpcIiBzdHJva2U9XCIjMDA3RjAwXCIgc3Ryb2tlLXdpZHRoPVwiMS4wXCIgc3Ryb2tlLW9wYWNpdHk9XCIxXCIgZmlsbD1cIiMwMDdGMDBcIiBmaWxsLW9wYWNpdHk9XCIxXCIgLz48L3N2Zz4iLCAiYW5jaG9yX3giOiA0LjAsICJhbmNob3JfeSI6IDQuMH19LCB7InR5cGUiOiAiRmVhdHVyZSIsICJnZW9tZXRyeSI6IHsidHlwZSI6ICJQb2ludCIsICJjb29yZGluYXRlcyI6IFstNzkuMjgzNDgyNzExMSwgNDMuODE4MTQ5OTA1MV19LCAicHJvcGVydGllcyI6IHsiaHRtbCI6ICI8c3ZnIHdpZHRoPVwiOHB4XCIgaGVpZ2h0PVwiOHB4XCIgdmlld0JveD1cIi00LjAgLTQuMCA4LjAgOC4wXCIgeG1sbnM9XCJodHRwOi8vd3d3LnczLm9yZy8yMDAwL3N2Z1wiIHZlcnNpb249XCIxLjFcIj4gIDxwYXRoIGQ9XCJNIC0zLjAgLTMuMCBMIDMuMCAtMy4wIEwgMy4wIDMuMCBMIC0zLjAgMy4wIFpcIiBzdHJva2U9XCIjMDA3RjAwXCIgc3Ryb2tlLXdpZHRoPVwiMS4wXCIgc3Ryb2tlLW9wYWNpdHk9XCIxXCIgZmlsbD1cIiMwMDdGMDBcIiBmaWxsLW9wYWNpdHk9XCIxXCIgLz48L3N2Zz4iLCAiYW5jaG9yX3giOiA0LjAsICJhbmNob3JfeSI6IDQuMH19LCB7InR5cGUiOiAiRmVhdHVyZSIsICJnZW9tZXRyeSI6IHsidHlwZSI6ICJQb2ludCIsICJjb29yZGluYXRlcyI6IFstNzkuMjYzMzIwNTE5NiwgNDMuNzc4MTU5NTY3M119LCAicHJvcGVydGllcyI6IHsiaHRtbCI6ICI8c3ZnIHdpZHRoPVwiOHB4XCIgaGVpZ2h0PVwiOHB4XCIgdmlld0JveD1cIi00LjAgLTQuMCA4LjAgOC4wXCIgeG1sbnM9XCJodHRwOi8vd3d3LnczLm9yZy8yMDAwL3N2Z1wiIHZlcnNpb249XCIxLjFcIj4gIDxwYXRoIGQ9XCJNIC0zLjAgLTMuMCBMIDMuMCAtMy4wIEwgMy4wIDMuMCBMIC0zLjAgMy4wIFpcIiBzdHJva2U9XCIjMDA3RjAwXCIgc3Ryb2tlLXdpZHRoPVwiMS4wXCIgc3Ryb2tlLW9wYWNpdHk9XCIxXCIgZmlsbD1cIiMwMDdGMDBcIiBmaWxsLW9wYWNpdHk9XCIxXCIgLz48L3N2Zz4iLCAiYW5jaG9yX3giOiA0LjAsICJhbmNob3JfeSI6IDQuMH19LCB7InR5cGUiOiAiRmVhdHVyZSIsICJnZW9tZXRyeSI6IHsidHlwZSI6ICJQb2ludCIsICJjb29yZGluYXRlcyI6IFstNzkuMzQzMDM2OTQ1LCA0My43NzU2MDk1MzldfSwgInByb3BlcnRpZXMiOiB7Imh0bWwiOiAiPHN2ZyB3aWR0aD1cIjhweFwiIGhlaWdodD1cIjhweFwiIHZpZXdCb3g9XCItNC4wIC00LjAgOC4wIDguMFwiIHhtbG5zPVwiaHR0cDovL3d3dy53My5vcmcvMjAwMC9zdmdcIiB2ZXJzaW9uPVwiMS4xXCI+ICA8cGF0aCBkPVwiTSAtMy4wIC0zLjAgTCAzLjAgLTMuMCBMIDMuMCAzLjAgTCAtMy4wIDMuMCBaXCIgc3Ryb2tlPVwiIzAwN0YwMFwiIHN0cm9rZS13aWR0aD1cIjEuMFwiIHN0cm9rZS1vcGFjaXR5PVwiMVwiIGZpbGw9XCIjMDA3RjAwXCIgZmlsbC1vcGFjaXR5PVwiMVwiIC8+PC9zdmc+IiwgImFuY2hvcl94IjogNC4wLCAiYW5jaG9yX3kiOiA0LjB9fSwgeyJ0eXBlIjogIkZlYXR1cmUiLCAiZ2VvbWV0cnkiOiB7InR5cGUiOiAiUG9pbnQiLCAiY29vcmRpbmF0ZXMiOiBbLTc5LjI2OTMxNTI4ODksIDQzLjgwOTIyOTM0MDldfSwgInByb3BlcnRpZXMiOiB7Imh0bWwiOiAiPHN2ZyB3aWR0aD1cIjhweFwiIGhlaWdodD1cIjhweFwiIHZpZXdCb3g9XCItNC4wIC00LjAgOC4wIDguMFwiIHhtbG5zPVwiaHR0cDovL3d3dy53My5vcmcvMjAwMC9zdmdcIiB2ZXJzaW9uPVwiMS4xXCI+ICA8cGF0aCBkPVwiTSAtMy4wIC0zLjAgTCAzLjAgLTMuMCBMIDMuMCAzLjAgTCAtMy4wIDMuMCBaXCIgc3Ryb2tlPVwiIzAwN0YwMFwiIHN0cm9rZS13aWR0aD1cIjEuMFwiIHN0cm9rZS1vcGFjaXR5PVwiMVwiIGZpbGw9XCIjMDA3RjAwXCIgZmlsbC1vcGFjaXR5PVwiMVwiIC8+PC9zdmc+IiwgImFuY2hvcl94IjogNC4wLCAiYW5jaG9yX3kiOiA0LjB9fSwgeyJ0eXBlIjogIkZlYXR1cmUiLCAiZ2VvbWV0cnkiOiB7InR5cGUiOiAiUG9pbnQiLCAiY29vcmRpbmF0ZXMiOiBbLTc5LjI3MTM0NDY2MjEsIDQzLjc2NzIwMjg3NTldfSwgInByb3BlcnRpZXMiOiB7Imh0bWwiOiAiPHN2ZyB3aWR0aD1cIjhweFwiIGhlaWdodD1cIjhweFwiIHZpZXdCb3g9XCItNC4wIC00LjAgOC4wIDguMFwiIHhtbG5zPVwiaHR0cDovL3d3dy53My5vcmcvMjAwMC9zdmdcIiB2ZXJzaW9uPVwiMS4xXCI+ICA8cGF0aCBkPVwiTSAtMy4wIC0zLjAgTCAzLjAgLTMuMCBMIDMuMCAzLjAgTCAtMy4wIDMuMCBaXCIgc3Ryb2tlPVwiIzAwN0YwMFwiIHN0cm9rZS13aWR0aD1cIjEuMFwiIHN0cm9rZS1vcGFjaXR5PVwiMVwiIGZpbGw9XCIjMDA3RjAwXCIgZmlsbC1vcGFjaXR5PVwiMVwiIC8+PC9zdmc+IiwgImFuY2hvcl94IjogNC4wLCAiYW5jaG9yX3kiOiA0LjB9fSwgeyJ0eXBlIjogIkZlYXR1cmUiLCAiZ2VvbWV0cnkiOiB7InR5cGUiOiAiUG9pbnQiLCAiY29vcmRpbmF0ZXMiOiBbLTc5LjM0NzgxNDY5MjksIDQzLjc5NDcwMjA3NDddfSwgInByb3BlcnRpZXMiOiB7Imh0bWwiOiAiPHN2ZyB3aWR0aD1cIjhweFwiIGhlaWdodD1cIjhweFwiIHZpZXdCb3g9XCItNC4wIC00LjAgOC4wIDguMFwiIHhtbG5zPVwiaHR0cDovL3d3dy53My5vcmcvMjAwMC9zdmdcIiB2ZXJzaW9uPVwiMS4xXCI+ICA8cGF0aCBkPVwiTSAtMy4wIC0zLjAgTCAzLjAgLTMuMCBMIDMuMCAzLjAgTCAtMy4wIDMuMCBaXCIgc3Ryb2tlPVwiIzAwN0YwMFwiIHN0cm9rZS13aWR0aD1cIjEuMFwiIHN0cm9rZS1vcGFjaXR5PVwiMVwiIGZpbGw9XCIjMDA3RjAwXCIgZmlsbC1vcGFjaXR5PVwiMVwiIC8+PC9zdmc+IiwgImFuY2hvcl94IjogNC4wLCAiYW5jaG9yX3kiOiA0LjB9fSwgeyJ0eXBlIjogIkZlYXR1cmUiLCAiZ2VvbWV0cnkiOiB7InR5cGUiOiAiUG9pbnQiLCAiY29vcmRpbmF0ZXMiOiBbLTc5LjI1NTQ2OTExMTcsIDQzLjc1MzA3NjE1ODhdfSwgInByb3BlcnRpZXMiOiB7Imh0bWwiOiAiPHN2ZyB3aWR0aD1cIjhweFwiIGhlaWdodD1cIjhweFwiIHZpZXdCb3g9XCItNC4wIC00LjAgOC4wIDguMFwiIHhtbG5zPVwiaHR0cDovL3d3dy53My5vcmcvMjAwMC9zdmdcIiB2ZXJzaW9uPVwiMS4xXCI+ICA8cGF0aCBkPVwiTSAtMy4wIC0zLjAgTCAzLjAgLTMuMCBMIDMuMCAzLjAgTCAtMy4wIDMuMCBaXCIgc3Ryb2tlPVwiIzAwN0YwMFwiIHN0cm9rZS13aWR0aD1cIjEuMFwiIHN0cm9rZS1vcGFjaXR5PVwiMVwiIGZpbGw9XCIjMDA3RjAwXCIgZmlsbC1vcGFjaXR5PVwiMVwiIC8+PC9zdmc+IiwgImFuY2hvcl94IjogNC4wLCAiYW5jaG9yX3kiOiA0LjB9fSwgeyJ0eXBlIjogIkZlYXR1cmUiLCAiZ2VvbWV0cnkiOiB7InR5cGUiOiAiUG9pbnQiLCAiY29vcmRpbmF0ZXMiOiBbLTc5LjQ5MDU1MDcxNzMsIDQzLjY2NzEyNzc3MzddfSwgInByb3BlcnRpZXMiOiB7Imh0bWwiOiAiPHN2ZyB3aWR0aD1cIjhweFwiIGhlaWdodD1cIjhweFwiIHZpZXdCb3g9XCItNC4wIC00LjAgOC4wIDguMFwiIHhtbG5zPVwiaHR0cDovL3d3dy53My5vcmcvMjAwMC9zdmdcIiB2ZXJzaW9uPVwiMS4xXCI+ICA8cGF0aCBkPVwiTSAtMy4wIC0zLjAgTCAzLjAgLTMuMCBMIDMuMCAzLjAgTCAtMy4wIDMuMCBaXCIgc3Ryb2tlPVwiIzAwN0YwMFwiIHN0cm9rZS13aWR0aD1cIjEuMFwiIHN0cm9rZS1vcGFjaXR5PVwiMVwiIGZpbGw9XCIjMDA3RjAwXCIgZmlsbC1vcGFjaXR5PVwiMVwiIC8+PC9zdmc+IiwgImFuY2hvcl94IjogNC4wLCAiYW5jaG9yX3kiOiA0LjB9fSwgeyJ0eXBlIjogIkZlYXR1cmUiLCAiZ2VvbWV0cnkiOiB7InR5cGUiOiAiUG9pbnQiLCAiY29vcmRpbmF0ZXMiOiBbLTc5LjM2MzM5MTEwMDksIDQzLjY1MTAzNTkzODJdfSwgInByb3BlcnRpZXMiOiB7Imh0bWwiOiAiPHN2ZyB3aWR0aD1cIjhweFwiIGhlaWdodD1cIjhweFwiIHZpZXdCb3g9XCItNC4wIC00LjAgOC4wIDguMFwiIHhtbG5zPVwiaHR0cDovL3d3dy53My5vcmcvMjAwMC9zdmdcIiB2ZXJzaW9uPVwiMS4xXCI+ICA8cGF0aCBkPVwiTSAtMy4wIC0zLjAgTCAzLjAgLTMuMCBMIDMuMCAzLjAgTCAtMy4wIDMuMCBaXCIgc3Ryb2tlPVwiIzAwN0YwMFwiIHN0cm9rZS13aWR0aD1cIjEuMFwiIHN0cm9rZS1vcGFjaXR5PVwiMVwiIGZpbGw9XCIjMDA3RjAwXCIgZmlsbC1vcGFjaXR5PVwiMVwiIC8+PC9zdmc+IiwgImFuY2hvcl94IjogNC4wLCAiYW5jaG9yX3kiOiA0LjB9fSwgeyJ0eXBlIjogIkZlYXR1cmUiLCAiZ2VvbWV0cnkiOiB7InR5cGUiOiAiUG9pbnQiLCAiY29vcmRpbmF0ZXMiOiBbLTc5LjI4NzgzNTg3NzYsIDQzLjY5MDY1MjM0OTVdfSwgInByb3BlcnRpZXMiOiB7Imh0bWwiOiAiPHN2ZyB3aWR0aD1cIjhweFwiIGhlaWdodD1cIjhweFwiIHZpZXdCb3g9XCItNC4wIC00LjAgOC4wIDguMFwiIHhtbG5zPVwiaHR0cDovL3d3dy53My5vcmcvMjAwMC9zdmdcIiB2ZXJzaW9uPVwiMS4xXCI+ICA8cGF0aCBkPVwiTSAtMy4wIC0zLjAgTCAzLjAgLTMuMCBMIDMuMCAzLjAgTCAtMy4wIDMuMCBaXCIgc3Ryb2tlPVwiIzAwN0YwMFwiIHN0cm9rZS13aWR0aD1cIjEuMFwiIHN0cm9rZS1vcGFjaXR5PVwiMVwiIGZpbGw9XCIjMDA3RjAwXCIgZmlsbC1vcGFjaXR5PVwiMVwiIC8+PC9zdmc+IiwgImFuY2hvcl94IjogNC4wLCAiYW5jaG9yX3kiOiA0LjB9fSwgeyJ0eXBlIjogIkZlYXR1cmUiLCAiZ2VvbWV0cnkiOiB7InR5cGUiOiAiUG9pbnQiLCAiY29vcmRpbmF0ZXMiOiBbLTc5LjQzNjI1Njc1MTQsIDQzLjY2Mjg2NjU2MjhdfSwgInByb3BlcnRpZXMiOiB7Imh0bWwiOiAiPHN2ZyB3aWR0aD1cIjhweFwiIGhlaWdodD1cIjhweFwiIHZpZXdCb3g9XCItNC4wIC00LjAgOC4wIDguMFwiIHhtbG5zPVwiaHR0cDovL3d3dy53My5vcmcvMjAwMC9zdmdcIiB2ZXJzaW9uPVwiMS4xXCI+ICA8cGF0aCBkPVwiTSAtMy4wIC0zLjAgTCAzLjAgLTMuMCBMIDMuMCAzLjAgTCAtMy4wIDMuMCBaXCIgc3Ryb2tlPVwiIzAwN0YwMFwiIHN0cm9rZS13aWR0aD1cIjEuMFwiIHN0cm9rZS1vcGFjaXR5PVwiMVwiIGZpbGw9XCIjMDA3RjAwXCIgZmlsbC1vcGFjaXR5PVwiMVwiIC8+PC9zdmc+IiwgImFuY2hvcl94IjogNC4wLCAiYW5jaG9yX3kiOiA0LjB9fSwgeyJ0eXBlIjogIkZlYXR1cmUiLCAiZ2VvbWV0cnkiOiB7InR5cGUiOiAiUG9pbnQiLCAiY29vcmRpbmF0ZXMiOiBbLTc5LjI3NDIzNDAyMzgsIDQzLjc0NjUwMDQ3MTZdfSwgInByb3BlcnRpZXMiOiB7Imh0bWwiOiAiPHN2ZyB3aWR0aD1cIjhweFwiIGhlaWdodD1cIjhweFwiIHZpZXdCb3g9XCItNC4wIC00LjAgOC4wIDguMFwiIHhtbG5zPVwiaHR0cDovL3d3dy53My5vcmcvMjAwMC9zdmdcIiB2ZXJzaW9uPVwiMS4xXCI+ICA8cGF0aCBkPVwiTSAtMy4wIC0zLjAgTCAzLjAgLTMuMCBMIDMuMCAzLjAgTCAtMy4wIDMuMCBaXCIgc3Ryb2tlPVwiIzAwN0YwMFwiIHN0cm9rZS13aWR0aD1cIjEuMFwiIHN0cm9rZS1vcGFjaXR5PVwiMVwiIGZpbGw9XCIjMDA3RjAwXCIgZmlsbC1vcGFjaXR5PVwiMVwiIC8+PC9zdmc+IiwgImFuY2hvcl94IjogNC4wLCAiYW5jaG9yX3kiOiA0LjB9fSwgeyJ0eXBlIjogIkZlYXR1cmUiLCAiZ2VvbWV0cnkiOiB7InR5cGUiOiAiUG9pbnQiLCAiY29vcmRpbmF0ZXMiOiBbLTc5LjI3MDA3NTc4MTcsIDQzLjczODE4MDE5MzJdfSwgInByb3BlcnRpZXMiOiB7Imh0bWwiOiAiPHN2ZyB3aWR0aD1cIjhweFwiIGhlaWdodD1cIjhweFwiIHZpZXdCb3g9XCItNC4wIC00LjAgOC4wIDguMFwiIHhtbG5zPVwiaHR0cDovL3d3dy53My5vcmcvMjAwMC9zdmdcIiB2ZXJzaW9uPVwiMS4xXCI+ICA8cGF0aCBkPVwiTSAtMy4wIC0zLjAgTCAzLjAgLTMuMCBMIDMuMCAzLjAgTCAtMy4wIDMuMCBaXCIgc3Ryb2tlPVwiIzAwN0YwMFwiIHN0cm9rZS13aWR0aD1cIjEuMFwiIHN0cm9rZS1vcGFjaXR5PVwiMVwiIGZpbGw9XCIjMDA3RjAwXCIgZmlsbC1vcGFjaXR5PVwiMVwiIC8+PC9zdmc+IiwgImFuY2hvcl94IjogNC4wLCAiYW5jaG9yX3kiOiA0LjB9fSwgeyJ0eXBlIjogIkZlYXR1cmUiLCAiZ2VvbWV0cnkiOiB7InR5cGUiOiAiUG9pbnQiLCAiY29vcmRpbmF0ZXMiOiBbLTc5LjI2ODczNTQzMTIsIDQzLjczNTUyNjIzOF19LCAicHJvcGVydGllcyI6IHsiaHRtbCI6ICI8c3ZnIHdpZHRoPVwiOHB4XCIgaGVpZ2h0PVwiOHB4XCIgdmlld0JveD1cIi00LjAgLTQuMCA4LjAgOC4wXCIgeG1sbnM9XCJodHRwOi8vd3d3LnczLm9yZy8yMDAwL3N2Z1wiIHZlcnNpb249XCIxLjFcIj4gIDxwYXRoIGQ9XCJNIC0zLjAgLTMuMCBMIDMuMCAtMy4wIEwgMy4wIDMuMCBMIC0zLjAgMy4wIFpcIiBzdHJva2U9XCIjMDA3RjAwXCIgc3Ryb2tlLXdpZHRoPVwiMS4wXCIgc3Ryb2tlLW9wYWNpdHk9XCIxXCIgZmlsbD1cIiMwMDdGMDBcIiBmaWxsLW9wYWNpdHk9XCIxXCIgLz48L3N2Zz4iLCAiYW5jaG9yX3giOiA0LjAsICJhbmNob3JfeSI6IDQuMH19LCB7InR5cGUiOiAiRmVhdHVyZSIsICJnZW9tZXRyeSI6IHsidHlwZSI6ICJQb2ludCIsICJjb29yZGluYXRlcyI6IFstNzkuMjY0MzU0MzQ1MiwgNDMuNzI3MDMyOTI5MV19LCAicHJvcGVydGllcyI6IHsiaHRtbCI6ICI8c3ZnIHdpZHRoPVwiOHB4XCIgaGVpZ2h0PVwiOHB4XCIgdmlld0JveD1cIi00LjAgLTQuMCA4LjAgOC4wXCIgeG1sbnM9XCJodHRwOi8vd3d3LnczLm9yZy8yMDAwL3N2Z1wiIHZlcnNpb249XCIxLjFcIj4gIDxwYXRoIGQ9XCJNIC0zLjAgLTMuMCBMIDMuMCAtMy4wIEwgMy4wIDMuMCBMIC0zLjAgMy4wIFpcIiBzdHJva2U9XCIjMDA3RjAwXCIgc3Ryb2tlLXdpZHRoPVwiMS4wXCIgc3Ryb2tlLW9wYWNpdHk9XCIxXCIgZmlsbD1cIiMwMDdGMDBcIiBmaWxsLW9wYWNpdHk9XCIxXCIgLz48L3N2Zz4iLCAiYW5jaG9yX3giOiA0LjAsICJhbmNob3JfeSI6IDQuMH19LCB7InR5cGUiOiAiRmVhdHVyZSIsICJnZW9tZXRyeSI6IHsidHlwZSI6ICJQb2ludCIsICJjb29yZGluYXRlcyI6IFstNzkuNDI4NjM3MTM3NSwgNDMuNzc3MTkzMDU2OV19LCAicHJvcGVydGllcyI6IHsiaHRtbCI6ICI8c3ZnIHdpZHRoPVwiOHB4XCIgaGVpZ2h0PVwiOHB4XCIgdmlld0JveD1cIi00LjAgLTQuMCA4LjAgOC4wXCIgeG1sbnM9XCJodHRwOi8vd3d3LnczLm9yZy8yMDAwL3N2Z1wiIHZlcnNpb249XCIxLjFcIj4gIDxwYXRoIGQ9XCJNIC0zLjAgLTMuMCBMIDMuMCAtMy4wIEwgMy4wIDMuMCBMIC0zLjAgMy4wIFpcIiBzdHJva2U9XCIjMDA3RjAwXCIgc3Ryb2tlLXdpZHRoPVwiMS4wXCIgc3Ryb2tlLW9wYWNpdHk9XCIxXCIgZmlsbD1cIiMwMDdGMDBcIiBmaWxsLW9wYWNpdHk9XCIxXCIgLz48L3N2Zz4iLCAiYW5jaG9yX3giOiA0LjAsICJhbmNob3JfeSI6IDQuMH19LCB7InR5cGUiOiAiRmVhdHVyZSIsICJnZW9tZXRyeSI6IHsidHlwZSI6ICJQb2ludCIsICJjb29yZGluYXRlcyI6IFstNzkuMzI2MjUxODMzNSwgNDMuNzc0ODk5OTAyNl19LCAicHJvcGVydGllcyI6IHsiaHRtbCI6ICI8c3ZnIHdpZHRoPVwiOHB4XCIgaGVpZ2h0PVwiOHB4XCIgdmlld0JveD1cIi00LjAgLTQuMCA4LjAgOC4wXCIgeG1sbnM9XCJodHRwOi8vd3d3LnczLm9yZy8yMDAwL3N2Z1wiIHZlcnNpb249XCIxLjFcIj4gIDxwYXRoIGQ9XCJNIC0zLjAgLTMuMCBMIDMuMCAtMy4wIEwgMy4wIDMuMCBMIC0zLjAgMy4wIFpcIiBzdHJva2U9XCIjMDA3RjAwXCIgc3Ryb2tlLXdpZHRoPVwiMS4wXCIgc3Ryb2tlLW9wYWNpdHk9XCIxXCIgZmlsbD1cIiMwMDdGMDBcIiBmaWxsLW9wYWNpdHk9XCIxXCIgLz48L3N2Zz4iLCAiYW5jaG9yX3giOiA0LjAsICJhbmNob3JfeSI6IDQuMH19LCB7InR5cGUiOiAiRmVhdHVyZSIsICJnZW9tZXRyeSI6IHsidHlwZSI6ICJQb2ludCIsICJjb29yZGluYXRlcyI6IFstNzkuMzE5MjE1NTcxOSwgNDMuNzc1ODUwMjQxNF19LCAicHJvcGVydGllcyI6IHsiaHRtbCI6ICI8c3ZnIHdpZHRoPVwiOHB4XCIgaGVpZ2h0PVwiOHB4XCIgdmlld0JveD1cIi00LjAgLTQuMCA4LjAgOC4wXCIgeG1sbnM9XCJodHRwOi8vd3d3LnczLm9yZy8yMDAwL3N2Z1wiIHZlcnNpb249XCIxLjFcIj4gIDxwYXRoIGQ9XCJNIC0zLjAgLTMuMCBMIDMuMCAtMy4wIEwgMy4wIDMuMCBMIC0zLjAgMy4wIFpcIiBzdHJva2U9XCIjMDA3RjAwXCIgc3Ryb2tlLXdpZHRoPVwiMS4wXCIgc3Ryb2tlLW9wYWNpdHk9XCIxXCIgZmlsbD1cIiMwMDdGMDBcIiBmaWxsLW9wYWNpdHk9XCIxXCIgLz48L3N2Zz4iLCAiYW5jaG9yX3giOiA0LjAsICJhbmNob3JfeSI6IDQuMH19LCB7InR5cGUiOiAiRmVhdHVyZSIsICJnZW9tZXRyeSI6IHsidHlwZSI6ICJQb2ludCIsICJjb29yZGluYXRlcyI6IFstNzkuMzAzNzIxMzk2MSwgNDMuNzc5MzE3ODg0Ml19LCAicHJvcGVydGllcyI6IHsiaHRtbCI6ICI8c3ZnIHdpZHRoPVwiOHB4XCIgaGVpZ2h0PVwiOHB4XCIgdmlld0JveD1cIi00LjAgLTQuMCA4LjAgOC4wXCIgeG1sbnM9XCJodHRwOi8vd3d3LnczLm9yZy8yMDAwL3N2Z1wiIHZlcnNpb249XCIxLjFcIj4gIDxwYXRoIGQ9XCJNIC0zLjAgLTMuMCBMIDMuMCAtMy4wIEwgMy4wIDMuMCBMIC0zLjAgMy4wIFpcIiBzdHJva2U9XCIjMDA3RjAwXCIgc3Ryb2tlLXdpZHRoPVwiMS4wXCIgc3Ryb2tlLW9wYWNpdHk9XCIxXCIgZmlsbD1cIiMwMDdGMDBcIiBmaWxsLW9wYWNpdHk9XCIxXCIgLz48L3N2Zz4iLCAiYW5jaG9yX3giOiA0LjAsICJhbmNob3JfeSI6IDQuMH19LCB7InR5cGUiOiAiRmVhdHVyZSIsICJnZW9tZXRyeSI6IHsidHlwZSI6ICJQb2ludCIsICJjb29yZGluYXRlcyI6IFstNzkuMjcwNjU0ODM4LCA0My43ODc0Nzc3ODc1XX0sICJwcm9wZXJ0aWVzIjogeyJodG1sIjogIjxzdmcgd2lkdGg9XCI4cHhcIiBoZWlnaHQ9XCI4cHhcIiB2aWV3Qm94PVwiLTQuMCAtNC4wIDguMCA4LjBcIiB4bWxucz1cImh0dHA6Ly93d3cudzMub3JnLzIwMDAvc3ZnXCIgdmVyc2lvbj1cIjEuMVwiPiAgPHBhdGggZD1cIk0gLTMuMCAtMy4wIEwgMy4wIC0zLjAgTCAzLjAgMy4wIEwgLTMuMCAzLjAgWlwiIHN0cm9rZT1cIiMwMDdGMDBcIiBzdHJva2Utd2lkdGg9XCIxLjBcIiBzdHJva2Utb3BhY2l0eT1cIjFcIiBmaWxsPVwiIzAwN0YwMFwiIGZpbGwtb3BhY2l0eT1cIjFcIiAvPjwvc3ZnPiIsICJhbmNob3JfeCI6IDQuMCwgImFuY2hvcl95IjogNC4wfX0sIHsidHlwZSI6ICJGZWF0dXJlIiwgImdlb21ldHJ5IjogeyJ0eXBlIjogIlBvaW50IiwgImNvb3JkaW5hdGVzIjogWy03OS4yNTc0MTQ4ODIyLCA0My43OTA1MTU0MTU5XX0sICJwcm9wZXJ0aWVzIjogeyJodG1sIjogIjxzdmcgd2lkdGg9XCI4cHhcIiBoZWlnaHQ9XCI4cHhcIiB2aWV3Qm94PVwiLTQuMCAtNC4wIDguMCA4LjBcIiB4bWxucz1cImh0dHA6Ly93d3cudzMub3JnLzIwMDAvc3ZnXCIgdmVyc2lvbj1cIjEuMVwiPiAgPHBhdGggZD1cIk0gLTMuMCAtMy4wIEwgMy4wIC0zLjAgTCAzLjAgMy4wIEwgLTMuMCAzLjAgWlwiIHN0cm9rZT1cIiMwMDdGMDBcIiBzdHJva2Utd2lkdGg9XCIxLjBcIiBzdHJva2Utb3BhY2l0eT1cIjFcIiBmaWxsPVwiIzAwN0YwMFwiIGZpbGwtb3BhY2l0eT1cIjFcIiAvPjwvc3ZnPiIsICJhbmNob3JfeCI6IDQuMCwgImFuY2hvcl95IjogNC4wfX0sIHsidHlwZSI6ICJGZWF0dXJlIiwgImdlb21ldHJ5IjogeyJ0eXBlIjogIlBvaW50IiwgImNvb3JkaW5hdGVzIjogWy03OS4zMDMxOTgyMzQ0LCA0My43Nzk2MTc2MzgxXX0sICJwcm9wZXJ0aWVzIjogeyJodG1sIjogIjxzdmcgd2lkdGg9XCI4cHhcIiBoZWlnaHQ9XCI4cHhcIiB2aWV3Qm94PVwiLTQuMCAtNC4wIDguMCA4LjBcIiB4bWxucz1cImh0dHA6Ly93d3cudzMub3JnLzIwMDAvc3ZnXCIgdmVyc2lvbj1cIjEuMVwiPiAgPHBhdGggZD1cIk0gLTMuMCAtMy4wIEwgMy4wIC0zLjAgTCAzLjAgMy4wIEwgLTMuMCAzLjAgWlwiIHN0cm9rZT1cIiMwMDdGMDBcIiBzdHJva2Utd2lkdGg9XCIxLjBcIiBzdHJva2Utb3BhY2l0eT1cIjFcIiBmaWxsPVwiIzAwN0YwMFwiIGZpbGwtb3BhY2l0eT1cIjFcIiAvPjwvc3ZnPiIsICJhbmNob3JfeCI6IDQuMCwgImFuY2hvcl95IjogNC4wfX0sIHsidHlwZSI6ICJGZWF0dXJlIiwgImdlb21ldHJ5IjogeyJ0eXBlIjogIlBvaW50IiwgImNvb3JkaW5hdGVzIjogWy03OS40ODY3MzU2OTc5LCA0My43NDQ5NTEzNjg3XX0sICJwcm9wZXJ0aWVzIjogeyJodG1sIjogIjxzdmcgd2lkdGg9XCI4cHhcIiBoZWlnaHQ9XCI4cHhcIiB2aWV3Qm94PVwiLTQuMCAtNC4wIDguMCA4LjBcIiB4bWxucz1cImh0dHA6Ly93d3cudzMub3JnLzIwMDAvc3ZnXCIgdmVyc2lvbj1cIjEuMVwiPiAgPHBhdGggZD1cIk0gLTMuMCAtMy4wIEwgMy4wIC0zLjAgTCAzLjAgMy4wIEwgLTMuMCAzLjAgWlwiIHN0cm9rZT1cIiMwMDdGMDBcIiBzdHJva2Utd2lkdGg9XCIxLjBcIiBzdHJva2Utb3BhY2l0eT1cIjFcIiBmaWxsPVwiIzAwN0YwMFwiIGZpbGwtb3BhY2l0eT1cIjFcIiAvPjwvc3ZnPiIsICJhbmNob3JfeCI6IDQuMCwgImFuY2hvcl95IjogNC4wfX0sIHsidHlwZSI6ICJGZWF0dXJlIiwgImdlb21ldHJ5IjogeyJ0eXBlIjogIlBvaW50IiwgImNvb3JkaW5hdGVzIjogWy03OS4zNzk3ODgzMTkzLCA0My43NjY3NTQxMzk0XX0sICJwcm9wZXJ0aWVzIjogeyJodG1sIjogIjxzdmcgd2lkdGg9XCI4cHhcIiBoZWlnaHQ9XCI4cHhcIiB2aWV3Qm94PVwiLTQuMCAtNC4wIDguMCA4LjBcIiB4bWxucz1cImh0dHA6Ly93d3cudzMub3JnLzIwMDAvc3ZnXCIgdmVyc2lvbj1cIjEuMVwiPiAgPHBhdGggZD1cIk0gLTMuMCAtMy4wIEwgMy4wIC0zLjAgTCAzLjAgMy4wIEwgLTMuMCAzLjAgWlwiIHN0cm9rZT1cIiMwMDdGMDBcIiBzdHJva2Utd2lkdGg9XCIxLjBcIiBzdHJva2Utb3BhY2l0eT1cIjFcIiBmaWxsPVwiIzAwN0YwMFwiIGZpbGwtb3BhY2l0eT1cIjFcIiAvPjwvc3ZnPiIsICJhbmNob3JfeCI6IDQuMCwgImFuY2hvcl95IjogNC4wfX0sIHsidHlwZSI6ICJGZWF0dXJlIiwgImdlb21ldHJ5IjogeyJ0eXBlIjogIlBvaW50IiwgImNvb3JkaW5hdGVzIjogWy03OS40NzA3NDYwNDMzLCA0My43NjcyODY2NTA1XX0sICJwcm9wZXJ0aWVzIjogeyJodG1sIjogIjxzdmcgd2lkdGg9XCI4cHhcIiBoZWlnaHQ9XCI4cHhcIiB2aWV3Qm94PVwiLTQuMCAtNC4wIDguMCA4LjBcIiB4bWxucz1cImh0dHA6Ly93d3cudzMub3JnLzIwMDAvc3ZnXCIgdmVyc2lvbj1cIjEuMVwiPiAgPHBhdGggZD1cIk0gLTMuMCAtMy4wIEwgMy4wIC0zLjAgTCAzLjAgMy4wIEwgLTMuMCAzLjAgWlwiIHN0cm9rZT1cIiMwMDdGMDBcIiBzdHJva2Utd2lkdGg9XCIxLjBcIiBzdHJva2Utb3BhY2l0eT1cIjFcIiBmaWxsPVwiIzAwN0YwMFwiIGZpbGwtb3BhY2l0eT1cIjFcIiAvPjwvc3ZnPiIsICJhbmNob3JfeCI6IDQuMCwgImFuY2hvcl95IjogNC4wfX0sIHsidHlwZSI6ICJGZWF0dXJlIiwgImdlb21ldHJ5IjogeyJ0eXBlIjogIlBvaW50IiwgImNvb3JkaW5hdGVzIjogWy03OS40MzcyMDM3Nzg5LCA0My43NzQ2NjQ2NTE3XX0sICJwcm9wZXJ0aWVzIjogeyJodG1sIjogIjxzdmcgd2lkdGg9XCI4cHhcIiBoZWlnaHQ9XCI4cHhcIiB2aWV3Qm94PVwiLTQuMCAtNC4wIDguMCA4LjBcIiB4bWxucz1cImh0dHA6Ly93d3cudzMub3JnLzIwMDAvc3ZnXCIgdmVyc2lvbj1cIjEuMVwiPiAgPHBhdGggZD1cIk0gLTMuMCAtMy4wIEwgMy4wIC0zLjAgTCAzLjAgMy4wIEwgLTMuMCAzLjAgWlwiIHN0cm9rZT1cIiMwMDdGMDBcIiBzdHJva2Utd2lkdGg9XCIxLjBcIiBzdHJva2Utb3BhY2l0eT1cIjFcIiBmaWxsPVwiIzAwN0YwMFwiIGZpbGwtb3BhY2l0eT1cIjFcIiAvPjwvc3ZnPiIsICJhbmNob3JfeCI6IDQuMCwgImFuY2hvcl95IjogNC4wfX0sIHsidHlwZSI6ICJGZWF0dXJlIiwgImdlb21ldHJ5IjogeyJ0eXBlIjogIlBvaW50IiwgImNvb3JkaW5hdGVzIjogWy03OS42MjEzNjU0MzA0LCA0My43MzU1MTEyMjY2XX0sICJwcm9wZXJ0aWVzIjogeyJodG1sIjogIjxzdmcgd2lkdGg9XCI4cHhcIiBoZWlnaHQ9XCI4cHhcIiB2aWV3Qm94PVwiLTQuMCAtNC4wIDguMCA4LjBcIiB4bWxucz1cImh0dHA6Ly93d3cudzMub3JnLzIwMDAvc3ZnXCIgdmVyc2lvbj1cIjEuMVwiPiAgPHBhdGggZD1cIk0gLTMuMCAtMy4wIEwgMy4wIC0zLjAgTCAzLjAgMy4wIEwgLTMuMCAzLjAgWlwiIHN0cm9rZT1cIiMwMDdGMDBcIiBzdHJva2Utd2lkdGg9XCIxLjBcIiBzdHJva2Utb3BhY2l0eT1cIjFcIiBmaWxsPVwiIzAwN0YwMFwiIGZpbGwtb3BhY2l0eT1cIjFcIiAvPjwvc3ZnPiIsICJhbmNob3JfeCI6IDQuMCwgImFuY2hvcl95IjogNC4wfX0sIHsidHlwZSI6ICJGZWF0dXJlIiwgImdlb21ldHJ5IjogeyJ0eXBlIjogIlBvaW50IiwgImNvb3JkaW5hdGVzIjogWy03OS42MDU4ODc3OTk0LCA0My43MzQxMzI2OV19LCAicHJvcGVydGllcyI6IHsiaHRtbCI6ICI8c3ZnIHdpZHRoPVwiOHB4XCIgaGVpZ2h0PVwiOHB4XCIgdmlld0JveD1cIi00LjAgLTQuMCA4LjAgOC4wXCIgeG1sbnM9XCJodHRwOi8vd3d3LnczLm9yZy8yMDAwL3N2Z1wiIHZlcnNpb249XCIxLjFcIj4gIDxwYXRoIGQ9XCJNIC0zLjAgLTMuMCBMIDMuMCAtMy4wIEwgMy4wIDMuMCBMIC0zLjAgMy4wIFpcIiBzdHJva2U9XCIjMDA3RjAwXCIgc3Ryb2tlLXdpZHRoPVwiMS4wXCIgc3Ryb2tlLW9wYWNpdHk9XCIxXCIgZmlsbD1cIiMwMDdGMDBcIiBmaWxsLW9wYWNpdHk9XCIxXCIgLz48L3N2Zz4iLCAiYW5jaG9yX3giOiA0LjAsICJhbmNob3JfeSI6IDQuMH19LCB7InR5cGUiOiAiRmVhdHVyZSIsICJnZW9tZXRyeSI6IHsidHlwZSI6ICJQb2ludCIsICJjb29yZGluYXRlcyI6IFstNzkuMjgyODE2NTU3MSwgNDMuODI0NDkyMjc4NV19LCAicHJvcGVydGllcyI6IHsiaHRtbCI6ICI8c3ZnIHdpZHRoPVwiOHB4XCIgaGVpZ2h0PVwiOHB4XCIgdmlld0JveD1cIi00LjAgLTQuMCA4LjAgOC4wXCIgeG1sbnM9XCJodHRwOi8vd3d3LnczLm9yZy8yMDAwL3N2Z1wiIHZlcnNpb249XCIxLjFcIj4gIDxwYXRoIGQ9XCJNIC0zLjAgLTMuMCBMIDMuMCAtMy4wIEwgMy4wIDMuMCBMIC0zLjAgMy4wIFpcIiBzdHJva2U9XCIjMDA3RjAwXCIgc3Ryb2tlLXdpZHRoPVwiMS4wXCIgc3Ryb2tlLW9wYWNpdHk9XCIxXCIgZmlsbD1cIiMwMDdGMDBcIiBmaWxsLW9wYWNpdHk9XCIxXCIgLz48L3N2Zz4iLCAiYW5jaG9yX3giOiA0LjAsICJhbmNob3JfeSI6IDQuMH19LCB7InR5cGUiOiAiRmVhdHVyZSIsICJnZW9tZXRyeSI6IHsidHlwZSI6ICJQb2ludCIsICJjb29yZGluYXRlcyI6IFstNzkuMjgzNDg2MzM0NCwgNDMuODIzODY3ODcyOV19LCAicHJvcGVydGllcyI6IHsiaHRtbCI6ICI8c3ZnIHdpZHRoPVwiOHB4XCIgaGVpZ2h0PVwiOHB4XCIgdmlld0JveD1cIi00LjAgLTQuMCA4LjAgOC4wXCIgeG1sbnM9XCJodHRwOi8vd3d3LnczLm9yZy8yMDAwL3N2Z1wiIHZlcnNpb249XCIxLjFcIj4gIDxwYXRoIGQ9XCJNIC0zLjAgLTMuMCBMIDMuMCAtMy4wIEwgMy4wIDMuMCBMIC0zLjAgMy4wIFpcIiBzdHJva2U9XCIjMDA3RjAwXCIgc3Ryb2tlLXdpZHRoPVwiMS4wXCIgc3Ryb2tlLW9wYWNpdHk9XCIxXCIgZmlsbD1cIiMwMDdGMDBcIiBmaWxsLW9wYWNpdHk9XCIxXCIgLz48L3N2Zz4iLCAiYW5jaG9yX3giOiA0LjAsICJhbmNob3JfeSI6IDQuMH19LCB7InR5cGUiOiAiRmVhdHVyZSIsICJnZW9tZXRyeSI6IHsidHlwZSI6ICJQb2ludCIsICJjb29yZGluYXRlcyI6IFstNzkuMzI5Nzc4NDU3NCwgNDMuNjg2OTc1MTk1Ml19LCAicHJvcGVydGllcyI6IHsiaHRtbCI6ICI8c3ZnIHdpZHRoPVwiOHB4XCIgaGVpZ2h0PVwiOHB4XCIgdmlld0JveD1cIi00LjAgLTQuMCA4LjAgOC4wXCIgeG1sbnM9XCJodHRwOi8vd3d3LnczLm9yZy8yMDAwL3N2Z1wiIHZlcnNpb249XCIxLjFcIj4gIDxwYXRoIGQ9XCJNIC0zLjAgLTMuMCBMIDMuMCAtMy4wIEwgMy4wIDMuMCBMIC0zLjAgMy4wIFpcIiBzdHJva2U9XCIjMDA3RjAwXCIgc3Ryb2tlLXdpZHRoPVwiMS4wXCIgc3Ryb2tlLW9wYWNpdHk9XCIxXCIgZmlsbD1cIiMwMDdGMDBcIiBmaWxsLW9wYWNpdHk9XCIxXCIgLz48L3N2Zz4iLCAiYW5jaG9yX3giOiA0LjAsICJhbmNob3JfeSI6IDQuMH19LCB7InR5cGUiOiAiRmVhdHVyZSIsICJnZW9tZXRyeSI6IHsidHlwZSI6ICJQb2ludCIsICJjb29yZGluYXRlcyI6IFstNzkuMzI3MzEzNTU2LCA0My42OTA2NTQzODY1XX0sICJwcm9wZXJ0aWVzIjogeyJodG1sIjogIjxzdmcgd2lkdGg9XCI4cHhcIiBoZWlnaHQ9XCI4cHhcIiB2aWV3Qm94PVwiLTQuMCAtNC4wIDguMCA4LjBcIiB4bWxucz1cImh0dHA6Ly93d3cudzMub3JnLzIwMDAvc3ZnXCIgdmVyc2lvbj1cIjEuMVwiPiAgPHBhdGggZD1cIk0gLTMuMCAtMy4wIEwgMy4wIC0zLjAgTCAzLjAgMy4wIEwgLTMuMCAzLjAgWlwiIHN0cm9rZT1cIiMwMDdGMDBcIiBzdHJva2Utd2lkdGg9XCIxLjBcIiBzdHJva2Utb3BhY2l0eT1cIjFcIiBmaWxsPVwiIzAwN0YwMFwiIGZpbGwtb3BhY2l0eT1cIjFcIiAvPjwvc3ZnPiIsICJhbmNob3JfeCI6IDQuMCwgImFuY2hvcl95IjogNC4wfX0sIHsidHlwZSI6ICJGZWF0dXJlIiwgImdlb21ldHJ5IjogeyJ0eXBlIjogIlBvaW50IiwgImNvb3JkaW5hdGVzIjogWy03OS4zMTQ1ODMzNDkzLCA0My42OTUzNzA0Mzg1XX0sICJwcm9wZXJ0aWVzIjogeyJodG1sIjogIjxzdmcgd2lkdGg9XCI4cHhcIiBoZWlnaHQ9XCI4cHhcIiB2aWV3Qm94PVwiLTQuMCAtNC4wIDguMCA4LjBcIiB4bWxucz1cImh0dHA6Ly93d3cudzMub3JnLzIwMDAvc3ZnXCIgdmVyc2lvbj1cIjEuMVwiPiAgPHBhdGggZD1cIk0gLTMuMCAtMy4wIEwgMy4wIC0zLjAgTCAzLjAgMy4wIEwgLTMuMCAzLjAgWlwiIHN0cm9rZT1cIiMwMDdGMDBcIiBzdHJva2Utd2lkdGg9XCIxLjBcIiBzdHJva2Utb3BhY2l0eT1cIjFcIiBmaWxsPVwiIzAwN0YwMFwiIGZpbGwtb3BhY2l0eT1cIjFcIiAvPjwvc3ZnPiIsICJhbmNob3JfeCI6IDQuMCwgImFuY2hvcl95IjogNC4wfX0sIHsidHlwZSI6ICJGZWF0dXJlIiwgImdlb21ldHJ5IjogeyJ0eXBlIjogIlBvaW50IiwgImNvb3JkaW5hdGVzIjogWy03OS41NjY0OTU3MTEzLCA0My43MzkwODUwMTczXX0sICJwcm9wZXJ0aWVzIjogeyJodG1sIjogIjxzdmcgd2lkdGg9XCI4cHhcIiBoZWlnaHQ9XCI4cHhcIiB2aWV3Qm94PVwiLTQuMCAtNC4wIDguMCA4LjBcIiB4bWxucz1cImh0dHA6Ly93d3cudzMub3JnLzIwMDAvc3ZnXCIgdmVyc2lvbj1cIjEuMVwiPiAgPHBhdGggZD1cIk0gLTMuMCAtMy4wIEwgMy4wIC0zLjAgTCAzLjAgMy4wIEwgLTMuMCAzLjAgWlwiIHN0cm9rZT1cIiMwMDdGMDBcIiBzdHJva2Utd2lkdGg9XCIxLjBcIiBzdHJva2Utb3BhY2l0eT1cIjFcIiBmaWxsPVwiIzAwN0YwMFwiIGZpbGwtb3BhY2l0eT1cIjFcIiAvPjwvc3ZnPiIsICJhbmNob3JfeCI6IDQuMCwgImFuY2hvcl95IjogNC4wfX0sIHsidHlwZSI6ICJGZWF0dXJlIiwgImdlb21ldHJ5IjogeyJ0eXBlIjogIlBvaW50IiwgImNvb3JkaW5hdGVzIjogWy03OS40MDkzMjYyNjA1LCA0My42NzQ2NDE5ODQ0XX0sICJwcm9wZXJ0aWVzIjogeyJodG1sIjogIjxzdmcgd2lkdGg9XCI4cHhcIiBoZWlnaHQ9XCI4cHhcIiB2aWV3Qm94PVwiLTQuMCAtNC4wIDguMCA4LjBcIiB4bWxucz1cImh0dHA6Ly93d3cudzMub3JnLzIwMDAvc3ZnXCIgdmVyc2lvbj1cIjEuMVwiPiAgPHBhdGggZD1cIk0gLTMuMCAtMy4wIEwgMy4wIC0zLjAgTCAzLjAgMy4wIEwgLTMuMCAzLjAgWlwiIHN0cm9rZT1cIiMwMDdGMDBcIiBzdHJva2Utd2lkdGg9XCIxLjBcIiBzdHJva2Utb3BhY2l0eT1cIjFcIiBmaWxsPVwiIzAwN0YwMFwiIGZpbGwtb3BhY2l0eT1cIjFcIiAvPjwvc3ZnPiIsICJhbmNob3JfeCI6IDQuMCwgImFuY2hvcl95IjogNC4wfX0sIHsidHlwZSI6ICJGZWF0dXJlIiwgImdlb21ldHJ5IjogeyJ0eXBlIjogIlBvaW50IiwgImNvb3JkaW5hdGVzIjogWy03OS40NTc2MzUwMDMsIDQzLjc4OTg0NzU1M119LCAicHJvcGVydGllcyI6IHsiaHRtbCI6ICI8c3ZnIHdpZHRoPVwiNHB4XCIgaGVpZ2h0PVwiNHB4XCIgdmlld0JveD1cIi0yLjAgLTIuMCA0LjAgNC4wXCIgeG1sbnM9XCJodHRwOi8vd3d3LnczLm9yZy8yMDAwL3N2Z1wiIHZlcnNpb249XCIxLjFcIj4gIDxwYXRoIGQ9XCJNIDAuMCAtMS41IEMgMC4zOTc4MDQ2NTAwMDAwMDAwNCAtMS41IDAuNzc5MzY5ODA2MTc3MjgwMiAtMS4zNDE5NTA1MzczODIzNjI2IDEuMDYwNjYwMTcxNzc5ODIxNCAtMS4wNjA2NjAxNzE3Nzk4MjE0IEMgMS4zNDE5NTA1MzczODIzNjI2IC0wLjc3OTM2OTgwNjE3NzI4MDIgMS41IC0wLjM5NzgwNDY1MDAwMDAwMDA0IDEuNSAtMC4wIEMgMS41IDAuMzk3ODA0NjUwMDAwMDAwMDQgMS4zNDE5NTA1MzczODIzNjI2IDAuNzc5MzY5ODA2MTc3MjgwMiAxLjA2MDY2MDE3MTc3OTgyMTQgMS4wNjA2NjAxNzE3Nzk4MjE0IEMgMC43NzkzNjk4MDYxNzcyODAyIDEuMzQxOTUwNTM3MzgyMzYyNiAwLjM5NzgwNDY1MDAwMDAwMDA0IDEuNSAwLjAgMS41IEMgLTAuMzk3ODA0NjUwMDAwMDAwMDQgMS41IC0wLjc3OTM2OTgwNjE3NzI4MDIgMS4zNDE5NTA1MzczODIzNjI2IC0xLjA2MDY2MDE3MTc3OTgyMTQgMS4wNjA2NjAxNzE3Nzk4MjE0IEMgLTEuMzQxOTUwNTM3MzgyMzYyNiAwLjc3OTM2OTgwNjE3NzI4MDIgLTEuNSAwLjM5NzgwNDY1MDAwMDAwMDA0IC0xLjUgLTAuMCBDIC0xLjUgLTAuMzk3ODA0NjUwMDAwMDAwMDQgLTEuMzQxOTUwNTM3MzgyMzYyNiAtMC43NzkzNjk4MDYxNzcyODAyIC0xLjA2MDY2MDE3MTc3OTgyMTQgLTEuMDYwNjYwMTcxNzc5ODIxNCBDIC0wLjc3OTM2OTgwNjE3NzI4MDIgLTEuMzQxOTUwNTM3MzgyMzYyNiAtMC4zOTc4MDQ2NTAwMDAwMDAwNCAtMS41IDAuMCAtMS41IFpcIiBzdHJva2U9XCIjMDAwMEZGXCIgc3Ryb2tlLXdpZHRoPVwiMS4wXCIgc3Ryb2tlLW9wYWNpdHk9XCIxXCIgZmlsbD1cIiMwMDAwRkZcIiBmaWxsLW9wYWNpdHk9XCIxXCIgLz48L3N2Zz4iLCAiYW5jaG9yX3giOiAyLjAsICJhbmNob3JfeSI6IDIuMH19LCB7InR5cGUiOiAiRmVhdHVyZSIsICJnZW9tZXRyeSI6IHsidHlwZSI6ICJQb2ludCIsICJjb29yZGluYXRlcyI6IFstNzkuMzQ3ODE0NjkyOSwgNDMuNzk0NzAyMDc0N119LCAicHJvcGVydGllcyI6IHsiaHRtbCI6ICI8c3ZnIHdpZHRoPVwiNHB4XCIgaGVpZ2h0PVwiNHB4XCIgdmlld0JveD1cIi0yLjAgLTIuMCA0LjAgNC4wXCIgeG1sbnM9XCJodHRwOi8vd3d3LnczLm9yZy8yMDAwL3N2Z1wiIHZlcnNpb249XCIxLjFcIj4gIDxwYXRoIGQ9XCJNIDAuMCAtMS41IEMgMC4zOTc4MDQ2NTAwMDAwMDAwNCAtMS41IDAuNzc5MzY5ODA2MTc3MjgwMiAtMS4zNDE5NTA1MzczODIzNjI2IDEuMDYwNjYwMTcxNzc5ODIxNCAtMS4wNjA2NjAxNzE3Nzk4MjE0IEMgMS4zNDE5NTA1MzczODIzNjI2IC0wLjc3OTM2OTgwNjE3NzI4MDIgMS41IC0wLjM5NzgwNDY1MDAwMDAwMDA0IDEuNSAtMC4wIEMgMS41IDAuMzk3ODA0NjUwMDAwMDAwMDQgMS4zNDE5NTA1MzczODIzNjI2IDAuNzc5MzY5ODA2MTc3MjgwMiAxLjA2MDY2MDE3MTc3OTgyMTQgMS4wNjA2NjAxNzE3Nzk4MjE0IEMgMC43NzkzNjk4MDYxNzcyODAyIDEuMzQxOTUwNTM3MzgyMzYyNiAwLjM5NzgwNDY1MDAwMDAwMDA0IDEuNSAwLjAgMS41IEMgLTAuMzk3ODA0NjUwMDAwMDAwMDQgMS41IC0wLjc3OTM2OTgwNjE3NzI4MDIgMS4zNDE5NTA1MzczODIzNjI2IC0xLjA2MDY2MDE3MTc3OTgyMTQgMS4wNjA2NjAxNzE3Nzk4MjE0IEMgLTEuMzQxOTUwNTM3MzgyMzYyNiAwLjc3OTM2OTgwNjE3NzI4MDIgLTEuNSAwLjM5NzgwNDY1MDAwMDAwMDA0IC0xLjUgLTAuMCBDIC0xLjUgLTAuMzk3ODA0NjUwMDAwMDAwMDQgLTEuMzQxOTUwNTM3MzgyMzYyNiAtMC43NzkzNjk4MDYxNzcyODAyIC0xLjA2MDY2MDE3MTc3OTgyMTQgLTEuMDYwNjYwMTcxNzc5ODIxNCBDIC0wLjc3OTM2OTgwNjE3NzI4MDIgLTEuMzQxOTUwNTM3MzgyMzYyNiAtMC4zOTc4MDQ2NTAwMDAwMDAwNCAtMS41IDAuMCAtMS41IFpcIiBzdHJva2U9XCIjMDAwMEZGXCIgc3Ryb2tlLXdpZHRoPVwiMS4wXCIgc3Ryb2tlLW9wYWNpdHk9XCIxXCIgZmlsbD1cIiMwMDAwRkZcIiBmaWxsLW9wYWNpdHk9XCIxXCIgLz48L3N2Zz4iLCAiYW5jaG9yX3giOiAyLjAsICJhbmNob3JfeSI6IDIuMH19LCB7InR5cGUiOiAiRmVhdHVyZSIsICJnZW9tZXRyeSI6IHsidHlwZSI6ICJQb2ludCIsICJjb29yZGluYXRlcyI6IFstNzkuMjU5NjA1MzcxNywgNDMuNzMzOTk2NTgwM119LCAicHJvcGVydGllcyI6IHsiaHRtbCI6ICI8c3ZnIHdpZHRoPVwiNHB4XCIgaGVpZ2h0PVwiNHB4XCIgdmlld0JveD1cIi0yLjAgLTIuMCA0LjAgNC4wXCIgeG1sbnM9XCJodHRwOi8vd3d3LnczLm9yZy8yMDAwL3N2Z1wiIHZlcnNpb249XCIxLjFcIj4gIDxwYXRoIGQ9XCJNIDAuMCAtMS41IEMgMC4zOTc4MDQ2NTAwMDAwMDAwNCAtMS41IDAuNzc5MzY5ODA2MTc3MjgwMiAtMS4zNDE5NTA1MzczODIzNjI2IDEuMDYwNjYwMTcxNzc5ODIxNCAtMS4wNjA2NjAxNzE3Nzk4MjE0IEMgMS4zNDE5NTA1MzczODIzNjI2IC0wLjc3OTM2OTgwNjE3NzI4MDIgMS41IC0wLjM5NzgwNDY1MDAwMDAwMDA0IDEuNSAtMC4wIEMgMS41IDAuMzk3ODA0NjUwMDAwMDAwMDQgMS4zNDE5NTA1MzczODIzNjI2IDAuNzc5MzY5ODA2MTc3MjgwMiAxLjA2MDY2MDE3MTc3OTgyMTQgMS4wNjA2NjAxNzE3Nzk4MjE0IEMgMC43NzkzNjk4MDYxNzcyODAyIDEuMzQxOTUwNTM3MzgyMzYyNiAwLjM5NzgwNDY1MDAwMDAwMDA0IDEuNSAwLjAgMS41IEMgLTAuMzk3ODA0NjUwMDAwMDAwMDQgMS41IC0wLjc3OTM2OTgwNjE3NzI4MDIgMS4zNDE5NTA1MzczODIzNjI2IC0xLjA2MDY2MDE3MTc3OTgyMTQgMS4wNjA2NjAxNzE3Nzk4MjE0IEMgLTEuMzQxOTUwNTM3MzgyMzYyNiAwLjc3OTM2OTgwNjE3NzI4MDIgLTEuNSAwLjM5NzgwNDY1MDAwMDAwMDA0IC0xLjUgLTAuMCBDIC0xLjUgLTAuMzk3ODA0NjUwMDAwMDAwMDQgLTEuMzQxOTUwNTM3MzgyMzYyNiAtMC43NzkzNjk4MDYxNzcyODAyIC0xLjA2MDY2MDE3MTc3OTgyMTQgLTEuMDYwNjYwMTcxNzc5ODIxNCBDIC0wLjc3OTM2OTgwNjE3NzI4MDIgLTEuMzQxOTUwNTM3MzgyMzYyNiAtMC4zOTc4MDQ2NTAwMDAwMDAwNCAtMS41IDAuMCAtMS41IFpcIiBzdHJva2U9XCIjMDAwMEZGXCIgc3Ryb2tlLXdpZHRoPVwiMS4wXCIgc3Ryb2tlLW9wYWNpdHk9XCIxXCIgZmlsbD1cIiMwMDAwRkZcIiBmaWxsLW9wYWNpdHk9XCIxXCIgLz48L3N2Zz4iLCAiYW5jaG9yX3giOiAyLjAsICJhbmNob3JfeSI6IDIuMH19LCB7InR5cGUiOiAiRmVhdHVyZSIsICJnZW9tZXRyeSI6IHsidHlwZSI6ICJQb2ludCIsICJjb29yZGluYXRlcyI6IFstNzkuMjg4MjE1NjM2LCA0My42ODgzNjM4NjFdfSwgInByb3BlcnRpZXMiOiB7Imh0bWwiOiAiPHN2ZyB3aWR0aD1cIjRweFwiIGhlaWdodD1cIjRweFwiIHZpZXdCb3g9XCItMi4wIC0yLjAgNC4wIDQuMFwiIHhtbG5zPVwiaHR0cDovL3d3dy53My5vcmcvMjAwMC9zdmdcIiB2ZXJzaW9uPVwiMS4xXCI+ICA8cGF0aCBkPVwiTSAwLjAgLTEuNSBDIDAuMzk3ODA0NjUwMDAwMDAwMDQgLTEuNSAwLjc3OTM2OTgwNjE3NzI4MDIgLTEuMzQxOTUwNTM3MzgyMzYyNiAxLjA2MDY2MDE3MTc3OTgyMTQgLTEuMDYwNjYwMTcxNzc5ODIxNCBDIDEuMzQxOTUwNTM3MzgyMzYyNiAtMC43NzkzNjk4MDYxNzcyODAyIDEuNSAtMC4zOTc4MDQ2NTAwMDAwMDAwNCAxLjUgLTAuMCBDIDEuNSAwLjM5NzgwNDY1MDAwMDAwMDA0IDEuMzQxOTUwNTM3MzgyMzYyNiAwLjc3OTM2OTgwNjE3NzI4MDIgMS4wNjA2NjAxNzE3Nzk4MjE0IDEuMDYwNjYwMTcxNzc5ODIxNCBDIDAuNzc5MzY5ODA2MTc3MjgwMiAxLjM0MTk1MDUzNzM4MjM2MjYgMC4zOTc4MDQ2NTAwMDAwMDAwNCAxLjUgMC4wIDEuNSBDIC0wLjM5NzgwNDY1MDAwMDAwMDA0IDEuNSAtMC43NzkzNjk4MDYxNzcyODAyIDEuMzQxOTUwNTM3MzgyMzYyNiAtMS4wNjA2NjAxNzE3Nzk4MjE0IDEuMDYwNjYwMTcxNzc5ODIxNCBDIC0xLjM0MTk1MDUzNzM4MjM2MjYgMC43NzkzNjk4MDYxNzcyODAyIC0xLjUgMC4zOTc4MDQ2NTAwMDAwMDAwNCAtMS41IC0wLjAgQyAtMS41IC0wLjM5NzgwNDY1MDAwMDAwMDA0IC0xLjM0MTk1MDUzNzM4MjM2MjYgLTAuNzc5MzY5ODA2MTc3MjgwMiAtMS4wNjA2NjAxNzE3Nzk4MjE0IC0xLjA2MDY2MDE3MTc3OTgyMTQgQyAtMC43NzkzNjk4MDYxNzcyODAyIC0xLjM0MTk1MDUzNzM4MjM2MjYgLTAuMzk3ODA0NjUwMDAwMDAwMDQgLTEuNSAwLjAgLTEuNSBaXCIgc3Ryb2tlPVwiIzAwMDBGRlwiIHN0cm9rZS13aWR0aD1cIjEuMFwiIHN0cm9rZS1vcGFjaXR5PVwiMVwiIGZpbGw9XCIjMDAwMEZGXCIgZmlsbC1vcGFjaXR5PVwiMVwiIC8+PC9zdmc+IiwgImFuY2hvcl94IjogMi4wLCAiYW5jaG9yX3kiOiAyLjB9fSwgeyJ0eXBlIjogIkZlYXR1cmUiLCAiZ2VvbWV0cnkiOiB7InR5cGUiOiAiUG9pbnQiLCAiY29vcmRpbmF0ZXMiOiBbLTc5LjMyNDAyOTk2NTcsIDQzLjY3NjkzNjA3NzZdfSwgInByb3BlcnRpZXMiOiB7Imh0bWwiOiAiPHN2ZyB3aWR0aD1cIjRweFwiIGhlaWdodD1cIjRweFwiIHZpZXdCb3g9XCItMi4wIC0yLjAgNC4wIDQuMFwiIHhtbG5zPVwiaHR0cDovL3d3dy53My5vcmcvMjAwMC9zdmdcIiB2ZXJzaW9uPVwiMS4xXCI+ICA8cGF0aCBkPVwiTSAwLjAgLTEuNSBDIDAuMzk3ODA0NjUwMDAwMDAwMDQgLTEuNSAwLjc3OTM2OTgwNjE3NzI4MDIgLTEuMzQxOTUwNTM3MzgyMzYyNiAxLjA2MDY2MDE3MTc3OTgyMTQgLTEuMDYwNjYwMTcxNzc5ODIxNCBDIDEuMzQxOTUwNTM3MzgyMzYyNiAtMC43NzkzNjk4MDYxNzcyODAyIDEuNSAtMC4zOTc4MDQ2NTAwMDAwMDAwNCAxLjUgLTAuMCBDIDEuNSAwLjM5NzgwNDY1MDAwMDAwMDA0IDEuMzQxOTUwNTM3MzgyMzYyNiAwLjc3OTM2OTgwNjE3NzI4MDIgMS4wNjA2NjAxNzE3Nzk4MjE0IDEuMDYwNjYwMTcxNzc5ODIxNCBDIDAuNzc5MzY5ODA2MTc3MjgwMiAxLjM0MTk1MDUzNzM4MjM2MjYgMC4zOTc4MDQ2NTAwMDAwMDAwNCAxLjUgMC4wIDEuNSBDIC0wLjM5NzgwNDY1MDAwMDAwMDA0IDEuNSAtMC43NzkzNjk4MDYxNzcyODAyIDEuMzQxOTUwNTM3MzgyMzYyNiAtMS4wNjA2NjAxNzE3Nzk4MjE0IDEuMDYwNjYwMTcxNzc5ODIxNCBDIC0xLjM0MTk1MDUzNzM4MjM2MjYgMC43NzkzNjk4MDYxNzcyODAyIC0xLjUgMC4zOTc4MDQ2NTAwMDAwMDAwNCAtMS41IC0wLjAgQyAtMS41IC0wLjM5NzgwNDY1MDAwMDAwMDA0IC0xLjM0MTk1MDUzNzM4MjM2MjYgLTAuNzc5MzY5ODA2MTc3MjgwMiAtMS4wNjA2NjAxNzE3Nzk4MjE0IC0xLjA2MDY2MDE3MTc3OTgyMTQgQyAtMC43NzkzNjk4MDYxNzcyODAyIC0xLjM0MTk1MDUzNzM4MjM2MjYgLTAuMzk3ODA0NjUwMDAwMDAwMDQgLTEuNSAwLjAgLTEuNSBaXCIgc3Ryb2tlPVwiIzAwMDBGRlwiIHN0cm9rZS13aWR0aD1cIjEuMFwiIHN0cm9rZS1vcGFjaXR5PVwiMVwiIGZpbGw9XCIjMDAwMEZGXCIgZmlsbC1vcGFjaXR5PVwiMVwiIC8+PC9zdmc+IiwgImFuY2hvcl94IjogMi4wLCAiYW5jaG9yX3kiOiAyLjB9fSwgeyJ0eXBlIjogIkZlYXR1cmUiLCAiZ2VvbWV0cnkiOiB7InR5cGUiOiAiUG9pbnQiLCAiY29vcmRpbmF0ZXMiOiBbLTc5LjQzNzIwMzc3ODksIDQzLjc3NDY2NDY1MTddfSwgInByb3BlcnRpZXMiOiB7Imh0bWwiOiAiPHN2ZyB3aWR0aD1cIjRweFwiIGhlaWdodD1cIjRweFwiIHZpZXdCb3g9XCItMi4wIC0yLjAgNC4wIDQuMFwiIHhtbG5zPVwiaHR0cDovL3d3dy53My5vcmcvMjAwMC9zdmdcIiB2ZXJzaW9uPVwiMS4xXCI+ICA8cGF0aCBkPVwiTSAwLjAgLTEuNSBDIDAuMzk3ODA0NjUwMDAwMDAwMDQgLTEuNSAwLjc3OTM2OTgwNjE3NzI4MDIgLTEuMzQxOTUwNTM3MzgyMzYyNiAxLjA2MDY2MDE3MTc3OTgyMTQgLTEuMDYwNjYwMTcxNzc5ODIxNCBDIDEuMzQxOTUwNTM3MzgyMzYyNiAtMC43NzkzNjk4MDYxNzcyODAyIDEuNSAtMC4zOTc4MDQ2NTAwMDAwMDAwNCAxLjUgLTAuMCBDIDEuNSAwLjM5NzgwNDY1MDAwMDAwMDA0IDEuMzQxOTUwNTM3MzgyMzYyNiAwLjc3OTM2OTgwNjE3NzI4MDIgMS4wNjA2NjAxNzE3Nzk4MjE0IDEuMDYwNjYwMTcxNzc5ODIxNCBDIDAuNzc5MzY5ODA2MTc3MjgwMiAxLjM0MTk1MDUzNzM4MjM2MjYgMC4zOTc4MDQ2NTAwMDAwMDAwNCAxLjUgMC4wIDEuNSBDIC0wLjM5NzgwNDY1MDAwMDAwMDA0IDEuNSAtMC43NzkzNjk4MDYxNzcyODAyIDEuMzQxOTUwNTM3MzgyMzYyNiAtMS4wNjA2NjAxNzE3Nzk4MjE0IDEuMDYwNjYwMTcxNzc5ODIxNCBDIC0xLjM0MTk1MDUzNzM4MjM2MjYgMC43NzkzNjk4MDYxNzcyODAyIC0xLjUgMC4zOTc4MDQ2NTAwMDAwMDAwNCAtMS41IC0wLjAgQyAtMS41IC0wLjM5NzgwNDY1MDAwMDAwMDA0IC0xLjM0MTk1MDUzNzM4MjM2MjYgLTAuNzc5MzY5ODA2MTc3MjgwMiAtMS4wNjA2NjAxNzE3Nzk4MjE0IC0xLjA2MDY2MDE3MTc3OTgyMTQgQyAtMC43NzkzNjk4MDYxNzcyODAyIC0xLjM0MTk1MDUzNzM4MjM2MjYgLTAuMzk3ODA0NjUwMDAwMDAwMDQgLTEuNSAwLjAgLTEuNSBaXCIgc3Ryb2tlPVwiIzAwMDBGRlwiIHN0cm9rZS13aWR0aD1cIjEuMFwiIHN0cm9rZS1vcGFjaXR5PVwiMVwiIGZpbGw9XCIjMDAwMEZGXCIgZmlsbC1vcGFjaXR5PVwiMVwiIC8+PC9zdmc+IiwgImFuY2hvcl94IjogMi4wLCAiYW5jaG9yX3kiOiAyLjB9fSwgeyJ0eXBlIjogIkZlYXR1cmUiLCAiZ2VvbWV0cnkiOiB7InR5cGUiOiAiUG9pbnQiLCAiY29vcmRpbmF0ZXMiOiBbLTc5LjYyMTM2NTQzMDQsIDQzLjczNTUxMTIyNjZdfSwgInByb3BlcnRpZXMiOiB7Imh0bWwiOiAiPHN2ZyB3aWR0aD1cIjRweFwiIGhlaWdodD1cIjRweFwiIHZpZXdCb3g9XCItMi4wIC0yLjAgNC4wIDQuMFwiIHhtbG5zPVwiaHR0cDovL3d3dy53My5vcmcvMjAwMC9zdmdcIiB2ZXJzaW9uPVwiMS4xXCI+ICA8cGF0aCBkPVwiTSAwLjAgLTEuNSBDIDAuMzk3ODA0NjUwMDAwMDAwMDQgLTEuNSAwLjc3OTM2OTgwNjE3NzI4MDIgLTEuMzQxOTUwNTM3MzgyMzYyNiAxLjA2MDY2MDE3MTc3OTgyMTQgLTEuMDYwNjYwMTcxNzc5ODIxNCBDIDEuMzQxOTUwNTM3MzgyMzYyNiAtMC43NzkzNjk4MDYxNzcyODAyIDEuNSAtMC4zOTc4MDQ2NTAwMDAwMDAwNCAxLjUgLTAuMCBDIDEuNSAwLjM5NzgwNDY1MDAwMDAwMDA0IDEuMzQxOTUwNTM3MzgyMzYyNiAwLjc3OTM2OTgwNjE3NzI4MDIgMS4wNjA2NjAxNzE3Nzk4MjE0IDEuMDYwNjYwMTcxNzc5ODIxNCBDIDAuNzc5MzY5ODA2MTc3MjgwMiAxLjM0MTk1MDUzNzM4MjM2MjYgMC4zOTc4MDQ2NTAwMDAwMDAwNCAxLjUgMC4wIDEuNSBDIC0wLjM5NzgwNDY1MDAwMDAwMDA0IDEuNSAtMC43NzkzNjk4MDYxNzcyODAyIDEuMzQxOTUwNTM3MzgyMzYyNiAtMS4wNjA2NjAxNzE3Nzk4MjE0IDEuMDYwNjYwMTcxNzc5ODIxNCBDIC0xLjM0MTk1MDUzNzM4MjM2MjYgMC43NzkzNjk4MDYxNzcyODAyIC0xLjUgMC4zOTc4MDQ2NTAwMDAwMDAwNCAtMS41IC0wLjAgQyAtMS41IC0wLjM5NzgwNDY1MDAwMDAwMDA0IC0xLjM0MTk1MDUzNzM4MjM2MjYgLTAuNzc5MzY5ODA2MTc3MjgwMiAtMS4wNjA2NjAxNzE3Nzk4MjE0IC0xLjA2MDY2MDE3MTc3OTgyMTQgQyAtMC43NzkzNjk4MDYxNzcyODAyIC0xLjM0MTk1MDUzNzM4MjM2MjYgLTAuMzk3ODA0NjUwMDAwMDAwMDQgLTEuNSAwLjAgLTEuNSBaXCIgc3Ryb2tlPVwiIzAwMDBGRlwiIHN0cm9rZS13aWR0aD1cIjEuMFwiIHN0cm9rZS1vcGFjaXR5PVwiMVwiIGZpbGw9XCIjMDAwMEZGXCIgZmlsbC1vcGFjaXR5PVwiMVwiIC8+PC9zdmc+IiwgImFuY2hvcl94IjogMi4wLCAiYW5jaG9yX3kiOiAyLjB9fSwgeyJ0eXBlIjogIkZlYXR1cmUiLCAiZ2VvbWV0cnkiOiB7InR5cGUiOiAiUG9pbnQiLCAiY29vcmRpbmF0ZXMiOiBbLTc5LjYwNTg4Nzc5OTQsIDQzLjczNDEzMjY5XX0sICJwcm9wZXJ0aWVzIjogeyJodG1sIjogIjxzdmcgd2lkdGg9XCI0cHhcIiBoZWlnaHQ9XCI0cHhcIiB2aWV3Qm94PVwiLTIuMCAtMi4wIDQuMCA0LjBcIiB4bWxucz1cImh0dHA6Ly93d3cudzMub3JnLzIwMDAvc3ZnXCIgdmVyc2lvbj1cIjEuMVwiPiAgPHBhdGggZD1cIk0gMC4wIC0xLjUgQyAwLjM5NzgwNDY1MDAwMDAwMDA0IC0xLjUgMC43NzkzNjk4MDYxNzcyODAyIC0xLjM0MTk1MDUzNzM4MjM2MjYgMS4wNjA2NjAxNzE3Nzk4MjE0IC0xLjA2MDY2MDE3MTc3OTgyMTQgQyAxLjM0MTk1MDUzNzM4MjM2MjYgLTAuNzc5MzY5ODA2MTc3MjgwMiAxLjUgLTAuMzk3ODA0NjUwMDAwMDAwMDQgMS41IC0wLjAgQyAxLjUgMC4zOTc4MDQ2NTAwMDAwMDAwNCAxLjM0MTk1MDUzNzM4MjM2MjYgMC43NzkzNjk4MDYxNzcyODAyIDEuMDYwNjYwMTcxNzc5ODIxNCAxLjA2MDY2MDE3MTc3OTgyMTQgQyAwLjc3OTM2OTgwNjE3NzI4MDIgMS4zNDE5NTA1MzczODIzNjI2IDAuMzk3ODA0NjUwMDAwMDAwMDQgMS41IDAuMCAxLjUgQyAtMC4zOTc4MDQ2NTAwMDAwMDAwNCAxLjUgLTAuNzc5MzY5ODA2MTc3MjgwMiAxLjM0MTk1MDUzNzM4MjM2MjYgLTEuMDYwNjYwMTcxNzc5ODIxNCAxLjA2MDY2MDE3MTc3OTgyMTQgQyAtMS4zNDE5NTA1MzczODIzNjI2IDAuNzc5MzY5ODA2MTc3MjgwMiAtMS41IDAuMzk3ODA0NjUwMDAwMDAwMDQgLTEuNSAtMC4wIEMgLTEuNSAtMC4zOTc4MDQ2NTAwMDAwMDAwNCAtMS4zNDE5NTA1MzczODIzNjI2IC0wLjc3OTM2OTgwNjE3NzI4MDIgLTEuMDYwNjYwMTcxNzc5ODIxNCAtMS4wNjA2NjAxNzE3Nzk4MjE0IEMgLTAuNzc5MzY5ODA2MTc3MjgwMiAtMS4zNDE5NTA1MzczODIzNjI2IC0wLjM5NzgwNDY1MDAwMDAwMDA0IC0xLjUgMC4wIC0xLjUgWlwiIHN0cm9rZT1cIiMwMDAwRkZcIiBzdHJva2Utd2lkdGg9XCIxLjBcIiBzdHJva2Utb3BhY2l0eT1cIjFcIiBmaWxsPVwiIzAwMDBGRlwiIGZpbGwtb3BhY2l0eT1cIjFcIiAvPjwvc3ZnPiIsICJhbmNob3JfeCI6IDIuMCwgImFuY2hvcl95IjogMi4wfX0sIHsidHlwZSI6ICJGZWF0dXJlIiwgImdlb21ldHJ5IjogeyJ0eXBlIjogIlBvaW50IiwgImNvb3JkaW5hdGVzIjogWy03OS4zNjI4MDM4OTMxLCA0My42NjU3NDY2NzE0XX0sICJwcm9wZXJ0aWVzIjogeyJodG1sIjogIjxzdmcgd2lkdGg9XCI0cHhcIiBoZWlnaHQ9XCI0cHhcIiB2aWV3Qm94PVwiLTIuMCAtMi4wIDQuMCA0LjBcIiB4bWxucz1cImh0dHA6Ly93d3cudzMub3JnLzIwMDAvc3ZnXCIgdmVyc2lvbj1cIjEuMVwiPiAgPHBhdGggZD1cIk0gMC4wIC0xLjUgQyAwLjM5NzgwNDY1MDAwMDAwMDA0IC0xLjUgMC43NzkzNjk4MDYxNzcyODAyIC0xLjM0MTk1MDUzNzM4MjM2MjYgMS4wNjA2NjAxNzE3Nzk4MjE0IC0xLjA2MDY2MDE3MTc3OTgyMTQgQyAxLjM0MTk1MDUzNzM4MjM2MjYgLTAuNzc5MzY5ODA2MTc3MjgwMiAxLjUgLTAuMzk3ODA0NjUwMDAwMDAwMDQgMS41IC0wLjAgQyAxLjUgMC4zOTc4MDQ2NTAwMDAwMDAwNCAxLjM0MTk1MDUzNzM4MjM2MjYgMC43NzkzNjk4MDYxNzcyODAyIDEuMDYwNjYwMTcxNzc5ODIxNCAxLjA2MDY2MDE3MTc3OTgyMTQgQyAwLjc3OTM2OTgwNjE3NzI4MDIgMS4zNDE5NTA1MzczODIzNjI2IDAuMzk3ODA0NjUwMDAwMDAwMDQgMS41IDAuMCAxLjUgQyAtMC4zOTc4MDQ2NTAwMDAwMDAwNCAxLjUgLTAuNzc5MzY5ODA2MTc3MjgwMiAxLjM0MTk1MDUzNzM4MjM2MjYgLTEuMDYwNjYwMTcxNzc5ODIxNCAxLjA2MDY2MDE3MTc3OTgyMTQgQyAtMS4zNDE5NTA1MzczODIzNjI2IDAuNzc5MzY5ODA2MTc3MjgwMiAtMS41IDAuMzk3ODA0NjUwMDAwMDAwMDQgLTEuNSAtMC4wIEMgLTEuNSAtMC4zOTc4MDQ2NTAwMDAwMDAwNCAtMS4zNDE5NTA1MzczODIzNjI2IC0wLjc3OTM2OTgwNjE3NzI4MDIgLTEuMDYwNjYwMTcxNzc5ODIxNCAtMS4wNjA2NjAxNzE3Nzk4MjE0IEMgLTAuNzc5MzY5ODA2MTc3MjgwMiAtMS4zNDE5NTA1MzczODIzNjI2IC0wLjM5NzgwNDY1MDAwMDAwMDA0IC0xLjUgMC4wIC0xLjUgWlwiIHN0cm9rZT1cIiMwMDAwRkZcIiBzdHJva2Utd2lkdGg9XCIxLjBcIiBzdHJva2Utb3BhY2l0eT1cIjFcIiBmaWxsPVwiIzAwMDBGRlwiIGZpbGwtb3BhY2l0eT1cIjFcIiAvPjwvc3ZnPiIsICJhbmNob3JfeCI6IDIuMCwgImFuY2hvcl95IjogMi4wfX0sIHsidHlwZSI6ICJGZWF0dXJlIiwgImdlb21ldHJ5IjogeyJ0eXBlIjogIlBvaW50IiwgImNvb3JkaW5hdGVzIjogWy03OS41NjY0OTU3MTEzLCA0My43MzkwODUwMTczXX0sICJwcm9wZXJ0aWVzIjogeyJodG1sIjogIjxzdmcgd2lkdGg9XCI0cHhcIiBoZWlnaHQ9XCI0cHhcIiB2aWV3Qm94PVwiLTIuMCAtMi4wIDQuMCA0LjBcIiB4bWxucz1cImh0dHA6Ly93d3cudzMub3JnLzIwMDAvc3ZnXCIgdmVyc2lvbj1cIjEuMVwiPiAgPHBhdGggZD1cIk0gMC4wIC0xLjUgQyAwLjM5NzgwNDY1MDAwMDAwMDA0IC0xLjUgMC43NzkzNjk4MDYxNzcyODAyIC0xLjM0MTk1MDUzNzM4MjM2MjYgMS4wNjA2NjAxNzE3Nzk4MjE0IC0xLjA2MDY2MDE3MTc3OTgyMTQgQyAxLjM0MTk1MDUzNzM4MjM2MjYgLTAuNzc5MzY5ODA2MTc3MjgwMiAxLjUgLTAuMzk3ODA0NjUwMDAwMDAwMDQgMS41IC0wLjAgQyAxLjUgMC4zOTc4MDQ2NTAwMDAwMDAwNCAxLjM0MTk1MDUzNzM4MjM2MjYgMC43NzkzNjk4MDYxNzcyODAyIDEuMDYwNjYwMTcxNzc5ODIxNCAxLjA2MDY2MDE3MTc3OTgyMTQgQyAwLjc3OTM2OTgwNjE3NzI4MDIgMS4zNDE5NTA1MzczODIzNjI2IDAuMzk3ODA0NjUwMDAwMDAwMDQgMS41IDAuMCAxLjUgQyAtMC4zOTc4MDQ2NTAwMDAwMDAwNCAxLjUgLTAuNzc5MzY5ODA2MTc3MjgwMiAxLjM0MTk1MDUzNzM4MjM2MjYgLTEuMDYwNjYwMTcxNzc5ODIxNCAxLjA2MDY2MDE3MTc3OTgyMTQgQyAtMS4zNDE5NTA1MzczODIzNjI2IDAuNzc5MzY5ODA2MTc3MjgwMiAtMS41IDAuMzk3ODA0NjUwMDAwMDAwMDQgLTEuNSAtMC4wIEMgLTEuNSAtMC4zOTc4MDQ2NTAwMDAwMDAwNCAtMS4zNDE5NTA1MzczODIzNjI2IC0wLjc3OTM2OTgwNjE3NzI4MDIgLTEuMDYwNjYwMTcxNzc5ODIxNCAtMS4wNjA2NjAxNzE3Nzk4MjE0IEMgLTAuNzc5MzY5ODA2MTc3MjgwMiAtMS4zNDE5NTA1MzczODIzNjI2IC0wLjM5NzgwNDY1MDAwMDAwMDA0IC0xLjUgMC4wIC0xLjUgWlwiIHN0cm9rZT1cIiMwMDAwRkZcIiBzdHJva2Utd2lkdGg9XCIxLjBcIiBzdHJva2Utb3BhY2l0eT1cIjFcIiBmaWxsPVwiIzAwMDBGRlwiIGZpbGwtb3BhY2l0eT1cIjFcIiAvPjwvc3ZnPiIsICJhbmNob3JfeCI6IDIuMCwgImFuY2hvcl95IjogMi4wfX0sIHsidHlwZSI6ICJGZWF0dXJlIiwgImdlb21ldHJ5IjogeyJ0eXBlIjogIlBvaW50IiwgImNvb3JkaW5hdGVzIjogWy03OS4zODU1ODMxNjExLCA0My42NTg0NzQ1MTE0XX0sICJwcm9wZXJ0aWVzIjogeyJodG1sIjogIjxzdmcgd2lkdGg9XCI0cHhcIiBoZWlnaHQ9XCI0cHhcIiB2aWV3Qm94PVwiLTIuMCAtMi4wIDQuMCA0LjBcIiB4bWxucz1cImh0dHA6Ly93d3cudzMub3JnLzIwMDAvc3ZnXCIgdmVyc2lvbj1cIjEuMVwiPiAgPHBhdGggZD1cIk0gMC4wIC0xLjUgQyAwLjM5NzgwNDY1MDAwMDAwMDA0IC0xLjUgMC43NzkzNjk4MDYxNzcyODAyIC0xLjM0MTk1MDUzNzM4MjM2MjYgMS4wNjA2NjAxNzE3Nzk4MjE0IC0xLjA2MDY2MDE3MTc3OTgyMTQgQyAxLjM0MTk1MDUzNzM4MjM2MjYgLTAuNzc5MzY5ODA2MTc3MjgwMiAxLjUgLTAuMzk3ODA0NjUwMDAwMDAwMDQgMS41IC0wLjAgQyAxLjUgMC4zOTc4MDQ2NTAwMDAwMDAwNCAxLjM0MTk1MDUzNzM4MjM2MjYgMC43NzkzNjk4MDYxNzcyODAyIDEuMDYwNjYwMTcxNzc5ODIxNCAxLjA2MDY2MDE3MTc3OTgyMTQgQyAwLjc3OTM2OTgwNjE3NzI4MDIgMS4zNDE5NTA1MzczODIzNjI2IDAuMzk3ODA0NjUwMDAwMDAwMDQgMS41IDAuMCAxLjUgQyAtMC4zOTc4MDQ2NTAwMDAwMDAwNCAxLjUgLTAuNzc5MzY5ODA2MTc3MjgwMiAxLjM0MTk1MDUzNzM4MjM2MjYgLTEuMDYwNjYwMTcxNzc5ODIxNCAxLjA2MDY2MDE3MTc3OTgyMTQgQyAtMS4zNDE5NTA1MzczODIzNjI2IDAuNzc5MzY5ODA2MTc3MjgwMiAtMS41IDAuMzk3ODA0NjUwMDAwMDAwMDQgLTEuNSAtMC4wIEMgLTEuNSAtMC4zOTc4MDQ2NTAwMDAwMDAwNCAtMS4zNDE5NTA1MzczODIzNjI2IC0wLjc3OTM2OTgwNjE3NzI4MDIgLTEuMDYwNjYwMTcxNzc5ODIxNCAtMS4wNjA2NjAxNzE3Nzk4MjE0IEMgLTAuNzc5MzY5ODA2MTc3MjgwMiAtMS4zNDE5NTA1MzczODIzNjI2IC0wLjM5NzgwNDY1MDAwMDAwMDA0IC0xLjUgMC4wIC0xLjUgWlwiIHN0cm9rZT1cIiMwMDAwRkZcIiBzdHJva2Utd2lkdGg9XCIxLjBcIiBzdHJva2Utb3BhY2l0eT1cIjFcIiBmaWxsPVwiIzAwMDBGRlwiIGZpbGwtb3BhY2l0eT1cIjFcIiAvPjwvc3ZnPiIsICJhbmNob3JfeCI6IDIuMCwgImFuY2hvcl95IjogMi4wfX0sIHsidHlwZSI6ICJGZWF0dXJlIiwgImdlb21ldHJ5IjogeyJ0eXBlIjogIlBvaW50IiwgImNvb3JkaW5hdGVzIjogWy03OS4zMDIyNjIwMjMxLCA0My44MTE1Mzk4OTM1XX0sICJwcm9wZXJ0aWVzIjogeyJodG1sIjogIjxzdmcgd2lkdGg9XCI0cHhcIiBoZWlnaHQ9XCI0cHhcIiB2aWV3Qm94PVwiLTIuMCAtMi4wIDQuMCA0LjBcIiB4bWxucz1cImh0dHA6Ly93d3cudzMub3JnLzIwMDAvc3ZnXCIgdmVyc2lvbj1cIjEuMVwiPiAgPHBhdGggZD1cIk0gMC4wIC0xLjUgQyAwLjM5NzgwNDY1MDAwMDAwMDA0IC0xLjUgMC43NzkzNjk4MDYxNzcyODAyIC0xLjM0MTk1MDUzNzM4MjM2MjYgMS4wNjA2NjAxNzE3Nzk4MjE0IC0xLjA2MDY2MDE3MTc3OTgyMTQgQyAxLjM0MTk1MDUzNzM4MjM2MjYgLTAuNzc5MzY5ODA2MTc3MjgwMiAxLjUgLTAuMzk3ODA0NjUwMDAwMDAwMDQgMS41IC0wLjAgQyAxLjUgMC4zOTc4MDQ2NTAwMDAwMDAwNCAxLjM0MTk1MDUzNzM4MjM2MjYgMC43NzkzNjk4MDYxNzcyODAyIDEuMDYwNjYwMTcxNzc5ODIxNCAxLjA2MDY2MDE3MTc3OTgyMTQgQyAwLjc3OTM2OTgwNjE3NzI4MDIgMS4zNDE5NTA1MzczODIzNjI2IDAuMzk3ODA0NjUwMDAwMDAwMDQgMS41IDAuMCAxLjUgQyAtMC4zOTc4MDQ2NTAwMDAwMDAwNCAxLjUgLTAuNzc5MzY5ODA2MTc3MjgwMiAxLjM0MTk1MDUzNzM4MjM2MjYgLTEuMDYwNjYwMTcxNzc5ODIxNCAxLjA2MDY2MDE3MTc3OTgyMTQgQyAtMS4zNDE5NTA1MzczODIzNjI2IDAuNzc5MzY5ODA2MTc3MjgwMiAtMS41IDAuMzk3ODA0NjUwMDAwMDAwMDQgLTEuNSAtMC4wIEMgLTEuNSAtMC4zOTc4MDQ2NTAwMDAwMDAwNCAtMS4zNDE5NTA1MzczODIzNjI2IC0wLjc3OTM2OTgwNjE3NzI4MDIgLTEuMDYwNjYwMTcxNzc5ODIxNCAtMS4wNjA2NjAxNzE3Nzk4MjE0IEMgLTAuNzc5MzY5ODA2MTc3MjgwMiAtMS4zNDE5NTA1MzczODIzNjI2IC0wLjM5NzgwNDY1MDAwMDAwMDA0IC0xLjUgMC4wIC0xLjUgWlwiIHN0cm9rZT1cIiMwMDAwMDBcIiBzdHJva2Utd2lkdGg9XCIxLjBcIiBzdHJva2Utb3BhY2l0eT1cIjFcIiBmaWxsPVwiIzAwMDAwMFwiIGZpbGwtb3BhY2l0eT1cIjFcIiAvPjwvc3ZnPiIsICJhbmNob3JfeCI6IDIuMCwgImFuY2hvcl95IjogMi4wfX0sIHsidHlwZSI6ICJGZWF0dXJlIiwgImdlb21ldHJ5IjogeyJ0eXBlIjogIlBvaW50IiwgImNvb3JkaW5hdGVzIjogWy03OS4yODM0ODI3MTExLCA0My44MTgxNDk5MDUxXX0sICJwcm9wZXJ0aWVzIjogeyJodG1sIjogIjxzdmcgd2lkdGg9XCI0cHhcIiBoZWlnaHQ9XCI0cHhcIiB2aWV3Qm94PVwiLTIuMCAtMi4wIDQuMCA0LjBcIiB4bWxucz1cImh0dHA6Ly93d3cudzMub3JnLzIwMDAvc3ZnXCIgdmVyc2lvbj1cIjEuMVwiPiAgPHBhdGggZD1cIk0gMC4wIC0xLjUgQyAwLjM5NzgwNDY1MDAwMDAwMDA0IC0xLjUgMC43NzkzNjk4MDYxNzcyODAyIC0xLjM0MTk1MDUzNzM4MjM2MjYgMS4wNjA2NjAxNzE3Nzk4MjE0IC0xLjA2MDY2MDE3MTc3OTgyMTQgQyAxLjM0MTk1MDUzNzM4MjM2MjYgLTAuNzc5MzY5ODA2MTc3MjgwMiAxLjUgLTAuMzk3ODA0NjUwMDAwMDAwMDQgMS41IC0wLjAgQyAxLjUgMC4zOTc4MDQ2NTAwMDAwMDAwNCAxLjM0MTk1MDUzNzM4MjM2MjYgMC43NzkzNjk4MDYxNzcyODAyIDEuMDYwNjYwMTcxNzc5ODIxNCAxLjA2MDY2MDE3MTc3OTgyMTQgQyAwLjc3OTM2OTgwNjE3NzI4MDIgMS4zNDE5NTA1MzczODIzNjI2IDAuMzk3ODA0NjUwMDAwMDAwMDQgMS41IDAuMCAxLjUgQyAtMC4zOTc4MDQ2NTAwMDAwMDAwNCAxLjUgLTAuNzc5MzY5ODA2MTc3MjgwMiAxLjM0MTk1MDUzNzM4MjM2MjYgLTEuMDYwNjYwMTcxNzc5ODIxNCAxLjA2MDY2MDE3MTc3OTgyMTQgQyAtMS4zNDE5NTA1MzczODIzNjI2IDAuNzc5MzY5ODA2MTc3MjgwMiAtMS41IDAuMzk3ODA0NjUwMDAwMDAwMDQgLTEuNSAtMC4wIEMgLTEuNSAtMC4zOTc4MDQ2NTAwMDAwMDAwNCAtMS4zNDE5NTA1MzczODIzNjI2IC0wLjc3OTM2OTgwNjE3NzI4MDIgLTEuMDYwNjYwMTcxNzc5ODIxNCAtMS4wNjA2NjAxNzE3Nzk4MjE0IEMgLTAuNzc5MzY5ODA2MTc3MjgwMiAtMS4zNDE5NTA1MzczODIzNjI2IC0wLjM5NzgwNDY1MDAwMDAwMDA0IC0xLjUgMC4wIC0xLjUgWlwiIHN0cm9rZT1cIiMwMDAwMDBcIiBzdHJva2Utd2lkdGg9XCIxLjBcIiBzdHJva2Utb3BhY2l0eT1cIjFcIiBmaWxsPVwiIzAwMDAwMFwiIGZpbGwtb3BhY2l0eT1cIjFcIiAvPjwvc3ZnPiIsICJhbmNob3JfeCI6IDIuMCwgImFuY2hvcl95IjogMi4wfX0sIHsidHlwZSI6ICJGZWF0dXJlIiwgImdlb21ldHJ5IjogeyJ0eXBlIjogIlBvaW50IiwgImNvb3JkaW5hdGVzIjogWy03OS4yNjMzMjA1MTk2LCA0My43NzgxNTk1NjczXX0sICJwcm9wZXJ0aWVzIjogeyJodG1sIjogIjxzdmcgd2lkdGg9XCI0cHhcIiBoZWlnaHQ9XCI0cHhcIiB2aWV3Qm94PVwiLTIuMCAtMi4wIDQuMCA0LjBcIiB4bWxucz1cImh0dHA6Ly93d3cudzMub3JnLzIwMDAvc3ZnXCIgdmVyc2lvbj1cIjEuMVwiPiAgPHBhdGggZD1cIk0gMC4wIC0xLjUgQyAwLjM5NzgwNDY1MDAwMDAwMDA0IC0xLjUgMC43NzkzNjk4MDYxNzcyODAyIC0xLjM0MTk1MDUzNzM4MjM2MjYgMS4wNjA2NjAxNzE3Nzk4MjE0IC0xLjA2MDY2MDE3MTc3OTgyMTQgQyAxLjM0MTk1MDUzNzM4MjM2MjYgLTAuNzc5MzY5ODA2MTc3MjgwMiAxLjUgLTAuMzk3ODA0NjUwMDAwMDAwMDQgMS41IC0wLjAgQyAxLjUgMC4zOTc4MDQ2NTAwMDAwMDAwNCAxLjM0MTk1MDUzNzM4MjM2MjYgMC43NzkzNjk4MDYxNzcyODAyIDEuMDYwNjYwMTcxNzc5ODIxNCAxLjA2MDY2MDE3MTc3OTgyMTQgQyAwLjc3OTM2OTgwNjE3NzI4MDIgMS4zNDE5NTA1MzczODIzNjI2IDAuMzk3ODA0NjUwMDAwMDAwMDQgMS41IDAuMCAxLjUgQyAtMC4zOTc4MDQ2NTAwMDAwMDAwNCAxLjUgLTAuNzc5MzY5ODA2MTc3MjgwMiAxLjM0MTk1MDUzNzM4MjM2MjYgLTEuMDYwNjYwMTcxNzc5ODIxNCAxLjA2MDY2MDE3MTc3OTgyMTQgQyAtMS4zNDE5NTA1MzczODIzNjI2IDAuNzc5MzY5ODA2MTc3MjgwMiAtMS41IDAuMzk3ODA0NjUwMDAwMDAwMDQgLTEuNSAtMC4wIEMgLTEuNSAtMC4zOTc4MDQ2NTAwMDAwMDAwNCAtMS4zNDE5NTA1MzczODIzNjI2IC0wLjc3OTM2OTgwNjE3NzI4MDIgLTEuMDYwNjYwMTcxNzc5ODIxNCAtMS4wNjA2NjAxNzE3Nzk4MjE0IEMgLTAuNzc5MzY5ODA2MTc3MjgwMiAtMS4zNDE5NTA1MzczODIzNjI2IC0wLjM5NzgwNDY1MDAwMDAwMDA0IC0xLjUgMC4wIC0xLjUgWlwiIHN0cm9rZT1cIiMwMDAwMDBcIiBzdHJva2Utd2lkdGg9XCIxLjBcIiBzdHJva2Utb3BhY2l0eT1cIjFcIiBmaWxsPVwiIzAwMDAwMFwiIGZpbGwtb3BhY2l0eT1cIjFcIiAvPjwvc3ZnPiIsICJhbmNob3JfeCI6IDIuMCwgImFuY2hvcl95IjogMi4wfX0sIHsidHlwZSI6ICJGZWF0dXJlIiwgImdlb21ldHJ5IjogeyJ0eXBlIjogIlBvaW50IiwgImNvb3JkaW5hdGVzIjogWy03OS4yNzQ3Mzc0ODA0LCA0My42OTM3ODY4Nzk5XX0sICJwcm9wZXJ0aWVzIjogeyJodG1sIjogIjxzdmcgd2lkdGg9XCI0cHhcIiBoZWlnaHQ9XCI0cHhcIiB2aWV3Qm94PVwiLTIuMCAtMi4wIDQuMCA0LjBcIiB4bWxucz1cImh0dHA6Ly93d3cudzMub3JnLzIwMDAvc3ZnXCIgdmVyc2lvbj1cIjEuMVwiPiAgPHBhdGggZD1cIk0gMC4wIC0xLjUgQyAwLjM5NzgwNDY1MDAwMDAwMDA0IC0xLjUgMC43NzkzNjk4MDYxNzcyODAyIC0xLjM0MTk1MDUzNzM4MjM2MjYgMS4wNjA2NjAxNzE3Nzk4MjE0IC0xLjA2MDY2MDE3MTc3OTgyMTQgQyAxLjM0MTk1MDUzNzM4MjM2MjYgLTAuNzc5MzY5ODA2MTc3MjgwMiAxLjUgLTAuMzk3ODA0NjUwMDAwMDAwMDQgMS41IC0wLjAgQyAxLjUgMC4zOTc4MDQ2NTAwMDAwMDAwNCAxLjM0MTk1MDUzNzM4MjM2MjYgMC43NzkzNjk4MDYxNzcyODAyIDEuMDYwNjYwMTcxNzc5ODIxNCAxLjA2MDY2MDE3MTc3OTgyMTQgQyAwLjc3OTM2OTgwNjE3NzI4MDIgMS4zNDE5NTA1MzczODIzNjI2IDAuMzk3ODA0NjUwMDAwMDAwMDQgMS41IDAuMCAxLjUgQyAtMC4zOTc4MDQ2NTAwMDAwMDAwNCAxLjUgLTAuNzc5MzY5ODA2MTc3MjgwMiAxLjM0MTk1MDUzNzM4MjM2MjYgLTEuMDYwNjYwMTcxNzc5ODIxNCAxLjA2MDY2MDE3MTc3OTgyMTQgQyAtMS4zNDE5NTA1MzczODIzNjI2IDAuNzc5MzY5ODA2MTc3MjgwMiAtMS41IDAuMzk3ODA0NjUwMDAwMDAwMDQgLTEuNSAtMC4wIEMgLTEuNSAtMC4zOTc4MDQ2NTAwMDAwMDAwNCAtMS4zNDE5NTA1MzczODIzNjI2IC0wLjc3OTM2OTgwNjE3NzI4MDIgLTEuMDYwNjYwMTcxNzc5ODIxNCAtMS4wNjA2NjAxNzE3Nzk4MjE0IEMgLTAuNzc5MzY5ODA2MTc3MjgwMiAtMS4zNDE5NTA1MzczODIzNjI2IC0wLjM5NzgwNDY1MDAwMDAwMDA0IC0xLjUgMC4wIC0xLjUgWlwiIHN0cm9rZT1cIiMwMDAwMDBcIiBzdHJva2Utd2lkdGg9XCIxLjBcIiBzdHJva2Utb3BhY2l0eT1cIjFcIiBmaWxsPVwiIzAwMDAwMFwiIGZpbGwtb3BhY2l0eT1cIjFcIiAvPjwvc3ZnPiIsICJhbmNob3JfeCI6IDIuMCwgImFuY2hvcl95IjogMi4wfX0sIHsidHlwZSI6ICJGZWF0dXJlIiwgImdlb21ldHJ5IjogeyJ0eXBlIjogIlBvaW50IiwgImNvb3JkaW5hdGVzIjogWy03OS4zMjg5MjkyOTY4LCA0My42NTgzNTU4NTEyXX0sICJwcm9wZXJ0aWVzIjogeyJodG1sIjogIjxzdmcgd2lkdGg9XCI0cHhcIiBoZWlnaHQ9XCI0cHhcIiB2aWV3Qm94PVwiLTIuMCAtMi4wIDQuMCA0LjBcIiB4bWxucz1cImh0dHA6Ly93d3cudzMub3JnLzIwMDAvc3ZnXCIgdmVyc2lvbj1cIjEuMVwiPiAgPHBhdGggZD1cIk0gMC4wIC0xLjUgQyAwLjM5NzgwNDY1MDAwMDAwMDA0IC0xLjUgMC43NzkzNjk4MDYxNzcyODAyIC0xLjM0MTk1MDUzNzM4MjM2MjYgMS4wNjA2NjAxNzE3Nzk4MjE0IC0xLjA2MDY2MDE3MTc3OTgyMTQgQyAxLjM0MTk1MDUzNzM4MjM2MjYgLTAuNzc5MzY5ODA2MTc3MjgwMiAxLjUgLTAuMzk3ODA0NjUwMDAwMDAwMDQgMS41IC0wLjAgQyAxLjUgMC4zOTc4MDQ2NTAwMDAwMDAwNCAxLjM0MTk1MDUzNzM4MjM2MjYgMC43NzkzNjk4MDYxNzcyODAyIDEuMDYwNjYwMTcxNzc5ODIxNCAxLjA2MDY2MDE3MTc3OTgyMTQgQyAwLjc3OTM2OTgwNjE3NzI4MDIgMS4zNDE5NTA1MzczODIzNjI2IDAuMzk3ODA0NjUwMDAwMDAwMDQgMS41IDAuMCAxLjUgQyAtMC4zOTc4MDQ2NTAwMDAwMDAwNCAxLjUgLTAuNzc5MzY5ODA2MTc3MjgwMiAxLjM0MTk1MDUzNzM4MjM2MjYgLTEuMDYwNjYwMTcxNzc5ODIxNCAxLjA2MDY2MDE3MTc3OTgyMTQgQyAtMS4zNDE5NTA1MzczODIzNjI2IDAuNzc5MzY5ODA2MTc3MjgwMiAtMS41IDAuMzk3ODA0NjUwMDAwMDAwMDQgLTEuNSAtMC4wIEMgLTEuNSAtMC4zOTc4MDQ2NTAwMDAwMDAwNCAtMS4zNDE5NTA1MzczODIzNjI2IC0wLjc3OTM2OTgwNjE3NzI4MDIgLTEuMDYwNjYwMTcxNzc5ODIxNCAtMS4wNjA2NjAxNzE3Nzk4MjE0IEMgLTAuNzc5MzY5ODA2MTc3MjgwMiAtMS4zNDE5NTA1MzczODIzNjI2IC0wLjM5NzgwNDY1MDAwMDAwMDA0IC0xLjUgMC4wIC0xLjUgWlwiIHN0cm9rZT1cIiMwMDAwMDBcIiBzdHJva2Utd2lkdGg9XCIxLjBcIiBzdHJva2Utb3BhY2l0eT1cIjFcIiBmaWxsPVwiIzAwMDAwMFwiIGZpbGwtb3BhY2l0eT1cIjFcIiAvPjwvc3ZnPiIsICJhbmNob3JfeCI6IDIuMCwgImFuY2hvcl95IjogMi4wfX0sIHsidHlwZSI6ICJGZWF0dXJlIiwgImdlb21ldHJ5IjogeyJ0eXBlIjogIlBvaW50IiwgImNvb3JkaW5hdGVzIjogWy03OS4zNDMwMzY5NDUsIDQzLjc3NTYwOTUzOV19LCAicHJvcGVydGllcyI6IHsiaHRtbCI6ICI8c3ZnIHdpZHRoPVwiNHB4XCIgaGVpZ2h0PVwiNHB4XCIgdmlld0JveD1cIi0yLjAgLTIuMCA0LjAgNC4wXCIgeG1sbnM9XCJodHRwOi8vd3d3LnczLm9yZy8yMDAwL3N2Z1wiIHZlcnNpb249XCIxLjFcIj4gIDxwYXRoIGQ9XCJNIDAuMCAtMS41IEMgMC4zOTc4MDQ2NTAwMDAwMDAwNCAtMS41IDAuNzc5MzY5ODA2MTc3MjgwMiAtMS4zNDE5NTA1MzczODIzNjI2IDEuMDYwNjYwMTcxNzc5ODIxNCAtMS4wNjA2NjAxNzE3Nzk4MjE0IEMgMS4zNDE5NTA1MzczODIzNjI2IC0wLjc3OTM2OTgwNjE3NzI4MDIgMS41IC0wLjM5NzgwNDY1MDAwMDAwMDA0IDEuNSAtMC4wIEMgMS41IDAuMzk3ODA0NjUwMDAwMDAwMDQgMS4zNDE5NTA1MzczODIzNjI2IDAuNzc5MzY5ODA2MTc3MjgwMiAxLjA2MDY2MDE3MTc3OTgyMTQgMS4wNjA2NjAxNzE3Nzk4MjE0IEMgMC43NzkzNjk4MDYxNzcyODAyIDEuMzQxOTUwNTM3MzgyMzYyNiAwLjM5NzgwNDY1MDAwMDAwMDA0IDEuNSAwLjAgMS41IEMgLTAuMzk3ODA0NjUwMDAwMDAwMDQgMS41IC0wLjc3OTM2OTgwNjE3NzI4MDIgMS4zNDE5NTA1MzczODIzNjI2IC0xLjA2MDY2MDE3MTc3OTgyMTQgMS4wNjA2NjAxNzE3Nzk4MjE0IEMgLTEuMzQxOTUwNTM3MzgyMzYyNiAwLjc3OTM2OTgwNjE3NzI4MDIgLTEuNSAwLjM5NzgwNDY1MDAwMDAwMDA0IC0xLjUgLTAuMCBDIC0xLjUgLTAuMzk3ODA0NjUwMDAwMDAwMDQgLTEuMzQxOTUwNTM3MzgyMzYyNiAtMC43NzkzNjk4MDYxNzcyODAyIC0xLjA2MDY2MDE3MTc3OTgyMTQgLTEuMDYwNjYwMTcxNzc5ODIxNCBDIC0wLjc3OTM2OTgwNjE3NzI4MDIgLTEuMzQxOTUwNTM3MzgyMzYyNiAtMC4zOTc4MDQ2NTAwMDAwMDAwNCAtMS41IDAuMCAtMS41IFpcIiBzdHJva2U9XCIjMDAwMDAwXCIgc3Ryb2tlLXdpZHRoPVwiMS4wXCIgc3Ryb2tlLW9wYWNpdHk9XCIxXCIgZmlsbD1cIiMwMDAwMDBcIiBmaWxsLW9wYWNpdHk9XCIxXCIgLz48L3N2Zz4iLCAiYW5jaG9yX3giOiAyLjAsICJhbmNob3JfeSI6IDIuMH19LCB7InR5cGUiOiAiRmVhdHVyZSIsICJnZW9tZXRyeSI6IHsidHlwZSI6ICJQb2ludCIsICJjb29yZGluYXRlcyI6IFstNzkuMjY5MzE1Mjg4OSwgNDMuODA5MjI5MzQwOV19LCAicHJvcGVydGllcyI6IHsiaHRtbCI6ICI8c3ZnIHdpZHRoPVwiNHB4XCIgaGVpZ2h0PVwiNHB4XCIgdmlld0JveD1cIi0yLjAgLTIuMCA0LjAgNC4wXCIgeG1sbnM9XCJodHRwOi8vd3d3LnczLm9yZy8yMDAwL3N2Z1wiIHZlcnNpb249XCIxLjFcIj4gIDxwYXRoIGQ9XCJNIDAuMCAtMS41IEMgMC4zOTc4MDQ2NTAwMDAwMDAwNCAtMS41IDAuNzc5MzY5ODA2MTc3MjgwMiAtMS4zNDE5NTA1MzczODIzNjI2IDEuMDYwNjYwMTcxNzc5ODIxNCAtMS4wNjA2NjAxNzE3Nzk4MjE0IEMgMS4zNDE5NTA1MzczODIzNjI2IC0wLjc3OTM2OTgwNjE3NzI4MDIgMS41IC0wLjM5NzgwNDY1MDAwMDAwMDA0IDEuNSAtMC4wIEMgMS41IDAuMzk3ODA0NjUwMDAwMDAwMDQgMS4zNDE5NTA1MzczODIzNjI2IDAuNzc5MzY5ODA2MTc3MjgwMiAxLjA2MDY2MDE3MTc3OTgyMTQgMS4wNjA2NjAxNzE3Nzk4MjE0IEMgMC43NzkzNjk4MDYxNzcyODAyIDEuMzQxOTUwNTM3MzgyMzYyNiAwLjM5NzgwNDY1MDAwMDAwMDA0IDEuNSAwLjAgMS41IEMgLTAuMzk3ODA0NjUwMDAwMDAwMDQgMS41IC0wLjc3OTM2OTgwNjE3NzI4MDIgMS4zNDE5NTA1MzczODIzNjI2IC0xLjA2MDY2MDE3MTc3OTgyMTQgMS4wNjA2NjAxNzE3Nzk4MjE0IEMgLTEuMzQxOTUwNTM3MzgyMzYyNiAwLjc3OTM2OTgwNjE3NzI4MDIgLTEuNSAwLjM5NzgwNDY1MDAwMDAwMDA0IC0xLjUgLTAuMCBDIC0xLjUgLTAuMzk3ODA0NjUwMDAwMDAwMDQgLTEuMzQxOTUwNTM3MzgyMzYyNiAtMC43NzkzNjk4MDYxNzcyODAyIC0xLjA2MDY2MDE3MTc3OTgyMTQgLTEuMDYwNjYwMTcxNzc5ODIxNCBDIC0wLjc3OTM2OTgwNjE3NzI4MDIgLTEuMzQxOTUwNTM3MzgyMzYyNiAtMC4zOTc4MDQ2NTAwMDAwMDAwNCAtMS41IDAuMCAtMS41IFpcIiBzdHJva2U9XCIjMDAwMDAwXCIgc3Ryb2tlLXdpZHRoPVwiMS4wXCIgc3Ryb2tlLW9wYWNpdHk9XCIxXCIgZmlsbD1cIiMwMDAwMDBcIiBmaWxsLW9wYWNpdHk9XCIxXCIgLz48L3N2Zz4iLCAiYW5jaG9yX3giOiAyLjAsICJhbmNob3JfeSI6IDIuMH19LCB7InR5cGUiOiAiRmVhdHVyZSIsICJnZW9tZXRyeSI6IHsidHlwZSI6ICJQb2ludCIsICJjb29yZGluYXRlcyI6IFstNzkuMjcxMzQ0NjYyMSwgNDMuNzY3MjAyODc1OV19LCAicHJvcGVydGllcyI6IHsiaHRtbCI6ICI8c3ZnIHdpZHRoPVwiNHB4XCIgaGVpZ2h0PVwiNHB4XCIgdmlld0JveD1cIi0yLjAgLTIuMCA0LjAgNC4wXCIgeG1sbnM9XCJodHRwOi8vd3d3LnczLm9yZy8yMDAwL3N2Z1wiIHZlcnNpb249XCIxLjFcIj4gIDxwYXRoIGQ9XCJNIDAuMCAtMS41IEMgMC4zOTc4MDQ2NTAwMDAwMDAwNCAtMS41IDAuNzc5MzY5ODA2MTc3MjgwMiAtMS4zNDE5NTA1MzczODIzNjI2IDEuMDYwNjYwMTcxNzc5ODIxNCAtMS4wNjA2NjAxNzE3Nzk4MjE0IEMgMS4zNDE5NTA1MzczODIzNjI2IC0wLjc3OTM2OTgwNjE3NzI4MDIgMS41IC0wLjM5NzgwNDY1MDAwMDAwMDA0IDEuNSAtMC4wIEMgMS41IDAuMzk3ODA0NjUwMDAwMDAwMDQgMS4zNDE5NTA1MzczODIzNjI2IDAuNzc5MzY5ODA2MTc3MjgwMiAxLjA2MDY2MDE3MTc3OTgyMTQgMS4wNjA2NjAxNzE3Nzk4MjE0IEMgMC43NzkzNjk4MDYxNzcyODAyIDEuMzQxOTUwNTM3MzgyMzYyNiAwLjM5NzgwNDY1MDAwMDAwMDA0IDEuNSAwLjAgMS41IEMgLTAuMzk3ODA0NjUwMDAwMDAwMDQgMS41IC0wLjc3OTM2OTgwNjE3NzI4MDIgMS4zNDE5NTA1MzczODIzNjI2IC0xLjA2MDY2MDE3MTc3OTgyMTQgMS4wNjA2NjAxNzE3Nzk4MjE0IEMgLTEuMzQxOTUwNTM3MzgyMzYyNiAwLjc3OTM2OTgwNjE3NzI4MDIgLTEuNSAwLjM5NzgwNDY1MDAwMDAwMDA0IC0xLjUgLTAuMCBDIC0xLjUgLTAuMzk3ODA0NjUwMDAwMDAwMDQgLTEuMzQxOTUwNTM3MzgyMzYyNiAtMC43NzkzNjk4MDYxNzcyODAyIC0xLjA2MDY2MDE3MTc3OTgyMTQgLTEuMDYwNjYwMTcxNzc5ODIxNCBDIC0wLjc3OTM2OTgwNjE3NzI4MDIgLTEuMzQxOTUwNTM3MzgyMzYyNiAtMC4zOTc4MDQ2NTAwMDAwMDAwNCAtMS41IDAuMCAtMS41IFpcIiBzdHJva2U9XCIjMDAwMDAwXCIgc3Ryb2tlLXdpZHRoPVwiMS4wXCIgc3Ryb2tlLW9wYWNpdHk9XCIxXCIgZmlsbD1cIiMwMDAwMDBcIiBmaWxsLW9wYWNpdHk9XCIxXCIgLz48L3N2Zz4iLCAiYW5jaG9yX3giOiAyLjAsICJhbmNob3JfeSI6IDIuMH19LCB7InR5cGUiOiAiRmVhdHVyZSIsICJnZW9tZXRyeSI6IHsidHlwZSI6ICJQb2ludCIsICJjb29yZGluYXRlcyI6IFstNzkuMjU1NDY5MTExNywgNDMuNzUzMDc2MTU4OF19LCAicHJvcGVydGllcyI6IHsiaHRtbCI6ICI8c3ZnIHdpZHRoPVwiNHB4XCIgaGVpZ2h0PVwiNHB4XCIgdmlld0JveD1cIi0yLjAgLTIuMCA0LjAgNC4wXCIgeG1sbnM9XCJodHRwOi8vd3d3LnczLm9yZy8yMDAwL3N2Z1wiIHZlcnNpb249XCIxLjFcIj4gIDxwYXRoIGQ9XCJNIDAuMCAtMS41IEMgMC4zOTc4MDQ2NTAwMDAwMDAwNCAtMS41IDAuNzc5MzY5ODA2MTc3MjgwMiAtMS4zNDE5NTA1MzczODIzNjI2IDEuMDYwNjYwMTcxNzc5ODIxNCAtMS4wNjA2NjAxNzE3Nzk4MjE0IEMgMS4zNDE5NTA1MzczODIzNjI2IC0wLjc3OTM2OTgwNjE3NzI4MDIgMS41IC0wLjM5NzgwNDY1MDAwMDAwMDA0IDEuNSAtMC4wIEMgMS41IDAuMzk3ODA0NjUwMDAwMDAwMDQgMS4zNDE5NTA1MzczODIzNjI2IDAuNzc5MzY5ODA2MTc3MjgwMiAxLjA2MDY2MDE3MTc3OTgyMTQgMS4wNjA2NjAxNzE3Nzk4MjE0IEMgMC43NzkzNjk4MDYxNzcyODAyIDEuMzQxOTUwNTM3MzgyMzYyNiAwLjM5NzgwNDY1MDAwMDAwMDA0IDEuNSAwLjAgMS41IEMgLTAuMzk3ODA0NjUwMDAwMDAwMDQgMS41IC0wLjc3OTM2OTgwNjE3NzI4MDIgMS4zNDE5NTA1MzczODIzNjI2IC0xLjA2MDY2MDE3MTc3OTgyMTQgMS4wNjA2NjAxNzE3Nzk4MjE0IEMgLTEuMzQxOTUwNTM3MzgyMzYyNiAwLjc3OTM2OTgwNjE3NzI4MDIgLTEuNSAwLjM5NzgwNDY1MDAwMDAwMDA0IC0xLjUgLTAuMCBDIC0xLjUgLTAuMzk3ODA0NjUwMDAwMDAwMDQgLTEuMzQxOTUwNTM3MzgyMzYyNiAtMC43NzkzNjk4MDYxNzcyODAyIC0xLjA2MDY2MDE3MTc3OTgyMTQgLTEuMDYwNjYwMTcxNzc5ODIxNCBDIC0wLjc3OTM2OTgwNjE3NzI4MDIgLTEuMzQxOTUwNTM3MzgyMzYyNiAtMC4zOTc4MDQ2NTAwMDAwMDAwNCAtMS41IDAuMCAtMS41IFpcIiBzdHJva2U9XCIjMDAwMDAwXCIgc3Ryb2tlLXdpZHRoPVwiMS4wXCIgc3Ryb2tlLW9wYWNpdHk9XCIxXCIgZmlsbD1cIiMwMDAwMDBcIiBmaWxsLW9wYWNpdHk9XCIxXCIgLz48L3N2Zz4iLCAiYW5jaG9yX3giOiAyLjAsICJhbmNob3JfeSI6IDIuMH19LCB7InR5cGUiOiAiRmVhdHVyZSIsICJnZW9tZXRyeSI6IHsidHlwZSI6ICJQb2ludCIsICJjb29yZGluYXRlcyI6IFstNzkuNDkwNTUwNzE3MywgNDMuNjY3MTI3NzczN119LCAicHJvcGVydGllcyI6IHsiaHRtbCI6ICI8c3ZnIHdpZHRoPVwiNHB4XCIgaGVpZ2h0PVwiNHB4XCIgdmlld0JveD1cIi0yLjAgLTIuMCA0LjAgNC4wXCIgeG1sbnM9XCJodHRwOi8vd3d3LnczLm9yZy8yMDAwL3N2Z1wiIHZlcnNpb249XCIxLjFcIj4gIDxwYXRoIGQ9XCJNIDAuMCAtMS41IEMgMC4zOTc4MDQ2NTAwMDAwMDAwNCAtMS41IDAuNzc5MzY5ODA2MTc3MjgwMiAtMS4zNDE5NTA1MzczODIzNjI2IDEuMDYwNjYwMTcxNzc5ODIxNCAtMS4wNjA2NjAxNzE3Nzk4MjE0IEMgMS4zNDE5NTA1MzczODIzNjI2IC0wLjc3OTM2OTgwNjE3NzI4MDIgMS41IC0wLjM5NzgwNDY1MDAwMDAwMDA0IDEuNSAtMC4wIEMgMS41IDAuMzk3ODA0NjUwMDAwMDAwMDQgMS4zNDE5NTA1MzczODIzNjI2IDAuNzc5MzY5ODA2MTc3MjgwMiAxLjA2MDY2MDE3MTc3OTgyMTQgMS4wNjA2NjAxNzE3Nzk4MjE0IEMgMC43NzkzNjk4MDYxNzcyODAyIDEuMzQxOTUwNTM3MzgyMzYyNiAwLjM5NzgwNDY1MDAwMDAwMDA0IDEuNSAwLjAgMS41IEMgLTAuMzk3ODA0NjUwMDAwMDAwMDQgMS41IC0wLjc3OTM2OTgwNjE3NzI4MDIgMS4zNDE5NTA1MzczODIzNjI2IC0xLjA2MDY2MDE3MTc3OTgyMTQgMS4wNjA2NjAxNzE3Nzk4MjE0IEMgLTEuMzQxOTUwNTM3MzgyMzYyNiAwLjc3OTM2OTgwNjE3NzI4MDIgLTEuNSAwLjM5NzgwNDY1MDAwMDAwMDA0IC0xLjUgLTAuMCBDIC0xLjUgLTAuMzk3ODA0NjUwMDAwMDAwMDQgLTEuMzQxOTUwNTM3MzgyMzYyNiAtMC43NzkzNjk4MDYxNzcyODAyIC0xLjA2MDY2MDE3MTc3OTgyMTQgLTEuMDYwNjYwMTcxNzc5ODIxNCBDIC0wLjc3OTM2OTgwNjE3NzI4MDIgLTEuMzQxOTUwNTM3MzgyMzYyNiAtMC4zOTc4MDQ2NTAwMDAwMDAwNCAtMS41IDAuMCAtMS41IFpcIiBzdHJva2U9XCIjMDAwMDAwXCIgc3Ryb2tlLXdpZHRoPVwiMS4wXCIgc3Ryb2tlLW9wYWNpdHk9XCIxXCIgZmlsbD1cIiMwMDAwMDBcIiBmaWxsLW9wYWNpdHk9XCIxXCIgLz48L3N2Zz4iLCAiYW5jaG9yX3giOiAyLjAsICJhbmNob3JfeSI6IDIuMH19LCB7InR5cGUiOiAiRmVhdHVyZSIsICJnZW9tZXRyeSI6IHsidHlwZSI6ICJQb2ludCIsICJjb29yZGluYXRlcyI6IFstNzkuMzYzMzkxMTAwOSwgNDMuNjUxMDM1OTM4Ml19LCAicHJvcGVydGllcyI6IHsiaHRtbCI6ICI8c3ZnIHdpZHRoPVwiNHB4XCIgaGVpZ2h0PVwiNHB4XCIgdmlld0JveD1cIi0yLjAgLTIuMCA0LjAgNC4wXCIgeG1sbnM9XCJodHRwOi8vd3d3LnczLm9yZy8yMDAwL3N2Z1wiIHZlcnNpb249XCIxLjFcIj4gIDxwYXRoIGQ9XCJNIDAuMCAtMS41IEMgMC4zOTc4MDQ2NTAwMDAwMDAwNCAtMS41IDAuNzc5MzY5ODA2MTc3MjgwMiAtMS4zNDE5NTA1MzczODIzNjI2IDEuMDYwNjYwMTcxNzc5ODIxNCAtMS4wNjA2NjAxNzE3Nzk4MjE0IEMgMS4zNDE5NTA1MzczODIzNjI2IC0wLjc3OTM2OTgwNjE3NzI4MDIgMS41IC0wLjM5NzgwNDY1MDAwMDAwMDA0IDEuNSAtMC4wIEMgMS41IDAuMzk3ODA0NjUwMDAwMDAwMDQgMS4zNDE5NTA1MzczODIzNjI2IDAuNzc5MzY5ODA2MTc3MjgwMiAxLjA2MDY2MDE3MTc3OTgyMTQgMS4wNjA2NjAxNzE3Nzk4MjE0IEMgMC43NzkzNjk4MDYxNzcyODAyIDEuMzQxOTUwNTM3MzgyMzYyNiAwLjM5NzgwNDY1MDAwMDAwMDA0IDEuNSAwLjAgMS41IEMgLTAuMzk3ODA0NjUwMDAwMDAwMDQgMS41IC0wLjc3OTM2OTgwNjE3NzI4MDIgMS4zNDE5NTA1MzczODIzNjI2IC0xLjA2MDY2MDE3MTc3OTgyMTQgMS4wNjA2NjAxNzE3Nzk4MjE0IEMgLTEuMzQxOTUwNTM3MzgyMzYyNiAwLjc3OTM2OTgwNjE3NzI4MDIgLTEuNSAwLjM5NzgwNDY1MDAwMDAwMDA0IC0xLjUgLTAuMCBDIC0xLjUgLTAuMzk3ODA0NjUwMDAwMDAwMDQgLTEuMzQxOTUwNTM3MzgyMzYyNiAtMC43NzkzNjk4MDYxNzcyODAyIC0xLjA2MDY2MDE3MTc3OTgyMTQgLTEuMDYwNjYwMTcxNzc5ODIxNCBDIC0wLjc3OTM2OTgwNjE3NzI4MDIgLTEuMzQxOTUwNTM3MzgyMzYyNiAtMC4zOTc4MDQ2NTAwMDAwMDAwNCAtMS41IDAuMCAtMS41IFpcIiBzdHJva2U9XCIjMDAwMDAwXCIgc3Ryb2tlLXdpZHRoPVwiMS4wXCIgc3Ryb2tlLW9wYWNpdHk9XCIxXCIgZmlsbD1cIiMwMDAwMDBcIiBmaWxsLW9wYWNpdHk9XCIxXCIgLz48L3N2Zz4iLCAiYW5jaG9yX3giOiAyLjAsICJhbmNob3JfeSI6IDIuMH19LCB7InR5cGUiOiAiRmVhdHVyZSIsICJnZW9tZXRyeSI6IHsidHlwZSI6ICJQb2ludCIsICJjb29yZGluYXRlcyI6IFstNzkuMjg3ODM1ODc3NiwgNDMuNjkwNjUyMzQ5NV19LCAicHJvcGVydGllcyI6IHsiaHRtbCI6ICI8c3ZnIHdpZHRoPVwiNHB4XCIgaGVpZ2h0PVwiNHB4XCIgdmlld0JveD1cIi0yLjAgLTIuMCA0LjAgNC4wXCIgeG1sbnM9XCJodHRwOi8vd3d3LnczLm9yZy8yMDAwL3N2Z1wiIHZlcnNpb249XCIxLjFcIj4gIDxwYXRoIGQ9XCJNIDAuMCAtMS41IEMgMC4zOTc4MDQ2NTAwMDAwMDAwNCAtMS41IDAuNzc5MzY5ODA2MTc3MjgwMiAtMS4zNDE5NTA1MzczODIzNjI2IDEuMDYwNjYwMTcxNzc5ODIxNCAtMS4wNjA2NjAxNzE3Nzk4MjE0IEMgMS4zNDE5NTA1MzczODIzNjI2IC0wLjc3OTM2OTgwNjE3NzI4MDIgMS41IC0wLjM5NzgwNDY1MDAwMDAwMDA0IDEuNSAtMC4wIEMgMS41IDAuMzk3ODA0NjUwMDAwMDAwMDQgMS4zNDE5NTA1MzczODIzNjI2IDAuNzc5MzY5ODA2MTc3MjgwMiAxLjA2MDY2MDE3MTc3OTgyMTQgMS4wNjA2NjAxNzE3Nzk4MjE0IEMgMC43NzkzNjk4MDYxNzcyODAyIDEuMzQxOTUwNTM3MzgyMzYyNiAwLjM5NzgwNDY1MDAwMDAwMDA0IDEuNSAwLjAgMS41IEMgLTAuMzk3ODA0NjUwMDAwMDAwMDQgMS41IC0wLjc3OTM2OTgwNjE3NzI4MDIgMS4zNDE5NTA1MzczODIzNjI2IC0xLjA2MDY2MDE3MTc3OTgyMTQgMS4wNjA2NjAxNzE3Nzk4MjE0IEMgLTEuMzQxOTUwNTM3MzgyMzYyNiAwLjc3OTM2OTgwNjE3NzI4MDIgLTEuNSAwLjM5NzgwNDY1MDAwMDAwMDA0IC0xLjUgLTAuMCBDIC0xLjUgLTAuMzk3ODA0NjUwMDAwMDAwMDQgLTEuMzQxOTUwNTM3MzgyMzYyNiAtMC43NzkzNjk4MDYxNzcyODAyIC0xLjA2MDY2MDE3MTc3OTgyMTQgLTEuMDYwNjYwMTcxNzc5ODIxNCBDIC0wLjc3OTM2OTgwNjE3NzI4MDIgLTEuMzQxOTUwNTM3MzgyMzYyNiAtMC4zOTc4MDQ2NTAwMDAwMDAwNCAtMS41IDAuMCAtMS41IFpcIiBzdHJva2U9XCIjMDAwMDAwXCIgc3Ryb2tlLXdpZHRoPVwiMS4wXCIgc3Ryb2tlLW9wYWNpdHk9XCIxXCIgZmlsbD1cIiMwMDAwMDBcIiBmaWxsLW9wYWNpdHk9XCIxXCIgLz48L3N2Zz4iLCAiYW5jaG9yX3giOiAyLjAsICJhbmNob3JfeSI6IDIuMH19LCB7InR5cGUiOiAiRmVhdHVyZSIsICJnZW9tZXRyeSI6IHsidHlwZSI6ICJQb2ludCIsICJjb29yZGluYXRlcyI6IFstNzkuNDM2MjU2NzUxNCwgNDMuNjYyODY2NTYyOF19LCAicHJvcGVydGllcyI6IHsiaHRtbCI6ICI8c3ZnIHdpZHRoPVwiNHB4XCIgaGVpZ2h0PVwiNHB4XCIgdmlld0JveD1cIi0yLjAgLTIuMCA0LjAgNC4wXCIgeG1sbnM9XCJodHRwOi8vd3d3LnczLm9yZy8yMDAwL3N2Z1wiIHZlcnNpb249XCIxLjFcIj4gIDxwYXRoIGQ9XCJNIDAuMCAtMS41IEMgMC4zOTc4MDQ2NTAwMDAwMDAwNCAtMS41IDAuNzc5MzY5ODA2MTc3MjgwMiAtMS4zNDE5NTA1MzczODIzNjI2IDEuMDYwNjYwMTcxNzc5ODIxNCAtMS4wNjA2NjAxNzE3Nzk4MjE0IEMgMS4zNDE5NTA1MzczODIzNjI2IC0wLjc3OTM2OTgwNjE3NzI4MDIgMS41IC0wLjM5NzgwNDY1MDAwMDAwMDA0IDEuNSAtMC4wIEMgMS41IDAuMzk3ODA0NjUwMDAwMDAwMDQgMS4zNDE5NTA1MzczODIzNjI2IDAuNzc5MzY5ODA2MTc3MjgwMiAxLjA2MDY2MDE3MTc3OTgyMTQgMS4wNjA2NjAxNzE3Nzk4MjE0IEMgMC43NzkzNjk4MDYxNzcyODAyIDEuMzQxOTUwNTM3MzgyMzYyNiAwLjM5NzgwNDY1MDAwMDAwMDA0IDEuNSAwLjAgMS41IEMgLTAuMzk3ODA0NjUwMDAwMDAwMDQgMS41IC0wLjc3OTM2OTgwNjE3NzI4MDIgMS4zNDE5NTA1MzczODIzNjI2IC0xLjA2MDY2MDE3MTc3OTgyMTQgMS4wNjA2NjAxNzE3Nzk4MjE0IEMgLTEuMzQxOTUwNTM3MzgyMzYyNiAwLjc3OTM2OTgwNjE3NzI4MDIgLTEuNSAwLjM5NzgwNDY1MDAwMDAwMDA0IC0xLjUgLTAuMCBDIC0xLjUgLTAuMzk3ODA0NjUwMDAwMDAwMDQgLTEuMzQxOTUwNTM3MzgyMzYyNiAtMC43NzkzNjk4MDYxNzcyODAyIC0xLjA2MDY2MDE3MTc3OTgyMTQgLTEuMDYwNjYwMTcxNzc5ODIxNCBDIC0wLjc3OTM2OTgwNjE3NzI4MDIgLTEuMzQxOTUwNTM3MzgyMzYyNiAtMC4zOTc4MDQ2NTAwMDAwMDAwNCAtMS41IDAuMCAtMS41IFpcIiBzdHJva2U9XCIjMDAwMDAwXCIgc3Ryb2tlLXdpZHRoPVwiMS4wXCIgc3Ryb2tlLW9wYWNpdHk9XCIxXCIgZmlsbD1cIiMwMDAwMDBcIiBmaWxsLW9wYWNpdHk9XCIxXCIgLz48L3N2Zz4iLCAiYW5jaG9yX3giOiAyLjAsICJhbmNob3JfeSI6IDIuMH19LCB7InR5cGUiOiAiRmVhdHVyZSIsICJnZW9tZXRyeSI6IHsidHlwZSI6ICJQb2ludCIsICJjb29yZGluYXRlcyI6IFstNzkuMjc0MjM0MDIzOCwgNDMuNzQ2NTAwNDcxNl19LCAicHJvcGVydGllcyI6IHsiaHRtbCI6ICI8c3ZnIHdpZHRoPVwiNHB4XCIgaGVpZ2h0PVwiNHB4XCIgdmlld0JveD1cIi0yLjAgLTIuMCA0LjAgNC4wXCIgeG1sbnM9XCJodHRwOi8vd3d3LnczLm9yZy8yMDAwL3N2Z1wiIHZlcnNpb249XCIxLjFcIj4gIDxwYXRoIGQ9XCJNIDAuMCAtMS41IEMgMC4zOTc4MDQ2NTAwMDAwMDAwNCAtMS41IDAuNzc5MzY5ODA2MTc3MjgwMiAtMS4zNDE5NTA1MzczODIzNjI2IDEuMDYwNjYwMTcxNzc5ODIxNCAtMS4wNjA2NjAxNzE3Nzk4MjE0IEMgMS4zNDE5NTA1MzczODIzNjI2IC0wLjc3OTM2OTgwNjE3NzI4MDIgMS41IC0wLjM5NzgwNDY1MDAwMDAwMDA0IDEuNSAtMC4wIEMgMS41IDAuMzk3ODA0NjUwMDAwMDAwMDQgMS4zNDE5NTA1MzczODIzNjI2IDAuNzc5MzY5ODA2MTc3MjgwMiAxLjA2MDY2MDE3MTc3OTgyMTQgMS4wNjA2NjAxNzE3Nzk4MjE0IEMgMC43NzkzNjk4MDYxNzcyODAyIDEuMzQxOTUwNTM3MzgyMzYyNiAwLjM5NzgwNDY1MDAwMDAwMDA0IDEuNSAwLjAgMS41IEMgLTAuMzk3ODA0NjUwMDAwMDAwMDQgMS41IC0wLjc3OTM2OTgwNjE3NzI4MDIgMS4zNDE5NTA1MzczODIzNjI2IC0xLjA2MDY2MDE3MTc3OTgyMTQgMS4wNjA2NjAxNzE3Nzk4MjE0IEMgLTEuMzQxOTUwNTM3MzgyMzYyNiAwLjc3OTM2OTgwNjE3NzI4MDIgLTEuNSAwLjM5NzgwNDY1MDAwMDAwMDA0IC0xLjUgLTAuMCBDIC0xLjUgLTAuMzk3ODA0NjUwMDAwMDAwMDQgLTEuMzQxOTUwNTM3MzgyMzYyNiAtMC43NzkzNjk4MDYxNzcyODAyIC0xLjA2MDY2MDE3MTc3OTgyMTQgLTEuMDYwNjYwMTcxNzc5ODIxNCBDIC0wLjc3OTM2OTgwNjE3NzI4MDIgLTEuMzQxOTUwNTM3MzgyMzYyNiAtMC4zOTc4MDQ2NTAwMDAwMDAwNCAtMS41IDAuMCAtMS41IFpcIiBzdHJva2U9XCIjMDAwMDAwXCIgc3Ryb2tlLXdpZHRoPVwiMS4wXCIgc3Ryb2tlLW9wYWNpdHk9XCIxXCIgZmlsbD1cIiMwMDAwMDBcIiBmaWxsLW9wYWNpdHk9XCIxXCIgLz48L3N2Zz4iLCAiYW5jaG9yX3giOiAyLjAsICJhbmNob3JfeSI6IDIuMH19LCB7InR5cGUiOiAiRmVhdHVyZSIsICJnZW9tZXRyeSI6IHsidHlwZSI6ICJQb2ludCIsICJjb29yZGluYXRlcyI6IFstNzkuMjcwMDc1NzgxNywgNDMuNzM4MTgwMTkzMl19LCAicHJvcGVydGllcyI6IHsiaHRtbCI6ICI8c3ZnIHdpZHRoPVwiNHB4XCIgaGVpZ2h0PVwiNHB4XCIgdmlld0JveD1cIi0yLjAgLTIuMCA0LjAgNC4wXCIgeG1sbnM9XCJodHRwOi8vd3d3LnczLm9yZy8yMDAwL3N2Z1wiIHZlcnNpb249XCIxLjFcIj4gIDxwYXRoIGQ9XCJNIDAuMCAtMS41IEMgMC4zOTc4MDQ2NTAwMDAwMDAwNCAtMS41IDAuNzc5MzY5ODA2MTc3MjgwMiAtMS4zNDE5NTA1MzczODIzNjI2IDEuMDYwNjYwMTcxNzc5ODIxNCAtMS4wNjA2NjAxNzE3Nzk4MjE0IEMgMS4zNDE5NTA1MzczODIzNjI2IC0wLjc3OTM2OTgwNjE3NzI4MDIgMS41IC0wLjM5NzgwNDY1MDAwMDAwMDA0IDEuNSAtMC4wIEMgMS41IDAuMzk3ODA0NjUwMDAwMDAwMDQgMS4zNDE5NTA1MzczODIzNjI2IDAuNzc5MzY5ODA2MTc3MjgwMiAxLjA2MDY2MDE3MTc3OTgyMTQgMS4wNjA2NjAxNzE3Nzk4MjE0IEMgMC43NzkzNjk4MDYxNzcyODAyIDEuMzQxOTUwNTM3MzgyMzYyNiAwLjM5NzgwNDY1MDAwMDAwMDA0IDEuNSAwLjAgMS41IEMgLTAuMzk3ODA0NjUwMDAwMDAwMDQgMS41IC0wLjc3OTM2OTgwNjE3NzI4MDIgMS4zNDE5NTA1MzczODIzNjI2IC0xLjA2MDY2MDE3MTc3OTgyMTQgMS4wNjA2NjAxNzE3Nzk4MjE0IEMgLTEuMzQxOTUwNTM3MzgyMzYyNiAwLjc3OTM2OTgwNjE3NzI4MDIgLTEuNSAwLjM5NzgwNDY1MDAwMDAwMDA0IC0xLjUgLTAuMCBDIC0xLjUgLTAuMzk3ODA0NjUwMDAwMDAwMDQgLTEuMzQxOTUwNTM3MzgyMzYyNiAtMC43NzkzNjk4MDYxNzcyODAyIC0xLjA2MDY2MDE3MTc3OTgyMTQgLTEuMDYwNjYwMTcxNzc5ODIxNCBDIC0wLjc3OTM2OTgwNjE3NzI4MDIgLTEuMzQxOTUwNTM3MzgyMzYyNiAtMC4zOTc4MDQ2NTAwMDAwMDAwNCAtMS41IDAuMCAtMS41IFpcIiBzdHJva2U9XCIjMDAwMDAwXCIgc3Ryb2tlLXdpZHRoPVwiMS4wXCIgc3Ryb2tlLW9wYWNpdHk9XCIxXCIgZmlsbD1cIiMwMDAwMDBcIiBmaWxsLW9wYWNpdHk9XCIxXCIgLz48L3N2Zz4iLCAiYW5jaG9yX3giOiAyLjAsICJhbmNob3JfeSI6IDIuMH19LCB7InR5cGUiOiAiRmVhdHVyZSIsICJnZW9tZXRyeSI6IHsidHlwZSI6ICJQb2ludCIsICJjb29yZGluYXRlcyI6IFstNzkuMjY4NzM1NDMxMiwgNDMuNzM1NTI2MjM4XX0sICJwcm9wZXJ0aWVzIjogeyJodG1sIjogIjxzdmcgd2lkdGg9XCI0cHhcIiBoZWlnaHQ9XCI0cHhcIiB2aWV3Qm94PVwiLTIuMCAtMi4wIDQuMCA0LjBcIiB4bWxucz1cImh0dHA6Ly93d3cudzMub3JnLzIwMDAvc3ZnXCIgdmVyc2lvbj1cIjEuMVwiPiAgPHBhdGggZD1cIk0gMC4wIC0xLjUgQyAwLjM5NzgwNDY1MDAwMDAwMDA0IC0xLjUgMC43NzkzNjk4MDYxNzcyODAyIC0xLjM0MTk1MDUzNzM4MjM2MjYgMS4wNjA2NjAxNzE3Nzk4MjE0IC0xLjA2MDY2MDE3MTc3OTgyMTQgQyAxLjM0MTk1MDUzNzM4MjM2MjYgLTAuNzc5MzY5ODA2MTc3MjgwMiAxLjUgLTAuMzk3ODA0NjUwMDAwMDAwMDQgMS41IC0wLjAgQyAxLjUgMC4zOTc4MDQ2NTAwMDAwMDAwNCAxLjM0MTk1MDUzNzM4MjM2MjYgMC43NzkzNjk4MDYxNzcyODAyIDEuMDYwNjYwMTcxNzc5ODIxNCAxLjA2MDY2MDE3MTc3OTgyMTQgQyAwLjc3OTM2OTgwNjE3NzI4MDIgMS4zNDE5NTA1MzczODIzNjI2IDAuMzk3ODA0NjUwMDAwMDAwMDQgMS41IDAuMCAxLjUgQyAtMC4zOTc4MDQ2NTAwMDAwMDAwNCAxLjUgLTAuNzc5MzY5ODA2MTc3MjgwMiAxLjM0MTk1MDUzNzM4MjM2MjYgLTEuMDYwNjYwMTcxNzc5ODIxNCAxLjA2MDY2MDE3MTc3OTgyMTQgQyAtMS4zNDE5NTA1MzczODIzNjI2IDAuNzc5MzY5ODA2MTc3MjgwMiAtMS41IDAuMzk3ODA0NjUwMDAwMDAwMDQgLTEuNSAtMC4wIEMgLTEuNSAtMC4zOTc4MDQ2NTAwMDAwMDAwNCAtMS4zNDE5NTA1MzczODIzNjI2IC0wLjc3OTM2OTgwNjE3NzI4MDIgLTEuMDYwNjYwMTcxNzc5ODIxNCAtMS4wNjA2NjAxNzE3Nzk4MjE0IEMgLTAuNzc5MzY5ODA2MTc3MjgwMiAtMS4zNDE5NTA1MzczODIzNjI2IC0wLjM5NzgwNDY1MDAwMDAwMDA0IC0xLjUgMC4wIC0xLjUgWlwiIHN0cm9rZT1cIiMwMDAwMDBcIiBzdHJva2Utd2lkdGg9XCIxLjBcIiBzdHJva2Utb3BhY2l0eT1cIjFcIiBmaWxsPVwiIzAwMDAwMFwiIGZpbGwtb3BhY2l0eT1cIjFcIiAvPjwvc3ZnPiIsICJhbmNob3JfeCI6IDIuMCwgImFuY2hvcl95IjogMi4wfX0sIHsidHlwZSI6ICJGZWF0dXJlIiwgImdlb21ldHJ5IjogeyJ0eXBlIjogIlBvaW50IiwgImNvb3JkaW5hdGVzIjogWy03OS4yNjQzNTQzNDUyLCA0My43MjcwMzI5MjkxXX0sICJwcm9wZXJ0aWVzIjogeyJodG1sIjogIjxzdmcgd2lkdGg9XCI0cHhcIiBoZWlnaHQ9XCI0cHhcIiB2aWV3Qm94PVwiLTIuMCAtMi4wIDQuMCA0LjBcIiB4bWxucz1cImh0dHA6Ly93d3cudzMub3JnLzIwMDAvc3ZnXCIgdmVyc2lvbj1cIjEuMVwiPiAgPHBhdGggZD1cIk0gMC4wIC0xLjUgQyAwLjM5NzgwNDY1MDAwMDAwMDA0IC0xLjUgMC43NzkzNjk4MDYxNzcyODAyIC0xLjM0MTk1MDUzNzM4MjM2MjYgMS4wNjA2NjAxNzE3Nzk4MjE0IC0xLjA2MDY2MDE3MTc3OTgyMTQgQyAxLjM0MTk1MDUzNzM4MjM2MjYgLTAuNzc5MzY5ODA2MTc3MjgwMiAxLjUgLTAuMzk3ODA0NjUwMDAwMDAwMDQgMS41IC0wLjAgQyAxLjUgMC4zOTc4MDQ2NTAwMDAwMDAwNCAxLjM0MTk1MDUzNzM4MjM2MjYgMC43NzkzNjk4MDYxNzcyODAyIDEuMDYwNjYwMTcxNzc5ODIxNCAxLjA2MDY2MDE3MTc3OTgyMTQgQyAwLjc3OTM2OTgwNjE3NzI4MDIgMS4zNDE5NTA1MzczODIzNjI2IDAuMzk3ODA0NjUwMDAwMDAwMDQgMS41IDAuMCAxLjUgQyAtMC4zOTc4MDQ2NTAwMDAwMDAwNCAxLjUgLTAuNzc5MzY5ODA2MTc3MjgwMiAxLjM0MTk1MDUzNzM4MjM2MjYgLTEuMDYwNjYwMTcxNzc5ODIxNCAxLjA2MDY2MDE3MTc3OTgyMTQgQyAtMS4zNDE5NTA1MzczODIzNjI2IDAuNzc5MzY5ODA2MTc3MjgwMiAtMS41IDAuMzk3ODA0NjUwMDAwMDAwMDQgLTEuNSAtMC4wIEMgLTEuNSAtMC4zOTc4MDQ2NTAwMDAwMDAwNCAtMS4zNDE5NTA1MzczODIzNjI2IC0wLjc3OTM2OTgwNjE3NzI4MDIgLTEuMDYwNjYwMTcxNzc5ODIxNCAtMS4wNjA2NjAxNzE3Nzk4MjE0IEMgLTAuNzc5MzY5ODA2MTc3MjgwMiAtMS4zNDE5NTA1MzczODIzNjI2IC0wLjM5NzgwNDY1MDAwMDAwMDA0IC0xLjUgMC4wIC0xLjUgWlwiIHN0cm9rZT1cIiMwMDAwMDBcIiBzdHJva2Utd2lkdGg9XCIxLjBcIiBzdHJva2Utb3BhY2l0eT1cIjFcIiBmaWxsPVwiIzAwMDAwMFwiIGZpbGwtb3BhY2l0eT1cIjFcIiAvPjwvc3ZnPiIsICJhbmNob3JfeCI6IDIuMCwgImFuY2hvcl95IjogMi4wfX0sIHsidHlwZSI6ICJGZWF0dXJlIiwgImdlb21ldHJ5IjogeyJ0eXBlIjogIlBvaW50IiwgImNvb3JkaW5hdGVzIjogWy03OS4zODE3NTAzOTE4LCA0My42NTE2ODMyNTA0XX0sICJwcm9wZXJ0aWVzIjogeyJodG1sIjogIjxzdmcgd2lkdGg9XCI0cHhcIiBoZWlnaHQ9XCI0cHhcIiB2aWV3Qm94PVwiLTIuMCAtMi4wIDQuMCA0LjBcIiB4bWxucz1cImh0dHA6Ly93d3cudzMub3JnLzIwMDAvc3ZnXCIgdmVyc2lvbj1cIjEuMVwiPiAgPHBhdGggZD1cIk0gMC4wIC0xLjUgQyAwLjM5NzgwNDY1MDAwMDAwMDA0IC0xLjUgMC43NzkzNjk4MDYxNzcyODAyIC0xLjM0MTk1MDUzNzM4MjM2MjYgMS4wNjA2NjAxNzE3Nzk4MjE0IC0xLjA2MDY2MDE3MTc3OTgyMTQgQyAxLjM0MTk1MDUzNzM4MjM2MjYgLTAuNzc5MzY5ODA2MTc3MjgwMiAxLjUgLTAuMzk3ODA0NjUwMDAwMDAwMDQgMS41IC0wLjAgQyAxLjUgMC4zOTc4MDQ2NTAwMDAwMDAwNCAxLjM0MTk1MDUzNzM4MjM2MjYgMC43NzkzNjk4MDYxNzcyODAyIDEuMDYwNjYwMTcxNzc5ODIxNCAxLjA2MDY2MDE3MTc3OTgyMTQgQyAwLjc3OTM2OTgwNjE3NzI4MDIgMS4zNDE5NTA1MzczODIzNjI2IDAuMzk3ODA0NjUwMDAwMDAwMDQgMS41IDAuMCAxLjUgQyAtMC4zOTc4MDQ2NTAwMDAwMDAwNCAxLjUgLTAuNzc5MzY5ODA2MTc3MjgwMiAxLjM0MTk1MDUzNzM4MjM2MjYgLTEuMDYwNjYwMTcxNzc5ODIxNCAxLjA2MDY2MDE3MTc3OTgyMTQgQyAtMS4zNDE5NTA1MzczODIzNjI2IDAuNzc5MzY5ODA2MTc3MjgwMiAtMS41IDAuMzk3ODA0NjUwMDAwMDAwMDQgLTEuNSAtMC4wIEMgLTEuNSAtMC4zOTc4MDQ2NTAwMDAwMDAwNCAtMS4zNDE5NTA1MzczODIzNjI2IC0wLjc3OTM2OTgwNjE3NzI4MDIgLTEuMDYwNjYwMTcxNzc5ODIxNCAtMS4wNjA2NjAxNzE3Nzk4MjE0IEMgLTAuNzc5MzY5ODA2MTc3MjgwMiAtMS4zNDE5NTA1MzczODIzNjI2IC0wLjM5NzgwNDY1MDAwMDAwMDA0IC0xLjUgMC4wIC0xLjUgWlwiIHN0cm9rZT1cIiMwMDAwMDBcIiBzdHJva2Utd2lkdGg9XCIxLjBcIiBzdHJva2Utb3BhY2l0eT1cIjFcIiBmaWxsPVwiIzAwMDAwMFwiIGZpbGwtb3BhY2l0eT1cIjFcIiAvPjwvc3ZnPiIsICJhbmNob3JfeCI6IDIuMCwgImFuY2hvcl95IjogMi4wfX0sIHsidHlwZSI6ICJGZWF0dXJlIiwgImdlb21ldHJ5IjogeyJ0eXBlIjogIlBvaW50IiwgImNvb3JkaW5hdGVzIjogWy03OS40Mjg2MzcxMzc1LCA0My43NzcxOTMwNTY5XX0sICJwcm9wZXJ0aWVzIjogeyJodG1sIjogIjxzdmcgd2lkdGg9XCI0cHhcIiBoZWlnaHQ9XCI0cHhcIiB2aWV3Qm94PVwiLTIuMCAtMi4wIDQuMCA0LjBcIiB4bWxucz1cImh0dHA6Ly93d3cudzMub3JnLzIwMDAvc3ZnXCIgdmVyc2lvbj1cIjEuMVwiPiAgPHBhdGggZD1cIk0gMC4wIC0xLjUgQyAwLjM5NzgwNDY1MDAwMDAwMDA0IC0xLjUgMC43NzkzNjk4MDYxNzcyODAyIC0xLjM0MTk1MDUzNzM4MjM2MjYgMS4wNjA2NjAxNzE3Nzk4MjE0IC0xLjA2MDY2MDE3MTc3OTgyMTQgQyAxLjM0MTk1MDUzNzM4MjM2MjYgLTAuNzc5MzY5ODA2MTc3MjgwMiAxLjUgLTAuMzk3ODA0NjUwMDAwMDAwMDQgMS41IC0wLjAgQyAxLjUgMC4zOTc4MDQ2NTAwMDAwMDAwNCAxLjM0MTk1MDUzNzM4MjM2MjYgMC43NzkzNjk4MDYxNzcyODAyIDEuMDYwNjYwMTcxNzc5ODIxNCAxLjA2MDY2MDE3MTc3OTgyMTQgQyAwLjc3OTM2OTgwNjE3NzI4MDIgMS4zNDE5NTA1MzczODIzNjI2IDAuMzk3ODA0NjUwMDAwMDAwMDQgMS41IDAuMCAxLjUgQyAtMC4zOTc4MDQ2NTAwMDAwMDAwNCAxLjUgLTAuNzc5MzY5ODA2MTc3MjgwMiAxLjM0MTk1MDUzNzM4MjM2MjYgLTEuMDYwNjYwMTcxNzc5ODIxNCAxLjA2MDY2MDE3MTc3OTgyMTQgQyAtMS4zNDE5NTA1MzczODIzNjI2IDAuNzc5MzY5ODA2MTc3MjgwMiAtMS41IDAuMzk3ODA0NjUwMDAwMDAwMDQgLTEuNSAtMC4wIEMgLTEuNSAtMC4zOTc4MDQ2NTAwMDAwMDAwNCAtMS4zNDE5NTA1MzczODIzNjI2IC0wLjc3OTM2OTgwNjE3NzI4MDIgLTEuMDYwNjYwMTcxNzc5ODIxNCAtMS4wNjA2NjAxNzE3Nzk4MjE0IEMgLTAuNzc5MzY5ODA2MTc3MjgwMiAtMS4zNDE5NTA1MzczODIzNjI2IC0wLjM5NzgwNDY1MDAwMDAwMDA0IC0xLjUgMC4wIC0xLjUgWlwiIHN0cm9rZT1cIiMwMDAwMDBcIiBzdHJva2Utd2lkdGg9XCIxLjBcIiBzdHJva2Utb3BhY2l0eT1cIjFcIiBmaWxsPVwiIzAwMDAwMFwiIGZpbGwtb3BhY2l0eT1cIjFcIiAvPjwvc3ZnPiIsICJhbmNob3JfeCI6IDIuMCwgImFuY2hvcl95IjogMi4wfX0sIHsidHlwZSI6ICJGZWF0dXJlIiwgImdlb21ldHJ5IjogeyJ0eXBlIjogIlBvaW50IiwgImNvb3JkaW5hdGVzIjogWy03OS4zMjYyNTE4MzM1LCA0My43NzQ4OTk5MDI2XX0sICJwcm9wZXJ0aWVzIjogeyJodG1sIjogIjxzdmcgd2lkdGg9XCI0cHhcIiBoZWlnaHQ9XCI0cHhcIiB2aWV3Qm94PVwiLTIuMCAtMi4wIDQuMCA0LjBcIiB4bWxucz1cImh0dHA6Ly93d3cudzMub3JnLzIwMDAvc3ZnXCIgdmVyc2lvbj1cIjEuMVwiPiAgPHBhdGggZD1cIk0gMC4wIC0xLjUgQyAwLjM5NzgwNDY1MDAwMDAwMDA0IC0xLjUgMC43NzkzNjk4MDYxNzcyODAyIC0xLjM0MTk1MDUzNzM4MjM2MjYgMS4wNjA2NjAxNzE3Nzk4MjE0IC0xLjA2MDY2MDE3MTc3OTgyMTQgQyAxLjM0MTk1MDUzNzM4MjM2MjYgLTAuNzc5MzY5ODA2MTc3MjgwMiAxLjUgLTAuMzk3ODA0NjUwMDAwMDAwMDQgMS41IC0wLjAgQyAxLjUgMC4zOTc4MDQ2NTAwMDAwMDAwNCAxLjM0MTk1MDUzNzM4MjM2MjYgMC43NzkzNjk4MDYxNzcyODAyIDEuMDYwNjYwMTcxNzc5ODIxNCAxLjA2MDY2MDE3MTc3OTgyMTQgQyAwLjc3OTM2OTgwNjE3NzI4MDIgMS4zNDE5NTA1MzczODIzNjI2IDAuMzk3ODA0NjUwMDAwMDAwMDQgMS41IDAuMCAxLjUgQyAtMC4zOTc4MDQ2NTAwMDAwMDAwNCAxLjUgLTAuNzc5MzY5ODA2MTc3MjgwMiAxLjM0MTk1MDUzNzM4MjM2MjYgLTEuMDYwNjYwMTcxNzc5ODIxNCAxLjA2MDY2MDE3MTc3OTgyMTQgQyAtMS4zNDE5NTA1MzczODIzNjI2IDAuNzc5MzY5ODA2MTc3MjgwMiAtMS41IDAuMzk3ODA0NjUwMDAwMDAwMDQgLTEuNSAtMC4wIEMgLTEuNSAtMC4zOTc4MDQ2NTAwMDAwMDAwNCAtMS4zNDE5NTA1MzczODIzNjI2IC0wLjc3OTM2OTgwNjE3NzI4MDIgLTEuMDYwNjYwMTcxNzc5ODIxNCAtMS4wNjA2NjAxNzE3Nzk4MjE0IEMgLTAuNzc5MzY5ODA2MTc3MjgwMiAtMS4zNDE5NTA1MzczODIzNjI2IC0wLjM5NzgwNDY1MDAwMDAwMDA0IC0xLjUgMC4wIC0xLjUgWlwiIHN0cm9rZT1cIiMwMDAwMDBcIiBzdHJva2Utd2lkdGg9XCIxLjBcIiBzdHJva2Utb3BhY2l0eT1cIjFcIiBmaWxsPVwiIzAwMDAwMFwiIGZpbGwtb3BhY2l0eT1cIjFcIiAvPjwvc3ZnPiIsICJhbmNob3JfeCI6IDIuMCwgImFuY2hvcl95IjogMi4wfX0sIHsidHlwZSI6ICJGZWF0dXJlIiwgImdlb21ldHJ5IjogeyJ0eXBlIjogIlBvaW50IiwgImNvb3JkaW5hdGVzIjogWy03OS4zMTkyMTU1NzE5LCA0My43NzU4NTAyNDE0XX0sICJwcm9wZXJ0aWVzIjogeyJodG1sIjogIjxzdmcgd2lkdGg9XCI0cHhcIiBoZWlnaHQ9XCI0cHhcIiB2aWV3Qm94PVwiLTIuMCAtMi4wIDQuMCA0LjBcIiB4bWxucz1cImh0dHA6Ly93d3cudzMub3JnLzIwMDAvc3ZnXCIgdmVyc2lvbj1cIjEuMVwiPiAgPHBhdGggZD1cIk0gMC4wIC0xLjUgQyAwLjM5NzgwNDY1MDAwMDAwMDA0IC0xLjUgMC43NzkzNjk4MDYxNzcyODAyIC0xLjM0MTk1MDUzNzM4MjM2MjYgMS4wNjA2NjAxNzE3Nzk4MjE0IC0xLjA2MDY2MDE3MTc3OTgyMTQgQyAxLjM0MTk1MDUzNzM4MjM2MjYgLTAuNzc5MzY5ODA2MTc3MjgwMiAxLjUgLTAuMzk3ODA0NjUwMDAwMDAwMDQgMS41IC0wLjAgQyAxLjUgMC4zOTc4MDQ2NTAwMDAwMDAwNCAxLjM0MTk1MDUzNzM4MjM2MjYgMC43NzkzNjk4MDYxNzcyODAyIDEuMDYwNjYwMTcxNzc5ODIxNCAxLjA2MDY2MDE3MTc3OTgyMTQgQyAwLjc3OTM2OTgwNjE3NzI4MDIgMS4zNDE5NTA1MzczODIzNjI2IDAuMzk3ODA0NjUwMDAwMDAwMDQgMS41IDAuMCAxLjUgQyAtMC4zOTc4MDQ2NTAwMDAwMDAwNCAxLjUgLTAuNzc5MzY5ODA2MTc3MjgwMiAxLjM0MTk1MDUzNzM4MjM2MjYgLTEuMDYwNjYwMTcxNzc5ODIxNCAxLjA2MDY2MDE3MTc3OTgyMTQgQyAtMS4zNDE5NTA1MzczODIzNjI2IDAuNzc5MzY5ODA2MTc3MjgwMiAtMS41IDAuMzk3ODA0NjUwMDAwMDAwMDQgLTEuNSAtMC4wIEMgLTEuNSAtMC4zOTc4MDQ2NTAwMDAwMDAwNCAtMS4zNDE5NTA1MzczODIzNjI2IC0wLjc3OTM2OTgwNjE3NzI4MDIgLTEuMDYwNjYwMTcxNzc5ODIxNCAtMS4wNjA2NjAxNzE3Nzk4MjE0IEMgLTAuNzc5MzY5ODA2MTc3MjgwMiAtMS4zNDE5NTA1MzczODIzNjI2IC0wLjM5NzgwNDY1MDAwMDAwMDA0IC0xLjUgMC4wIC0xLjUgWlwiIHN0cm9rZT1cIiMwMDAwMDBcIiBzdHJva2Utd2lkdGg9XCIxLjBcIiBzdHJva2Utb3BhY2l0eT1cIjFcIiBmaWxsPVwiIzAwMDAwMFwiIGZpbGwtb3BhY2l0eT1cIjFcIiAvPjwvc3ZnPiIsICJhbmNob3JfeCI6IDIuMCwgImFuY2hvcl95IjogMi4wfX0sIHsidHlwZSI6ICJGZWF0dXJlIiwgImdlb21ldHJ5IjogeyJ0eXBlIjogIlBvaW50IiwgImNvb3JkaW5hdGVzIjogWy03OS4zMDM3MjEzOTYxLCA0My43NzkzMTc4ODQyXX0sICJwcm9wZXJ0aWVzIjogeyJodG1sIjogIjxzdmcgd2lkdGg9XCI0cHhcIiBoZWlnaHQ9XCI0cHhcIiB2aWV3Qm94PVwiLTIuMCAtMi4wIDQuMCA0LjBcIiB4bWxucz1cImh0dHA6Ly93d3cudzMub3JnLzIwMDAvc3ZnXCIgdmVyc2lvbj1cIjEuMVwiPiAgPHBhdGggZD1cIk0gMC4wIC0xLjUgQyAwLjM5NzgwNDY1MDAwMDAwMDA0IC0xLjUgMC43NzkzNjk4MDYxNzcyODAyIC0xLjM0MTk1MDUzNzM4MjM2MjYgMS4wNjA2NjAxNzE3Nzk4MjE0IC0xLjA2MDY2MDE3MTc3OTgyMTQgQyAxLjM0MTk1MDUzNzM4MjM2MjYgLTAuNzc5MzY5ODA2MTc3MjgwMiAxLjUgLTAuMzk3ODA0NjUwMDAwMDAwMDQgMS41IC0wLjAgQyAxLjUgMC4zOTc4MDQ2NTAwMDAwMDAwNCAxLjM0MTk1MDUzNzM4MjM2MjYgMC43NzkzNjk4MDYxNzcyODAyIDEuMDYwNjYwMTcxNzc5ODIxNCAxLjA2MDY2MDE3MTc3OTgyMTQgQyAwLjc3OTM2OTgwNjE3NzI4MDIgMS4zNDE5NTA1MzczODIzNjI2IDAuMzk3ODA0NjUwMDAwMDAwMDQgMS41IDAuMCAxLjUgQyAtMC4zOTc4MDQ2NTAwMDAwMDAwNCAxLjUgLTAuNzc5MzY5ODA2MTc3MjgwMiAxLjM0MTk1MDUzNzM4MjM2MjYgLTEuMDYwNjYwMTcxNzc5ODIxNCAxLjA2MDY2MDE3MTc3OTgyMTQgQyAtMS4zNDE5NTA1MzczODIzNjI2IDAuNzc5MzY5ODA2MTc3MjgwMiAtMS41IDAuMzk3ODA0NjUwMDAwMDAwMDQgLTEuNSAtMC4wIEMgLTEuNSAtMC4zOTc4MDQ2NTAwMDAwMDAwNCAtMS4zNDE5NTA1MzczODIzNjI2IC0wLjc3OTM2OTgwNjE3NzI4MDIgLTEuMDYwNjYwMTcxNzc5ODIxNCAtMS4wNjA2NjAxNzE3Nzk4MjE0IEMgLTAuNzc5MzY5ODA2MTc3MjgwMiAtMS4zNDE5NTA1MzczODIzNjI2IC0wLjM5NzgwNDY1MDAwMDAwMDA0IC0xLjUgMC4wIC0xLjUgWlwiIHN0cm9rZT1cIiMwMDAwMDBcIiBzdHJva2Utd2lkdGg9XCIxLjBcIiBzdHJva2Utb3BhY2l0eT1cIjFcIiBmaWxsPVwiIzAwMDAwMFwiIGZpbGwtb3BhY2l0eT1cIjFcIiAvPjwvc3ZnPiIsICJhbmNob3JfeCI6IDIuMCwgImFuY2hvcl95IjogMi4wfX0sIHsidHlwZSI6ICJGZWF0dXJlIiwgImdlb21ldHJ5IjogeyJ0eXBlIjogIlBvaW50IiwgImNvb3JkaW5hdGVzIjogWy03OS4yNzA2NTQ4MzgsIDQzLjc4NzQ3Nzc4NzVdfSwgInByb3BlcnRpZXMiOiB7Imh0bWwiOiAiPHN2ZyB3aWR0aD1cIjRweFwiIGhlaWdodD1cIjRweFwiIHZpZXdCb3g9XCItMi4wIC0yLjAgNC4wIDQuMFwiIHhtbG5zPVwiaHR0cDovL3d3dy53My5vcmcvMjAwMC9zdmdcIiB2ZXJzaW9uPVwiMS4xXCI+ICA8cGF0aCBkPVwiTSAwLjAgLTEuNSBDIDAuMzk3ODA0NjUwMDAwMDAwMDQgLTEuNSAwLjc3OTM2OTgwNjE3NzI4MDIgLTEuMzQxOTUwNTM3MzgyMzYyNiAxLjA2MDY2MDE3MTc3OTgyMTQgLTEuMDYwNjYwMTcxNzc5ODIxNCBDIDEuMzQxOTUwNTM3MzgyMzYyNiAtMC43NzkzNjk4MDYxNzcyODAyIDEuNSAtMC4zOTc4MDQ2NTAwMDAwMDAwNCAxLjUgLTAuMCBDIDEuNSAwLjM5NzgwNDY1MDAwMDAwMDA0IDEuMzQxOTUwNTM3MzgyMzYyNiAwLjc3OTM2OTgwNjE3NzI4MDIgMS4wNjA2NjAxNzE3Nzk4MjE0IDEuMDYwNjYwMTcxNzc5ODIxNCBDIDAuNzc5MzY5ODA2MTc3MjgwMiAxLjM0MTk1MDUzNzM4MjM2MjYgMC4zOTc4MDQ2NTAwMDAwMDAwNCAxLjUgMC4wIDEuNSBDIC0wLjM5NzgwNDY1MDAwMDAwMDA0IDEuNSAtMC43NzkzNjk4MDYxNzcyODAyIDEuMzQxOTUwNTM3MzgyMzYyNiAtMS4wNjA2NjAxNzE3Nzk4MjE0IDEuMDYwNjYwMTcxNzc5ODIxNCBDIC0xLjM0MTk1MDUzNzM4MjM2MjYgMC43NzkzNjk4MDYxNzcyODAyIC0xLjUgMC4zOTc4MDQ2NTAwMDAwMDAwNCAtMS41IC0wLjAgQyAtMS41IC0wLjM5NzgwNDY1MDAwMDAwMDA0IC0xLjM0MTk1MDUzNzM4MjM2MjYgLTAuNzc5MzY5ODA2MTc3MjgwMiAtMS4wNjA2NjAxNzE3Nzk4MjE0IC0xLjA2MDY2MDE3MTc3OTgyMTQgQyAtMC43NzkzNjk4MDYxNzcyODAyIC0xLjM0MTk1MDUzNzM4MjM2MjYgLTAuMzk3ODA0NjUwMDAwMDAwMDQgLTEuNSAwLjAgLTEuNSBaXCIgc3Ryb2tlPVwiIzAwMDAwMFwiIHN0cm9rZS13aWR0aD1cIjEuMFwiIHN0cm9rZS1vcGFjaXR5PVwiMVwiIGZpbGw9XCIjMDAwMDAwXCIgZmlsbC1vcGFjaXR5PVwiMVwiIC8+PC9zdmc+IiwgImFuY2hvcl94IjogMi4wLCAiYW5jaG9yX3kiOiAyLjB9fSwgeyJ0eXBlIjogIkZlYXR1cmUiLCAiZ2VvbWV0cnkiOiB7InR5cGUiOiAiUG9pbnQiLCAiY29vcmRpbmF0ZXMiOiBbLTc5LjI1NzQxNDg4MjIsIDQzLjc5MDUxNTQxNTldfSwgInByb3BlcnRpZXMiOiB7Imh0bWwiOiAiPHN2ZyB3aWR0aD1cIjRweFwiIGhlaWdodD1cIjRweFwiIHZpZXdCb3g9XCItMi4wIC0yLjAgNC4wIDQuMFwiIHhtbG5zPVwiaHR0cDovL3d3dy53My5vcmcvMjAwMC9zdmdcIiB2ZXJzaW9uPVwiMS4xXCI+ICA8cGF0aCBkPVwiTSAwLjAgLTEuNSBDIDAuMzk3ODA0NjUwMDAwMDAwMDQgLTEuNSAwLjc3OTM2OTgwNjE3NzI4MDIgLTEuMzQxOTUwNTM3MzgyMzYyNiAxLjA2MDY2MDE3MTc3OTgyMTQgLTEuMDYwNjYwMTcxNzc5ODIxNCBDIDEuMzQxOTUwNTM3MzgyMzYyNiAtMC43NzkzNjk4MDYxNzcyODAyIDEuNSAtMC4zOTc4MDQ2NTAwMDAwMDAwNCAxLjUgLTAuMCBDIDEuNSAwLjM5NzgwNDY1MDAwMDAwMDA0IDEuMzQxOTUwNTM3MzgyMzYyNiAwLjc3OTM2OTgwNjE3NzI4MDIgMS4wNjA2NjAxNzE3Nzk4MjE0IDEuMDYwNjYwMTcxNzc5ODIxNCBDIDAuNzc5MzY5ODA2MTc3MjgwMiAxLjM0MTk1MDUzNzM4MjM2MjYgMC4zOTc4MDQ2NTAwMDAwMDAwNCAxLjUgMC4wIDEuNSBDIC0wLjM5NzgwNDY1MDAwMDAwMDA0IDEuNSAtMC43NzkzNjk4MDYxNzcyODAyIDEuMzQxOTUwNTM3MzgyMzYyNiAtMS4wNjA2NjAxNzE3Nzk4MjE0IDEuMDYwNjYwMTcxNzc5ODIxNCBDIC0xLjM0MTk1MDUzNzM4MjM2MjYgMC43NzkzNjk4MDYxNzcyODAyIC0xLjUgMC4zOTc4MDQ2NTAwMDAwMDAwNCAtMS41IC0wLjAgQyAtMS41IC0wLjM5NzgwNDY1MDAwMDAwMDA0IC0xLjM0MTk1MDUzNzM4MjM2MjYgLTAuNzc5MzY5ODA2MTc3MjgwMiAtMS4wNjA2NjAxNzE3Nzk4MjE0IC0xLjA2MDY2MDE3MTc3OTgyMTQgQyAtMC43NzkzNjk4MDYxNzcyODAyIC0xLjM0MTk1MDUzNzM4MjM2MjYgLTAuMzk3ODA0NjUwMDAwMDAwMDQgLTEuNSAwLjAgLTEuNSBaXCIgc3Ryb2tlPVwiIzAwMDAwMFwiIHN0cm9rZS13aWR0aD1cIjEuMFwiIHN0cm9rZS1vcGFjaXR5PVwiMVwiIGZpbGw9XCIjMDAwMDAwXCIgZmlsbC1vcGFjaXR5PVwiMVwiIC8+PC9zdmc+IiwgImFuY2hvcl94IjogMi4wLCAiYW5jaG9yX3kiOiAyLjB9fSwgeyJ0eXBlIjogIkZlYXR1cmUiLCAiZ2VvbWV0cnkiOiB7InR5cGUiOiAiUG9pbnQiLCAiY29vcmRpbmF0ZXMiOiBbLTc5LjE0MDkxMjMzNDUsIDQzLjc5MDYzODkzMzJdfSwgInByb3BlcnRpZXMiOiB7Imh0bWwiOiAiPHN2ZyB3aWR0aD1cIjRweFwiIGhlaWdodD1cIjRweFwiIHZpZXdCb3g9XCItMi4wIC0yLjAgNC4wIDQuMFwiIHhtbG5zPVwiaHR0cDovL3d3dy53My5vcmcvMjAwMC9zdmdcIiB2ZXJzaW9uPVwiMS4xXCI+ICA8cGF0aCBkPVwiTSAwLjAgLTEuNSBDIDAuMzk3ODA0NjUwMDAwMDAwMDQgLTEuNSAwLjc3OTM2OTgwNjE3NzI4MDIgLTEuMzQxOTUwNTM3MzgyMzYyNiAxLjA2MDY2MDE3MTc3OTgyMTQgLTEuMDYwNjYwMTcxNzc5ODIxNCBDIDEuMzQxOTUwNTM3MzgyMzYyNiAtMC43NzkzNjk4MDYxNzcyODAyIDEuNSAtMC4zOTc4MDQ2NTAwMDAwMDAwNCAxLjUgLTAuMCBDIDEuNSAwLjM5NzgwNDY1MDAwMDAwMDA0IDEuMzQxOTUwNTM3MzgyMzYyNiAwLjc3OTM2OTgwNjE3NzI4MDIgMS4wNjA2NjAxNzE3Nzk4MjE0IDEuMDYwNjYwMTcxNzc5ODIxNCBDIDAuNzc5MzY5ODA2MTc3MjgwMiAxLjM0MTk1MDUzNzM4MjM2MjYgMC4zOTc4MDQ2NTAwMDAwMDAwNCAxLjUgMC4wIDEuNSBDIC0wLjM5NzgwNDY1MDAwMDAwMDA0IDEuNSAtMC43NzkzNjk4MDYxNzcyODAyIDEuMzQxOTUwNTM3MzgyMzYyNiAtMS4wNjA2NjAxNzE3Nzk4MjE0IDEuMDYwNjYwMTcxNzc5ODIxNCBDIC0xLjM0MTk1MDUzNzM4MjM2MjYgMC43NzkzNjk4MDYxNzcyODAyIC0xLjUgMC4zOTc4MDQ2NTAwMDAwMDAwNCAtMS41IC0wLjAgQyAtMS41IC0wLjM5NzgwNDY1MDAwMDAwMDA0IC0xLjM0MTk1MDUzNzM4MjM2MjYgLTAuNzc5MzY5ODA2MTc3MjgwMiAtMS4wNjA2NjAxNzE3Nzk4MjE0IC0xLjA2MDY2MDE3MTc3OTgyMTQgQyAtMC43NzkzNjk4MDYxNzcyODAyIC0xLjM0MTk1MDUzNzM4MjM2MjYgLTAuMzk3ODA0NjUwMDAwMDAwMDQgLTEuNSAwLjAgLTEuNSBaXCIgc3Ryb2tlPVwiIzAwMDAwMFwiIHN0cm9rZS13aWR0aD1cIjEuMFwiIHN0cm9rZS1vcGFjaXR5PVwiMVwiIGZpbGw9XCIjMDAwMDAwXCIgZmlsbC1vcGFjaXR5PVwiMVwiIC8+PC9zdmc+IiwgImFuY2hvcl94IjogMi4wLCAiYW5jaG9yX3kiOiAyLjB9fSwgeyJ0eXBlIjogIkZlYXR1cmUiLCAiZ2VvbWV0cnkiOiB7InR5cGUiOiAiUG9pbnQiLCAiY29vcmRpbmF0ZXMiOiBbLTc5LjMwMzE5ODIzNDQsIDQzLjc3OTYxNzYzODFdfSwgInByb3BlcnRpZXMiOiB7Imh0bWwiOiAiPHN2ZyB3aWR0aD1cIjRweFwiIGhlaWdodD1cIjRweFwiIHZpZXdCb3g9XCItMi4wIC0yLjAgNC4wIDQuMFwiIHhtbG5zPVwiaHR0cDovL3d3dy53My5vcmcvMjAwMC9zdmdcIiB2ZXJzaW9uPVwiMS4xXCI+ICA8cGF0aCBkPVwiTSAwLjAgLTEuNSBDIDAuMzk3ODA0NjUwMDAwMDAwMDQgLTEuNSAwLjc3OTM2OTgwNjE3NzI4MDIgLTEuMzQxOTUwNTM3MzgyMzYyNiAxLjA2MDY2MDE3MTc3OTgyMTQgLTEuMDYwNjYwMTcxNzc5ODIxNCBDIDEuMzQxOTUwNTM3MzgyMzYyNiAtMC43NzkzNjk4MDYxNzcyODAyIDEuNSAtMC4zOTc4MDQ2NTAwMDAwMDAwNCAxLjUgLTAuMCBDIDEuNSAwLjM5NzgwNDY1MDAwMDAwMDA0IDEuMzQxOTUwNTM3MzgyMzYyNiAwLjc3OTM2OTgwNjE3NzI4MDIgMS4wNjA2NjAxNzE3Nzk4MjE0IDEuMDYwNjYwMTcxNzc5ODIxNCBDIDAuNzc5MzY5ODA2MTc3MjgwMiAxLjM0MTk1MDUzNzM4MjM2MjYgMC4zOTc4MDQ2NTAwMDAwMDAwNCAxLjUgMC4wIDEuNSBDIC0wLjM5NzgwNDY1MDAwMDAwMDA0IDEuNSAtMC43NzkzNjk4MDYxNzcyODAyIDEuMzQxOTUwNTM3MzgyMzYyNiAtMS4wNjA2NjAxNzE3Nzk4MjE0IDEuMDYwNjYwMTcxNzc5ODIxNCBDIC0xLjM0MTk1MDUzNzM4MjM2MjYgMC43NzkzNjk4MDYxNzcyODAyIC0xLjUgMC4zOTc4MDQ2NTAwMDAwMDAwNCAtMS41IC0wLjAgQyAtMS41IC0wLjM5NzgwNDY1MDAwMDAwMDA0IC0xLjM0MTk1MDUzNzM4MjM2MjYgLTAuNzc5MzY5ODA2MTc3MjgwMiAtMS4wNjA2NjAxNzE3Nzk4MjE0IC0xLjA2MDY2MDE3MTc3OTgyMTQgQyAtMC43NzkzNjk4MDYxNzcyODAyIC0xLjM0MTk1MDUzNzM4MjM2MjYgLTAuMzk3ODA0NjUwMDAwMDAwMDQgLTEuNSAwLjAgLTEuNSBaXCIgc3Ryb2tlPVwiIzAwMDAwMFwiIHN0cm9rZS13aWR0aD1cIjEuMFwiIHN0cm9rZS1vcGFjaXR5PVwiMVwiIGZpbGw9XCIjMDAwMDAwXCIgZmlsbC1vcGFjaXR5PVwiMVwiIC8+PC9zdmc+IiwgImFuY2hvcl94IjogMi4wLCAiYW5jaG9yX3kiOiAyLjB9fSwgeyJ0eXBlIjogIkZlYXR1cmUiLCAiZ2VvbWV0cnkiOiB7InR5cGUiOiAiUG9pbnQiLCAiY29vcmRpbmF0ZXMiOiBbLTc5LjQ4NjczNTY5NzksIDQzLjc0NDk1MTM2ODddfSwgInByb3BlcnRpZXMiOiB7Imh0bWwiOiAiPHN2ZyB3aWR0aD1cIjRweFwiIGhlaWdodD1cIjRweFwiIHZpZXdCb3g9XCItMi4wIC0yLjAgNC4wIDQuMFwiIHhtbG5zPVwiaHR0cDovL3d3dy53My5vcmcvMjAwMC9zdmdcIiB2ZXJzaW9uPVwiMS4xXCI+ICA8cGF0aCBkPVwiTSAwLjAgLTEuNSBDIDAuMzk3ODA0NjUwMDAwMDAwMDQgLTEuNSAwLjc3OTM2OTgwNjE3NzI4MDIgLTEuMzQxOTUwNTM3MzgyMzYyNiAxLjA2MDY2MDE3MTc3OTgyMTQgLTEuMDYwNjYwMTcxNzc5ODIxNCBDIDEuMzQxOTUwNTM3MzgyMzYyNiAtMC43NzkzNjk4MDYxNzcyODAyIDEuNSAtMC4zOTc4MDQ2NTAwMDAwMDAwNCAxLjUgLTAuMCBDIDEuNSAwLjM5NzgwNDY1MDAwMDAwMDA0IDEuMzQxOTUwNTM3MzgyMzYyNiAwLjc3OTM2OTgwNjE3NzI4MDIgMS4wNjA2NjAxNzE3Nzk4MjE0IDEuMDYwNjYwMTcxNzc5ODIxNCBDIDAuNzc5MzY5ODA2MTc3MjgwMiAxLjM0MTk1MDUzNzM4MjM2MjYgMC4zOTc4MDQ2NTAwMDAwMDAwNCAxLjUgMC4wIDEuNSBDIC0wLjM5NzgwNDY1MDAwMDAwMDA0IDEuNSAtMC43NzkzNjk4MDYxNzcyODAyIDEuMzQxOTUwNTM3MzgyMzYyNiAtMS4wNjA2NjAxNzE3Nzk4MjE0IDEuMDYwNjYwMTcxNzc5ODIxNCBDIC0xLjM0MTk1MDUzNzM4MjM2MjYgMC43NzkzNjk4MDYxNzcyODAyIC0xLjUgMC4zOTc4MDQ2NTAwMDAwMDAwNCAtMS41IC0wLjAgQyAtMS41IC0wLjM5NzgwNDY1MDAwMDAwMDA0IC0xLjM0MTk1MDUzNzM4MjM2MjYgLTAuNzc5MzY5ODA2MTc3MjgwMiAtMS4wNjA2NjAxNzE3Nzk4MjE0IC0xLjA2MDY2MDE3MTc3OTgyMTQgQyAtMC43NzkzNjk4MDYxNzcyODAyIC0xLjM0MTk1MDUzNzM4MjM2MjYgLTAuMzk3ODA0NjUwMDAwMDAwMDQgLTEuNSAwLjAgLTEuNSBaXCIgc3Ryb2tlPVwiIzAwMDAwMFwiIHN0cm9rZS13aWR0aD1cIjEuMFwiIHN0cm9rZS1vcGFjaXR5PVwiMVwiIGZpbGw9XCIjMDAwMDAwXCIgZmlsbC1vcGFjaXR5PVwiMVwiIC8+PC9zdmc+IiwgImFuY2hvcl94IjogMi4wLCAiYW5jaG9yX3kiOiAyLjB9fSwgeyJ0eXBlIjogIkZlYXR1cmUiLCAiZ2VvbWV0cnkiOiB7InR5cGUiOiAiUG9pbnQiLCAiY29vcmRpbmF0ZXMiOiBbLTc5LjM3OTc4ODMxOTMsIDQzLjc2Njc1NDEzOTRdfSwgInByb3BlcnRpZXMiOiB7Imh0bWwiOiAiPHN2ZyB3aWR0aD1cIjRweFwiIGhlaWdodD1cIjRweFwiIHZpZXdCb3g9XCItMi4wIC0yLjAgNC4wIDQuMFwiIHhtbG5zPVwiaHR0cDovL3d3dy53My5vcmcvMjAwMC9zdmdcIiB2ZXJzaW9uPVwiMS4xXCI+ICA8cGF0aCBkPVwiTSAwLjAgLTEuNSBDIDAuMzk3ODA0NjUwMDAwMDAwMDQgLTEuNSAwLjc3OTM2OTgwNjE3NzI4MDIgLTEuMzQxOTUwNTM3MzgyMzYyNiAxLjA2MDY2MDE3MTc3OTgyMTQgLTEuMDYwNjYwMTcxNzc5ODIxNCBDIDEuMzQxOTUwNTM3MzgyMzYyNiAtMC43NzkzNjk4MDYxNzcyODAyIDEuNSAtMC4zOTc4MDQ2NTAwMDAwMDAwNCAxLjUgLTAuMCBDIDEuNSAwLjM5NzgwNDY1MDAwMDAwMDA0IDEuMzQxOTUwNTM3MzgyMzYyNiAwLjc3OTM2OTgwNjE3NzI4MDIgMS4wNjA2NjAxNzE3Nzk4MjE0IDEuMDYwNjYwMTcxNzc5ODIxNCBDIDAuNzc5MzY5ODA2MTc3MjgwMiAxLjM0MTk1MDUzNzM4MjM2MjYgMC4zOTc4MDQ2NTAwMDAwMDAwNCAxLjUgMC4wIDEuNSBDIC0wLjM5NzgwNDY1MDAwMDAwMDA0IDEuNSAtMC43NzkzNjk4MDYxNzcyODAyIDEuMzQxOTUwNTM3MzgyMzYyNiAtMS4wNjA2NjAxNzE3Nzk4MjE0IDEuMDYwNjYwMTcxNzc5ODIxNCBDIC0xLjM0MTk1MDUzNzM4MjM2MjYgMC43NzkzNjk4MDYxNzcyODAyIC0xLjUgMC4zOTc4MDQ2NTAwMDAwMDAwNCAtMS41IC0wLjAgQyAtMS41IC0wLjM5NzgwNDY1MDAwMDAwMDA0IC0xLjM0MTk1MDUzNzM4MjM2MjYgLTAuNzc5MzY5ODA2MTc3MjgwMiAtMS4wNjA2NjAxNzE3Nzk4MjE0IC0xLjA2MDY2MDE3MTc3OTgyMTQgQyAtMC43NzkzNjk4MDYxNzcyODAyIC0xLjM0MTk1MDUzNzM4MjM2MjYgLTAuMzk3ODA0NjUwMDAwMDAwMDQgLTEuNSAwLjAgLTEuNSBaXCIgc3Ryb2tlPVwiIzAwMDAwMFwiIHN0cm9rZS13aWR0aD1cIjEuMFwiIHN0cm9rZS1vcGFjaXR5PVwiMVwiIGZpbGw9XCIjMDAwMDAwXCIgZmlsbC1vcGFjaXR5PVwiMVwiIC8+PC9zdmc+IiwgImFuY2hvcl94IjogMi4wLCAiYW5jaG9yX3kiOiAyLjB9fSwgeyJ0eXBlIjogIkZlYXR1cmUiLCAiZ2VvbWV0cnkiOiB7InR5cGUiOiAiUG9pbnQiLCAiY29vcmRpbmF0ZXMiOiBbLTc5LjQ3MDc0NjA0MzMsIDQzLjc2NzI4NjY1MDVdfSwgInByb3BlcnRpZXMiOiB7Imh0bWwiOiAiPHN2ZyB3aWR0aD1cIjRweFwiIGhlaWdodD1cIjRweFwiIHZpZXdCb3g9XCItMi4wIC0yLjAgNC4wIDQuMFwiIHhtbG5zPVwiaHR0cDovL3d3dy53My5vcmcvMjAwMC9zdmdcIiB2ZXJzaW9uPVwiMS4xXCI+ICA8cGF0aCBkPVwiTSAwLjAgLTEuNSBDIDAuMzk3ODA0NjUwMDAwMDAwMDQgLTEuNSAwLjc3OTM2OTgwNjE3NzI4MDIgLTEuMzQxOTUwNTM3MzgyMzYyNiAxLjA2MDY2MDE3MTc3OTgyMTQgLTEuMDYwNjYwMTcxNzc5ODIxNCBDIDEuMzQxOTUwNTM3MzgyMzYyNiAtMC43NzkzNjk4MDYxNzcyODAyIDEuNSAtMC4zOTc4MDQ2NTAwMDAwMDAwNCAxLjUgLTAuMCBDIDEuNSAwLjM5NzgwNDY1MDAwMDAwMDA0IDEuMzQxOTUwNTM3MzgyMzYyNiAwLjc3OTM2OTgwNjE3NzI4MDIgMS4wNjA2NjAxNzE3Nzk4MjE0IDEuMDYwNjYwMTcxNzc5ODIxNCBDIDAuNzc5MzY5ODA2MTc3MjgwMiAxLjM0MTk1MDUzNzM4MjM2MjYgMC4zOTc4MDQ2NTAwMDAwMDAwNCAxLjUgMC4wIDEuNSBDIC0wLjM5NzgwNDY1MDAwMDAwMDA0IDEuNSAtMC43NzkzNjk4MDYxNzcyODAyIDEuMzQxOTUwNTM3MzgyMzYyNiAtMS4wNjA2NjAxNzE3Nzk4MjE0IDEuMDYwNjYwMTcxNzc5ODIxNCBDIC0xLjM0MTk1MDUzNzM4MjM2MjYgMC43NzkzNjk4MDYxNzcyODAyIC0xLjUgMC4zOTc4MDQ2NTAwMDAwMDAwNCAtMS41IC0wLjAgQyAtMS41IC0wLjM5NzgwNDY1MDAwMDAwMDA0IC0xLjM0MTk1MDUzNzM4MjM2MjYgLTAuNzc5MzY5ODA2MTc3MjgwMiAtMS4wNjA2NjAxNzE3Nzk4MjE0IC0xLjA2MDY2MDE3MTc3OTgyMTQgQyAtMC43NzkzNjk4MDYxNzcyODAyIC0xLjM0MTk1MDUzNzM4MjM2MjYgLTAuMzk3ODA0NjUwMDAwMDAwMDQgLTEuNSAwLjAgLTEuNSBaXCIgc3Ryb2tlPVwiIzAwMDAwMFwiIHN0cm9rZS13aWR0aD1cIjEuMFwiIHN0cm9rZS1vcGFjaXR5PVwiMVwiIGZpbGw9XCIjMDAwMDAwXCIgZmlsbC1vcGFjaXR5PVwiMVwiIC8+PC9zdmc+IiwgImFuY2hvcl94IjogMi4wLCAiYW5jaG9yX3kiOiAyLjB9fSwgeyJ0eXBlIjogIkZlYXR1cmUiLCAiZ2VvbWV0cnkiOiB7InR5cGUiOiAiUG9pbnQiLCAiY29vcmRpbmF0ZXMiOiBbLTc5LjI4MjgxNjU1NzEsIDQzLjgyNDQ5MjI3ODVdfSwgInByb3BlcnRpZXMiOiB7Imh0bWwiOiAiPHN2ZyB3aWR0aD1cIjRweFwiIGhlaWdodD1cIjRweFwiIHZpZXdCb3g9XCItMi4wIC0yLjAgNC4wIDQuMFwiIHhtbG5zPVwiaHR0cDovL3d3dy53My5vcmcvMjAwMC9zdmdcIiB2ZXJzaW9uPVwiMS4xXCI+ICA8cGF0aCBkPVwiTSAwLjAgLTEuNSBDIDAuMzk3ODA0NjUwMDAwMDAwMDQgLTEuNSAwLjc3OTM2OTgwNjE3NzI4MDIgLTEuMzQxOTUwNTM3MzgyMzYyNiAxLjA2MDY2MDE3MTc3OTgyMTQgLTEuMDYwNjYwMTcxNzc5ODIxNCBDIDEuMzQxOTUwNTM3MzgyMzYyNiAtMC43NzkzNjk4MDYxNzcyODAyIDEuNSAtMC4zOTc4MDQ2NTAwMDAwMDAwNCAxLjUgLTAuMCBDIDEuNSAwLjM5NzgwNDY1MDAwMDAwMDA0IDEuMzQxOTUwNTM3MzgyMzYyNiAwLjc3OTM2OTgwNjE3NzI4MDIgMS4wNjA2NjAxNzE3Nzk4MjE0IDEuMDYwNjYwMTcxNzc5ODIxNCBDIDAuNzc5MzY5ODA2MTc3MjgwMiAxLjM0MTk1MDUzNzM4MjM2MjYgMC4zOTc4MDQ2NTAwMDAwMDAwNCAxLjUgMC4wIDEuNSBDIC0wLjM5NzgwNDY1MDAwMDAwMDA0IDEuNSAtMC43NzkzNjk4MDYxNzcyODAyIDEuMzQxOTUwNTM3MzgyMzYyNiAtMS4wNjA2NjAxNzE3Nzk4MjE0IDEuMDYwNjYwMTcxNzc5ODIxNCBDIC0xLjM0MTk1MDUzNzM4MjM2MjYgMC43NzkzNjk4MDYxNzcyODAyIC0xLjUgMC4zOTc4MDQ2NTAwMDAwMDAwNCAtMS41IC0wLjAgQyAtMS41IC0wLjM5NzgwNDY1MDAwMDAwMDA0IC0xLjM0MTk1MDUzNzM4MjM2MjYgLTAuNzc5MzY5ODA2MTc3MjgwMiAtMS4wNjA2NjAxNzE3Nzk4MjE0IC0xLjA2MDY2MDE3MTc3OTgyMTQgQyAtMC43NzkzNjk4MDYxNzcyODAyIC0xLjM0MTk1MDUzNzM4MjM2MjYgLTAuMzk3ODA0NjUwMDAwMDAwMDQgLTEuNSAwLjAgLTEuNSBaXCIgc3Ryb2tlPVwiIzAwMDAwMFwiIHN0cm9rZS13aWR0aD1cIjEuMFwiIHN0cm9rZS1vcGFjaXR5PVwiMVwiIGZpbGw9XCIjMDAwMDAwXCIgZmlsbC1vcGFjaXR5PVwiMVwiIC8+PC9zdmc+IiwgImFuY2hvcl94IjogMi4wLCAiYW5jaG9yX3kiOiAyLjB9fSwgeyJ0eXBlIjogIkZlYXR1cmUiLCAiZ2VvbWV0cnkiOiB7InR5cGUiOiAiUG9pbnQiLCAiY29vcmRpbmF0ZXMiOiBbLTc5LjI4MzQ4NjMzNDQsIDQzLjgyMzg2Nzg3MjldfSwgInByb3BlcnRpZXMiOiB7Imh0bWwiOiAiPHN2ZyB3aWR0aD1cIjRweFwiIGhlaWdodD1cIjRweFwiIHZpZXdCb3g9XCItMi4wIC0yLjAgNC4wIDQuMFwiIHhtbG5zPVwiaHR0cDovL3d3dy53My5vcmcvMjAwMC9zdmdcIiB2ZXJzaW9uPVwiMS4xXCI+ICA8cGF0aCBkPVwiTSAwLjAgLTEuNSBDIDAuMzk3ODA0NjUwMDAwMDAwMDQgLTEuNSAwLjc3OTM2OTgwNjE3NzI4MDIgLTEuMzQxOTUwNTM3MzgyMzYyNiAxLjA2MDY2MDE3MTc3OTgyMTQgLTEuMDYwNjYwMTcxNzc5ODIxNCBDIDEuMzQxOTUwNTM3MzgyMzYyNiAtMC43NzkzNjk4MDYxNzcyODAyIDEuNSAtMC4zOTc4MDQ2NTAwMDAwMDAwNCAxLjUgLTAuMCBDIDEuNSAwLjM5NzgwNDY1MDAwMDAwMDA0IDEuMzQxOTUwNTM3MzgyMzYyNiAwLjc3OTM2OTgwNjE3NzI4MDIgMS4wNjA2NjAxNzE3Nzk4MjE0IDEuMDYwNjYwMTcxNzc5ODIxNCBDIDAuNzc5MzY5ODA2MTc3MjgwMiAxLjM0MTk1MDUzNzM4MjM2MjYgMC4zOTc4MDQ2NTAwMDAwMDAwNCAxLjUgMC4wIDEuNSBDIC0wLjM5NzgwNDY1MDAwMDAwMDA0IDEuNSAtMC43NzkzNjk4MDYxNzcyODAyIDEuMzQxOTUwNTM3MzgyMzYyNiAtMS4wNjA2NjAxNzE3Nzk4MjE0IDEuMDYwNjYwMTcxNzc5ODIxNCBDIC0xLjM0MTk1MDUzNzM4MjM2MjYgMC43NzkzNjk4MDYxNzcyODAyIC0xLjUgMC4zOTc4MDQ2NTAwMDAwMDAwNCAtMS41IC0wLjAgQyAtMS41IC0wLjM5NzgwNDY1MDAwMDAwMDA0IC0xLjM0MTk1MDUzNzM4MjM2MjYgLTAuNzc5MzY5ODA2MTc3MjgwMiAtMS4wNjA2NjAxNzE3Nzk4MjE0IC0xLjA2MDY2MDE3MTc3OTgyMTQgQyAtMC43NzkzNjk4MDYxNzcyODAyIC0xLjM0MTk1MDUzNzM4MjM2MjYgLTAuMzk3ODA0NjUwMDAwMDAwMDQgLTEuNSAwLjAgLTEuNSBaXCIgc3Ryb2tlPVwiIzAwMDAwMFwiIHN0cm9rZS13aWR0aD1cIjEuMFwiIHN0cm9rZS1vcGFjaXR5PVwiMVwiIGZpbGw9XCIjMDAwMDAwXCIgZmlsbC1vcGFjaXR5PVwiMVwiIC8+PC9zdmc+IiwgImFuY2hvcl94IjogMi4wLCAiYW5jaG9yX3kiOiAyLjB9fSwgeyJ0eXBlIjogIkZlYXR1cmUiLCAiZ2VvbWV0cnkiOiB7InR5cGUiOiAiUG9pbnQiLCAiY29vcmRpbmF0ZXMiOiBbLTc5LjM4MjExNzYxMTksIDQzLjY2OTMwNDU4MThdfSwgInByb3BlcnRpZXMiOiB7Imh0bWwiOiAiPHN2ZyB3aWR0aD1cIjRweFwiIGhlaWdodD1cIjRweFwiIHZpZXdCb3g9XCItMi4wIC0yLjAgNC4wIDQuMFwiIHhtbG5zPVwiaHR0cDovL3d3dy53My5vcmcvMjAwMC9zdmdcIiB2ZXJzaW9uPVwiMS4xXCI+ICA8cGF0aCBkPVwiTSAwLjAgLTEuNSBDIDAuMzk3ODA0NjUwMDAwMDAwMDQgLTEuNSAwLjc3OTM2OTgwNjE3NzI4MDIgLTEuMzQxOTUwNTM3MzgyMzYyNiAxLjA2MDY2MDE3MTc3OTgyMTQgLTEuMDYwNjYwMTcxNzc5ODIxNCBDIDEuMzQxOTUwNTM3MzgyMzYyNiAtMC43NzkzNjk4MDYxNzcyODAyIDEuNSAtMC4zOTc4MDQ2NTAwMDAwMDAwNCAxLjUgLTAuMCBDIDEuNSAwLjM5NzgwNDY1MDAwMDAwMDA0IDEuMzQxOTUwNTM3MzgyMzYyNiAwLjc3OTM2OTgwNjE3NzI4MDIgMS4wNjA2NjAxNzE3Nzk4MjE0IDEuMDYwNjYwMTcxNzc5ODIxNCBDIDAuNzc5MzY5ODA2MTc3MjgwMiAxLjM0MTk1MDUzNzM4MjM2MjYgMC4zOTc4MDQ2NTAwMDAwMDAwNCAxLjUgMC4wIDEuNSBDIC0wLjM5NzgwNDY1MDAwMDAwMDA0IDEuNSAtMC43NzkzNjk4MDYxNzcyODAyIDEuMzQxOTUwNTM3MzgyMzYyNiAtMS4wNjA2NjAxNzE3Nzk4MjE0IDEuMDYwNjYwMTcxNzc5ODIxNCBDIC0xLjM0MTk1MDUzNzM4MjM2MjYgMC43NzkzNjk4MDYxNzcyODAyIC0xLjUgMC4zOTc4MDQ2NTAwMDAwMDAwNCAtMS41IC0wLjAgQyAtMS41IC0wLjM5NzgwNDY1MDAwMDAwMDA0IC0xLjM0MTk1MDUzNzM4MjM2MjYgLTAuNzc5MzY5ODA2MTc3MjgwMiAtMS4wNjA2NjAxNzE3Nzk4MjE0IC0xLjA2MDY2MDE3MTc3OTgyMTQgQyAtMC43NzkzNjk4MDYxNzcyODAyIC0xLjM0MTk1MDUzNzM4MjM2MjYgLTAuMzk3ODA0NjUwMDAwMDAwMDQgLTEuNSAwLjAgLTEuNSBaXCIgc3Ryb2tlPVwiIzAwMDAwMFwiIHN0cm9rZS13aWR0aD1cIjEuMFwiIHN0cm9rZS1vcGFjaXR5PVwiMVwiIGZpbGw9XCIjMDAwMDAwXCIgZmlsbC1vcGFjaXR5PVwiMVwiIC8+PC9zdmc+IiwgImFuY2hvcl94IjogMi4wLCAiYW5jaG9yX3kiOiAyLjB9fSwgeyJ0eXBlIjogIkZlYXR1cmUiLCAiZ2VvbWV0cnkiOiB7InR5cGUiOiAiUG9pbnQiLCAiY29vcmRpbmF0ZXMiOiBbLTc5LjMzOTk1Mzk1MjcsIDQzLjY4Nzg1NjczNV19LCAicHJvcGVydGllcyI6IHsiaHRtbCI6ICI8c3ZnIHdpZHRoPVwiNHB4XCIgaGVpZ2h0PVwiNHB4XCIgdmlld0JveD1cIi0yLjAgLTIuMCA0LjAgNC4wXCIgeG1sbnM9XCJodHRwOi8vd3d3LnczLm9yZy8yMDAwL3N2Z1wiIHZlcnNpb249XCIxLjFcIj4gIDxwYXRoIGQ9XCJNIDAuMCAtMS41IEMgMC4zOTc4MDQ2NTAwMDAwMDAwNCAtMS41IDAuNzc5MzY5ODA2MTc3MjgwMiAtMS4zNDE5NTA1MzczODIzNjI2IDEuMDYwNjYwMTcxNzc5ODIxNCAtMS4wNjA2NjAxNzE3Nzk4MjE0IEMgMS4zNDE5NTA1MzczODIzNjI2IC0wLjc3OTM2OTgwNjE3NzI4MDIgMS41IC0wLjM5NzgwNDY1MDAwMDAwMDA0IDEuNSAtMC4wIEMgMS41IDAuMzk3ODA0NjUwMDAwMDAwMDQgMS4zNDE5NTA1MzczODIzNjI2IDAuNzc5MzY5ODA2MTc3MjgwMiAxLjA2MDY2MDE3MTc3OTgyMTQgMS4wNjA2NjAxNzE3Nzk4MjE0IEMgMC43NzkzNjk4MDYxNzcyODAyIDEuMzQxOTUwNTM3MzgyMzYyNiAwLjM5NzgwNDY1MDAwMDAwMDA0IDEuNSAwLjAgMS41IEMgLTAuMzk3ODA0NjUwMDAwMDAwMDQgMS41IC0wLjc3OTM2OTgwNjE3NzI4MDIgMS4zNDE5NTA1MzczODIzNjI2IC0xLjA2MDY2MDE3MTc3OTgyMTQgMS4wNjA2NjAxNzE3Nzk4MjE0IEMgLTEuMzQxOTUwNTM3MzgyMzYyNiAwLjc3OTM2OTgwNjE3NzI4MDIgLTEuNSAwLjM5NzgwNDY1MDAwMDAwMDA0IC0xLjUgLTAuMCBDIC0xLjUgLTAuMzk3ODA0NjUwMDAwMDAwMDQgLTEuMzQxOTUwNTM3MzgyMzYyNiAtMC43NzkzNjk4MDYxNzcyODAyIC0xLjA2MDY2MDE3MTc3OTgyMTQgLTEuMDYwNjYwMTcxNzc5ODIxNCBDIC0wLjc3OTM2OTgwNjE3NzI4MDIgLTEuMzQxOTUwNTM3MzgyMzYyNiAtMC4zOTc4MDQ2NTAwMDAwMDAwNCAtMS41IDAuMCAtMS41IFpcIiBzdHJva2U9XCIjMDAwMDAwXCIgc3Ryb2tlLXdpZHRoPVwiMS4wXCIgc3Ryb2tlLW9wYWNpdHk9XCIxXCIgZmlsbD1cIiMwMDAwMDBcIiBmaWxsLW9wYWNpdHk9XCIxXCIgLz48L3N2Zz4iLCAiYW5jaG9yX3giOiAyLjAsICJhbmNob3JfeSI6IDIuMH19LCB7InR5cGUiOiAiRmVhdHVyZSIsICJnZW9tZXRyeSI6IHsidHlwZSI6ICJQb2ludCIsICJjb29yZGluYXRlcyI6IFstNzkuMzI5Nzc4NDU3NCwgNDMuNjg2OTc1MTk1Ml19LCAicHJvcGVydGllcyI6IHsiaHRtbCI6ICI8c3ZnIHdpZHRoPVwiNHB4XCIgaGVpZ2h0PVwiNHB4XCIgdmlld0JveD1cIi0yLjAgLTIuMCA0LjAgNC4wXCIgeG1sbnM9XCJodHRwOi8vd3d3LnczLm9yZy8yMDAwL3N2Z1wiIHZlcnNpb249XCIxLjFcIj4gIDxwYXRoIGQ9XCJNIDAuMCAtMS41IEMgMC4zOTc4MDQ2NTAwMDAwMDAwNCAtMS41IDAuNzc5MzY5ODA2MTc3MjgwMiAtMS4zNDE5NTA1MzczODIzNjI2IDEuMDYwNjYwMTcxNzc5ODIxNCAtMS4wNjA2NjAxNzE3Nzk4MjE0IEMgMS4zNDE5NTA1MzczODIzNjI2IC0wLjc3OTM2OTgwNjE3NzI4MDIgMS41IC0wLjM5NzgwNDY1MDAwMDAwMDA0IDEuNSAtMC4wIEMgMS41IDAuMzk3ODA0NjUwMDAwMDAwMDQgMS4zNDE5NTA1MzczODIzNjI2IDAuNzc5MzY5ODA2MTc3MjgwMiAxLjA2MDY2MDE3MTc3OTgyMTQgMS4wNjA2NjAxNzE3Nzk4MjE0IEMgMC43NzkzNjk4MDYxNzcyODAyIDEuMzQxOTUwNTM3MzgyMzYyNiAwLjM5NzgwNDY1MDAwMDAwMDA0IDEuNSAwLjAgMS41IEMgLTAuMzk3ODA0NjUwMDAwMDAwMDQgMS41IC0wLjc3OTM2OTgwNjE3NzI4MDIgMS4zNDE5NTA1MzczODIzNjI2IC0xLjA2MDY2MDE3MTc3OTgyMTQgMS4wNjA2NjAxNzE3Nzk4MjE0IEMgLTEuMzQxOTUwNTM3MzgyMzYyNiAwLjc3OTM2OTgwNjE3NzI4MDIgLTEuNSAwLjM5NzgwNDY1MDAwMDAwMDA0IC0xLjUgLTAuMCBDIC0xLjUgLTAuMzk3ODA0NjUwMDAwMDAwMDQgLTEuMzQxOTUwNTM3MzgyMzYyNiAtMC43NzkzNjk4MDYxNzcyODAyIC0xLjA2MDY2MDE3MTc3OTgyMTQgLTEuMDYwNjYwMTcxNzc5ODIxNCBDIC0wLjc3OTM2OTgwNjE3NzI4MDIgLTEuMzQxOTUwNTM3MzgyMzYyNiAtMC4zOTc4MDQ2NTAwMDAwMDAwNCAtMS41IDAuMCAtMS41IFpcIiBzdHJva2U9XCIjMDAwMDAwXCIgc3Ryb2tlLXdpZHRoPVwiMS4wXCIgc3Ryb2tlLW9wYWNpdHk9XCIxXCIgZmlsbD1cIiMwMDAwMDBcIiBmaWxsLW9wYWNpdHk9XCIxXCIgLz48L3N2Zz4iLCAiYW5jaG9yX3giOiAyLjAsICJhbmNob3JfeSI6IDIuMH19LCB7InR5cGUiOiAiRmVhdHVyZSIsICJnZW9tZXRyeSI6IHsidHlwZSI6ICJQb2ludCIsICJjb29yZGluYXRlcyI6IFstNzkuMzI3MzEzNTU2LCA0My42OTA2NTQzODY1XX0sICJwcm9wZXJ0aWVzIjogeyJodG1sIjogIjxzdmcgd2lkdGg9XCI0cHhcIiBoZWlnaHQ9XCI0cHhcIiB2aWV3Qm94PVwiLTIuMCAtMi4wIDQuMCA0LjBcIiB4bWxucz1cImh0dHA6Ly93d3cudzMub3JnLzIwMDAvc3ZnXCIgdmVyc2lvbj1cIjEuMVwiPiAgPHBhdGggZD1cIk0gMC4wIC0xLjUgQyAwLjM5NzgwNDY1MDAwMDAwMDA0IC0xLjUgMC43NzkzNjk4MDYxNzcyODAyIC0xLjM0MTk1MDUzNzM4MjM2MjYgMS4wNjA2NjAxNzE3Nzk4MjE0IC0xLjA2MDY2MDE3MTc3OTgyMTQgQyAxLjM0MTk1MDUzNzM4MjM2MjYgLTAuNzc5MzY5ODA2MTc3MjgwMiAxLjUgLTAuMzk3ODA0NjUwMDAwMDAwMDQgMS41IC0wLjAgQyAxLjUgMC4zOTc4MDQ2NTAwMDAwMDAwNCAxLjM0MTk1MDUzNzM4MjM2MjYgMC43NzkzNjk4MDYxNzcyODAyIDEuMDYwNjYwMTcxNzc5ODIxNCAxLjA2MDY2MDE3MTc3OTgyMTQgQyAwLjc3OTM2OTgwNjE3NzI4MDIgMS4zNDE5NTA1MzczODIzNjI2IDAuMzk3ODA0NjUwMDAwMDAwMDQgMS41IDAuMCAxLjUgQyAtMC4zOTc4MDQ2NTAwMDAwMDAwNCAxLjUgLTAuNzc5MzY5ODA2MTc3MjgwMiAxLjM0MTk1MDUzNzM4MjM2MjYgLTEuMDYwNjYwMTcxNzc5ODIxNCAxLjA2MDY2MDE3MTc3OTgyMTQgQyAtMS4zNDE5NTA1MzczODIzNjI2IDAuNzc5MzY5ODA2MTc3MjgwMiAtMS41IDAuMzk3ODA0NjUwMDAwMDAwMDQgLTEuNSAtMC4wIEMgLTEuNSAtMC4zOTc4MDQ2NTAwMDAwMDAwNCAtMS4zNDE5NTA1MzczODIzNjI2IC0wLjc3OTM2OTgwNjE3NzI4MDIgLTEuMDYwNjYwMTcxNzc5ODIxNCAtMS4wNjA2NjAxNzE3Nzk4MjE0IEMgLTAuNzc5MzY5ODA2MTc3MjgwMiAtMS4zNDE5NTA1MzczODIzNjI2IC0wLjM5NzgwNDY1MDAwMDAwMDA0IC0xLjUgMC4wIC0xLjUgWlwiIHN0cm9rZT1cIiMwMDAwMDBcIiBzdHJva2Utd2lkdGg9XCIxLjBcIiBzdHJva2Utb3BhY2l0eT1cIjFcIiBmaWxsPVwiIzAwMDAwMFwiIGZpbGwtb3BhY2l0eT1cIjFcIiAvPjwvc3ZnPiIsICJhbmNob3JfeCI6IDIuMCwgImFuY2hvcl95IjogMi4wfX0sIHsidHlwZSI6ICJGZWF0dXJlIiwgImdlb21ldHJ5IjogeyJ0eXBlIjogIlBvaW50IiwgImNvb3JkaW5hdGVzIjogWy03OS4zMTQ1ODMzNDkzLCA0My42OTUzNzA0Mzg1XX0sICJwcm9wZXJ0aWVzIjogeyJodG1sIjogIjxzdmcgd2lkdGg9XCI0cHhcIiBoZWlnaHQ9XCI0cHhcIiB2aWV3Qm94PVwiLTIuMCAtMi4wIDQuMCA0LjBcIiB4bWxucz1cImh0dHA6Ly93d3cudzMub3JnLzIwMDAvc3ZnXCIgdmVyc2lvbj1cIjEuMVwiPiAgPHBhdGggZD1cIk0gMC4wIC0xLjUgQyAwLjM5NzgwNDY1MDAwMDAwMDA0IC0xLjUgMC43NzkzNjk4MDYxNzcyODAyIC0xLjM0MTk1MDUzNzM4MjM2MjYgMS4wNjA2NjAxNzE3Nzk4MjE0IC0xLjA2MDY2MDE3MTc3OTgyMTQgQyAxLjM0MTk1MDUzNzM4MjM2MjYgLTAuNzc5MzY5ODA2MTc3MjgwMiAxLjUgLTAuMzk3ODA0NjUwMDAwMDAwMDQgMS41IC0wLjAgQyAxLjUgMC4zOTc4MDQ2NTAwMDAwMDAwNCAxLjM0MTk1MDUzNzM4MjM2MjYgMC43NzkzNjk4MDYxNzcyODAyIDEuMDYwNjYwMTcxNzc5ODIxNCAxLjA2MDY2MDE3MTc3OTgyMTQgQyAwLjc3OTM2OTgwNjE3NzI4MDIgMS4zNDE5NTA1MzczODIzNjI2IDAuMzk3ODA0NjUwMDAwMDAwMDQgMS41IDAuMCAxLjUgQyAtMC4zOTc4MDQ2NTAwMDAwMDAwNCAxLjUgLTAuNzc5MzY5ODA2MTc3MjgwMiAxLjM0MTk1MDUzNzM4MjM2MjYgLTEuMDYwNjYwMTcxNzc5ODIxNCAxLjA2MDY2MDE3MTc3OTgyMTQgQyAtMS4zNDE5NTA1MzczODIzNjI2IDAuNzc5MzY5ODA2MTc3MjgwMiAtMS41IDAuMzk3ODA0NjUwMDAwMDAwMDQgLTEuNSAtMC4wIEMgLTEuNSAtMC4zOTc4MDQ2NTAwMDAwMDAwNCAtMS4zNDE5NTA1MzczODIzNjI2IC0wLjc3OTM2OTgwNjE3NzI4MDIgLTEuMDYwNjYwMTcxNzc5ODIxNCAtMS4wNjA2NjAxNzE3Nzk4MjE0IEMgLTAuNzc5MzY5ODA2MTc3MjgwMiAtMS4zNDE5NTA1MzczODIzNjI2IC0wLjM5NzgwNDY1MDAwMDAwMDA0IC0xLjUgMC4wIC0xLjUgWlwiIHN0cm9rZT1cIiMwMDAwMDBcIiBzdHJva2Utd2lkdGg9XCIxLjBcIiBzdHJva2Utb3BhY2l0eT1cIjFcIiBmaWxsPVwiIzAwMDAwMFwiIGZpbGwtb3BhY2l0eT1cIjFcIiAvPjwvc3ZnPiIsICJhbmNob3JfeCI6IDIuMCwgImFuY2hvcl95IjogMi4wfX0sIHsidHlwZSI6ICJGZWF0dXJlIiwgImdlb21ldHJ5IjogeyJ0eXBlIjogIlBvaW50IiwgImNvb3JkaW5hdGVzIjogWy03OS40MDkzMjYyNjA1LCA0My42NzQ2NDE5ODQ0XX0sICJwcm9wZXJ0aWVzIjogeyJodG1sIjogIjxzdmcgd2lkdGg9XCI0cHhcIiBoZWlnaHQ9XCI0cHhcIiB2aWV3Qm94PVwiLTIuMCAtMi4wIDQuMCA0LjBcIiB4bWxucz1cImh0dHA6Ly93d3cudzMub3JnLzIwMDAvc3ZnXCIgdmVyc2lvbj1cIjEuMVwiPiAgPHBhdGggZD1cIk0gMC4wIC0xLjUgQyAwLjM5NzgwNDY1MDAwMDAwMDA0IC0xLjUgMC43NzkzNjk4MDYxNzcyODAyIC0xLjM0MTk1MDUzNzM4MjM2MjYgMS4wNjA2NjAxNzE3Nzk4MjE0IC0xLjA2MDY2MDE3MTc3OTgyMTQgQyAxLjM0MTk1MDUzNzM4MjM2MjYgLTAuNzc5MzY5ODA2MTc3MjgwMiAxLjUgLTAuMzk3ODA0NjUwMDAwMDAwMDQgMS41IC0wLjAgQyAxLjUgMC4zOTc4MDQ2NTAwMDAwMDAwNCAxLjM0MTk1MDUzNzM4MjM2MjYgMC43NzkzNjk4MDYxNzcyODAyIDEuMDYwNjYwMTcxNzc5ODIxNCAxLjA2MDY2MDE3MTc3OTgyMTQgQyAwLjc3OTM2OTgwNjE3NzI4MDIgMS4zNDE5NTA1MzczODIzNjI2IDAuMzk3ODA0NjUwMDAwMDAwMDQgMS41IDAuMCAxLjUgQyAtMC4zOTc4MDQ2NTAwMDAwMDAwNCAxLjUgLTAuNzc5MzY5ODA2MTc3MjgwMiAxLjM0MTk1MDUzNzM4MjM2MjYgLTEuMDYwNjYwMTcxNzc5ODIxNCAxLjA2MDY2MDE3MTc3OTgyMTQgQyAtMS4zNDE5NTA1MzczODIzNjI2IDAuNzc5MzY5ODA2MTc3MjgwMiAtMS41IDAuMzk3ODA0NjUwMDAwMDAwMDQgLTEuNSAtMC4wIEMgLTEuNSAtMC4zOTc4MDQ2NTAwMDAwMDAwNCAtMS4zNDE5NTA1MzczODIzNjI2IC0wLjc3OTM2OTgwNjE3NzI4MDIgLTEuMDYwNjYwMTcxNzc5ODIxNCAtMS4wNjA2NjAxNzE3Nzk4MjE0IEMgLTAuNzc5MzY5ODA2MTc3MjgwMiAtMS4zNDE5NTA1MzczODIzNjI2IC0wLjM5NzgwNDY1MDAwMDAwMDA0IC0xLjUgMC4wIC0xLjUgWlwiIHN0cm9rZT1cIiMwMDAwMDBcIiBzdHJva2Utd2lkdGg9XCIxLjBcIiBzdHJva2Utb3BhY2l0eT1cIjFcIiBmaWxsPVwiIzAwMDAwMFwiIGZpbGwtb3BhY2l0eT1cIjFcIiAvPjwvc3ZnPiIsICJhbmNob3JfeCI6IDIuMCwgImFuY2hvcl95IjogMi4wfX0sIHsidHlwZSI6ICJGZWF0dXJlIiwgImdlb21ldHJ5IjogeyJ0eXBlIjogIlBvaW50IiwgImNvb3JkaW5hdGVzIjogWy03OS4zNTYyODYzODgsIDQzLjY1NjUwMTk0OV19LCAicHJvcGVydGllcyI6IHsiaHRtbCI6ICI8c3ZnIHdpZHRoPVwiNHB4XCIgaGVpZ2h0PVwiNHB4XCIgdmlld0JveD1cIi0yLjAgLTIuMCA0LjAgNC4wXCIgeG1sbnM9XCJodHRwOi8vd3d3LnczLm9yZy8yMDAwL3N2Z1wiIHZlcnNpb249XCIxLjFcIj4gIDxwYXRoIGQ9XCJNIDAuMCAtMS41IEMgMC4zOTc4MDQ2NTAwMDAwMDAwNCAtMS41IDAuNzc5MzY5ODA2MTc3MjgwMiAtMS4zNDE5NTA1MzczODIzNjI2IDEuMDYwNjYwMTcxNzc5ODIxNCAtMS4wNjA2NjAxNzE3Nzk4MjE0IEMgMS4zNDE5NTA1MzczODIzNjI2IC0wLjc3OTM2OTgwNjE3NzI4MDIgMS41IC0wLjM5NzgwNDY1MDAwMDAwMDA0IDEuNSAtMC4wIEMgMS41IDAuMzk3ODA0NjUwMDAwMDAwMDQgMS4zNDE5NTA1MzczODIzNjI2IDAuNzc5MzY5ODA2MTc3MjgwMiAxLjA2MDY2MDE3MTc3OTgyMTQgMS4wNjA2NjAxNzE3Nzk4MjE0IEMgMC43NzkzNjk4MDYxNzcyODAyIDEuMzQxOTUwNTM3MzgyMzYyNiAwLjM5NzgwNDY1MDAwMDAwMDA0IDEuNSAwLjAgMS41IEMgLTAuMzk3ODA0NjUwMDAwMDAwMDQgMS41IC0wLjc3OTM2OTgwNjE3NzI4MDIgMS4zNDE5NTA1MzczODIzNjI2IC0xLjA2MDY2MDE3MTc3OTgyMTQgMS4wNjA2NjAxNzE3Nzk4MjE0IEMgLTEuMzQxOTUwNTM3MzgyMzYyNiAwLjc3OTM2OTgwNjE3NzI4MDIgLTEuNSAwLjM5NzgwNDY1MDAwMDAwMDA0IC0xLjUgLTAuMCBDIC0xLjUgLTAuMzk3ODA0NjUwMDAwMDAwMDQgLTEuMzQxOTUwNTM3MzgyMzYyNiAtMC43NzkzNjk4MDYxNzcyODAyIC0xLjA2MDY2MDE3MTc3OTgyMTQgLTEuMDYwNjYwMTcxNzc5ODIxNCBDIC0wLjc3OTM2OTgwNjE3NzI4MDIgLTEuMzQxOTUwNTM3MzgyMzYyNiAtMC4zOTc4MDQ2NTAwMDAwMDAwNCAtMS41IDAuMCAtMS41IFpcIiBzdHJva2U9XCIjMDAwMDAwXCIgc3Ryb2tlLXdpZHRoPVwiMS4wXCIgc3Ryb2tlLW9wYWNpdHk9XCIxXCIgZmlsbD1cIiMwMDAwMDBcIiBmaWxsLW9wYWNpdHk9XCIxXCIgLz48L3N2Zz4iLCAiYW5jaG9yX3giOiAyLjAsICJhbmNob3JfeSI6IDIuMH19XX07CgppZiAoZ2pEYXRhLmZlYXR1cmVzLmxlbmd0aCAhPSAwKSB7CiAgdmFyIGdqID0gTC5nZW9Kc29uKGdqRGF0YSwgewogICAgc3R5bGU6IGZ1bmN0aW9uIChmZWF0dXJlKSB7CiAgICAgIHJldHVybiBmZWF0dXJlLnByb3BlcnRpZXM7CiAgICB9LAogICAgcG9pbnRUb0xheWVyOiBmdW5jdGlvbiAoZmVhdHVyZSwgbGF0bG5nKSB7CiAgICAgIHZhciBpY29uID0gTC5kaXZJY29uKHsnaHRtbCc6IGZlYXR1cmUucHJvcGVydGllcy5odG1sLCAKICAgICAgICBpY29uQW5jaG9yOiBbZmVhdHVyZS5wcm9wZXJ0aWVzLmFuY2hvcl94LCAKICAgICAgICAgICAgICAgICAgICAgZmVhdHVyZS5wcm9wZXJ0aWVzLmFuY2hvcl95XSwgCiAgICAgICAgICBjbGFzc05hbWU6ICdlbXB0eSd9KTsgIC8vIFdoYXQgY2FuIEkgZG8gYWJvdXQgZW1wdHk/CiAgICAgIHJldHVybiBMLm1hcmtlcihsYXRsbmcsIHtpY29uOiBpY29ufSk7CiAgICB9CiAgfSk7CiAgZ2ouYWRkVG8obWFwKTsKICAKICBtYXAuZml0Qm91bmRzKGdqLmdldEJvdW5kcygpKTsKfSBlbHNlIHsKICBtYXAuc2V0VmlldyhbMCwgMF0sIDEpOwp9Cjwvc2NyaXB0Pgo8L2JvZHk+\" width=\"100%\" height=\"600\"></iframe>"
      ],
      "text/plain": [
       "<IPython.core.display.HTML object>"
      ]
     },
     "execution_count": 19,
     "metadata": {},
     "output_type": "execute_result"
    }
   ],
   "source": [
    "# plot on plotlib\n",
    "fig,ax=plt.subplots(figsize=(10,10))\n",
    "plt.plot(slow_long_r, slow_lat_r, 'rs') # slow repair\n",
    "plt.plot(fast_long_r, fast_lat_r, 'gs') # fast repair\n",
    "plt.plot(slow_long, slow_lat, 'b.') # slow investigation\n",
    "plt.plot(fast_long, fast_lat, 'k.') # fast investigation\n",
    "# display mplleaflet within notebook\n",
    "mplleaflet.display()"
   ]
  },
  {
   "cell_type": "code",
   "execution_count": 20,
   "metadata": {},
   "outputs": [],
   "source": [
    "# on html file\n",
    "mplleaflet.show(path='pot_holes.html')"
   ]
  },
  {
   "cell_type": "markdown",
   "metadata": {},
   "source": [
    "### Final Visualization\n",
    "We see slow repairs for the areas near downtown core. We see that the city is fast at investigating reports in the NW side of the city. \n",
    "\n",
    "The scope of this tutorial was to cover the steps to gathering and preparing data ready for analysis. We did not delve into the analysis portion much in this tutorial but unexplored columns in our Pandas raw dataframe are now cleaned and available for your to explore on your own. Some interesting tips would be to look at submitted photos of the pot holes in the reports (under medua_url column). Image analysis is a fascinating area of data science with many open source projects in the area to get involved with. "
   ]
  }
 ],
 "metadata": {
  "kernelspec": {
   "display_name": "311_api",
   "language": "python",
   "name": "311_api"
  },
  "language_info": {
   "codemirror_mode": {
    "name": "ipython",
    "version": 3
   },
   "file_extension": ".py",
   "mimetype": "text/x-python",
   "name": "python",
   "nbconvert_exporter": "python",
   "pygments_lexer": "ipython3",
   "version": "3.6.6"
  }
 },
 "nbformat": 4,
 "nbformat_minor": 2
}
